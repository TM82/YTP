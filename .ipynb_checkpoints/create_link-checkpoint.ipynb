{
 "cells": [
  {
   "cell_type": "code",
   "execution_count": 80,
   "metadata": {
    "collapsed": true
   },
   "outputs": [],
   "source": [
    "import copy\n",
    "import numpy as np\n",
    "import os\n",
    "import pandas as pd\n",
    "pd.options.display.max_rows = 8"
   ]
  },
  {
   "cell_type": "markdown",
   "metadata": {},
   "source": [
    "## 使い方\n",
    "- pathを変更する"
   ]
  },
  {
   "cell_type": "code",
   "execution_count": 117,
   "metadata": {
    "collapsed": true
   },
   "outputs": [],
   "source": [
    "paths = ['tfidf_text/0thLayer','tfidf_text/1stLayer','tfidf_text/2ndLayer']"
   ]
  },
  {
   "cell_type": "code",
   "execution_count": 120,
   "metadata": {
    "collapsed": false
   },
   "outputs": [],
   "source": [
    "all_nodes = set()\n",
    "link_dict = dict()\n",
    "link_df = pd.DataFrame(columns=['from','to','value'])\n",
    "\n",
    "querys = [os.path.splitext(x)[0] for x in os.listdir('tfidf_text/0thLayer')]\n",
    "for path in paths:\n",
    "    next_querys = []\n",
    "    for query in querys:\n",
    "        if not query.startswith('.'):\n",
    "            all_nodes.add(query)\n",
    "            link_dict[query] = []\n",
    "            records = []\n",
    "            try:\n",
    "                file = open('{0}/{1}.txt'.format(path,query),'r')\n",
    "            except FileNotFoundError:\n",
    "                continue\n",
    "            lines = file.readlines()\n",
    "            for i in range(5): #TF値上位5個\n",
    "                to_query = lines[i].split(',')[0][2:-1]\n",
    "                value = float(lines[i].split(',')[1][1:-2])\n",
    "                if not query == to_query:  #セルフノード削除(例外処理)\n",
    "                    all_nodes.add(to_query)\n",
    "                    link_dict[query].append(to_query)\n",
    "                    records.append([query, to_query, value])\n",
    "                    next_querys.append(to_query)\n",
    "            df_ = pd.DataFrame(records,columns=link_df.columns)\n",
    "            link_df = link_df.append(df_)\n",
    "            \n",
    "    querys = next_querys\n",
    "\n",
    "link_df = link_df.reset_index(drop=True)"
   ]
  },
  {
   "cell_type": "code",
   "execution_count": 121,
   "metadata": {
    "collapsed": false
   },
   "outputs": [],
   "source": [
    "# link_df.to_csv('links.csv',encoding='utf-8',index=False)"
   ]
  },
  {
   "cell_type": "code",
   "execution_count": 122,
   "metadata": {
    "collapsed": false
   },
   "outputs": [],
   "source": [
    "#link_df = pd.read_csv('links.csv')"
   ]
  },
  {
   "cell_type": "code",
   "execution_count": 123,
   "metadata": {
    "collapsed": false
   },
   "outputs": [
    {
     "data": {
      "text/html": [
       "<div>\n",
       "<table border=\"1\" class=\"dataframe\">\n",
       "  <thead>\n",
       "    <tr style=\"text-align: right;\">\n",
       "      <th></th>\n",
       "      <th>from</th>\n",
       "      <th>to</th>\n",
       "      <th>value</th>\n",
       "    </tr>\n",
       "  </thead>\n",
       "  <tbody>\n",
       "    <tr>\n",
       "      <th>0</th>\n",
       "      <td>慶應義塾大学</td>\n",
       "      <td>研究</td>\n",
       "      <td>0.025952</td>\n",
       "    </tr>\n",
       "    <tr>\n",
       "      <th>1</th>\n",
       "      <td>慶應義塾大学</td>\n",
       "      <td>学部</td>\n",
       "      <td>0.022282</td>\n",
       "    </tr>\n",
       "    <tr>\n",
       "      <th>2</th>\n",
       "      <td>慶應義塾大学</td>\n",
       "      <td>月</td>\n",
       "      <td>0.020959</td>\n",
       "    </tr>\n",
       "    <tr>\n",
       "      <th>3</th>\n",
       "      <td>慶應義塾大学</td>\n",
       "      <td>学生</td>\n",
       "      <td>0.020782</td>\n",
       "    </tr>\n",
       "    <tr>\n",
       "      <th>...</th>\n",
       "      <td>...</td>\n",
       "      <td>...</td>\n",
       "      <td>...</td>\n",
       "    </tr>\n",
       "    <tr>\n",
       "      <th>443</th>\n",
       "      <td>学科</td>\n",
       "      <td>社会</td>\n",
       "      <td>0.041647</td>\n",
       "    </tr>\n",
       "    <tr>\n",
       "      <th>444</th>\n",
       "      <td>学科</td>\n",
       "      <td>専門</td>\n",
       "      <td>0.032136</td>\n",
       "    </tr>\n",
       "    <tr>\n",
       "      <th>445</th>\n",
       "      <td>学科</td>\n",
       "      <td>福祉</td>\n",
       "      <td>0.030243</td>\n",
       "    </tr>\n",
       "    <tr>\n",
       "      <th>446</th>\n",
       "      <td>学科</td>\n",
       "      <td>紹介</td>\n",
       "      <td>0.028814</td>\n",
       "    </tr>\n",
       "  </tbody>\n",
       "</table>\n",
       "<p>447 rows × 3 columns</p>\n",
       "</div>"
      ],
      "text/plain": [
       "       from  to     value\n",
       "0    慶應義塾大学  研究  0.025952\n",
       "1    慶應義塾大学  学部  0.022282\n",
       "2    慶應義塾大学   月  0.020959\n",
       "3    慶應義塾大学  学生  0.020782\n",
       "..      ...  ..       ...\n",
       "443      学科  社会  0.041647\n",
       "444      学科  専門  0.032136\n",
       "445      学科  福祉  0.030243\n",
       "446      学科  紹介  0.028814\n",
       "\n",
       "[447 rows x 3 columns]"
      ]
     },
     "execution_count": 123,
     "metadata": {},
     "output_type": "execute_result"
    }
   ],
   "source": [
    "link_df"
   ]
  },
  {
   "cell_type": "markdown",
   "metadata": {},
   "source": [
    "初期化"
   ]
  },
  {
   "cell_type": "code",
   "execution_count": 124,
   "metadata": {
    "collapsed": false
   },
   "outputs": [
    {
     "data": {
      "text/plain": [
       "84"
      ]
     },
     "execution_count": 124,
     "metadata": {},
     "output_type": "execute_result"
    }
   ],
   "source": [
    "len(link_dict)"
   ]
  },
  {
   "cell_type": "code",
   "execution_count": 125,
   "metadata": {
    "collapsed": false
   },
   "outputs": [
    {
     "data": {
      "text/plain": [
       "214"
      ]
     },
     "execution_count": 125,
     "metadata": {},
     "output_type": "execute_result"
    }
   ],
   "source": [
    "len(all_nodes)"
   ]
  },
  {
   "cell_type": "code",
   "execution_count": 126,
   "metadata": {
    "collapsed": false
   },
   "outputs": [
    {
     "data": {
      "text/plain": [
       "447"
      ]
     },
     "execution_count": 126,
     "metadata": {},
     "output_type": "execute_result"
    }
   ],
   "source": [
    "len(link_df)"
   ]
  },
  {
   "cell_type": "code",
   "execution_count": 127,
   "metadata": {
    "collapsed": false
   },
   "outputs": [],
   "source": [
    "tmp = pd.DataFrame()\n",
    "tmp['from'] = link_df['to']\n",
    "tmp['to'] = link_df['from']\n",
    "tmp['value'] = link_df['value']\n",
    "link_df = link_df.append(tmp)\n",
    "link_df.reset_index(drop=True)\n",
    "\n",
    "new_link_dict = copy.deepcopy(link_dict)\n",
    "for key,value in link_dict.items():\n",
    "    for val in value:\n",
    "        if val in link_dict.keys():\n",
    "            new_link_dict[val].append(key)\n",
    "        else:\n",
    "            new_link_dict[val] = [key]\n",
    "link_dict = new_link_dict"
   ]
  },
  {
   "cell_type": "code",
   "execution_count": 128,
   "metadata": {
    "collapsed": true
   },
   "outputs": [],
   "source": [
    "univs = {\n",
    "    \"東京大学\":\"from_ut\",\n",
    "    \"京都大学\":\"from_ky\",\n",
    "    \"早稲田大学\":\"from_wa\",\n",
    "    \"慶應義塾大学\":\"from_ko\",\n",
    "    \"明治大学\":\"from_me\"\n",
    "}"
   ]
  },
  {
   "cell_type": "markdown",
   "metadata": {},
   "source": [
    "df版"
   ]
  },
  {
   "cell_type": "code",
   "execution_count": 129,
   "metadata": {
    "collapsed": true
   },
   "outputs": [],
   "source": [
    "# node_df = pd.DataFrame(\n",
    "#     index=range(len(all_nodes)), \n",
    "#     columns=[\n",
    "#         'query',\n",
    "#         'from_ut',\n",
    "#         'from_ky',\n",
    "#         'from_wa',\n",
    "#         'from_ko',\n",
    "#         'from_me',\n",
    "# #         'label',\n",
    "# #         'shortest_step'\n",
    "#     ])\n",
    "# node_df['query'] = list(all_nodes)\n",
    "# node_df = node_df.fillna(float(99))"
   ]
  },
  {
   "cell_type": "code",
   "execution_count": 130,
   "metadata": {
    "collapsed": false
   },
   "outputs": [],
   "source": [
    "# for key, value in univs.items():\n",
    "#     node_df.loc[node_df['query'] == key, value] = 0"
   ]
  },
  {
   "cell_type": "code",
   "execution_count": 131,
   "metadata": {
    "collapsed": true
   },
   "outputs": [],
   "source": [
    "# from_querys = univs.keys()"
   ]
  },
  {
   "cell_type": "code",
   "execution_count": 132,
   "metadata": {
    "collapsed": true
   },
   "outputs": [],
   "source": [
    "# next_step = link_df[link_df['from'].isin(from_querys)]"
   ]
  },
  {
   "cell_type": "code",
   "execution_count": 133,
   "metadata": {
    "collapsed": false
   },
   "outputs": [],
   "source": [
    "# for from_query in from_querys:\n",
    "#     value = node_df.loc[node_df['query'] == from_query,univs.values()]\n",
    "#     for to_query in link_dict[from_query]:\n",
    "#         for column in univs.values():\n",
    "#             node_df.loc[node_df['query'] == to_query, column] = value"
   ]
  },
  {
   "cell_type": "markdown",
   "metadata": {},
   "source": [
    "dict版"
   ]
  },
  {
   "cell_type": "code",
   "execution_count": 134,
   "metadata": {
    "collapsed": true
   },
   "outputs": [],
   "source": [
    "def check_layer(from_querys,node_dict,link_dict,univs):\n",
    "    for from_query in from_querys:\n",
    "        distance_dict = copy.deepcopy(node_dict[from_query])\n",
    "        for key in distance_dict.keys():\n",
    "            distance_dict[key] += 1\n",
    "        try:\n",
    "            for to_query in link_dict[from_query]:\n",
    "                for key in univs.values():\n",
    "                    node_dict[to_query][key] = min(distance_dict[key],node_dict[to_query][key])\n",
    "        except KeyError:\n",
    "            pass\n",
    "    \n",
    "    return node_dict"
   ]
  },
  {
   "cell_type": "code",
   "execution_count": 135,
   "metadata": {
    "collapsed": true
   },
   "outputs": [],
   "source": [
    "def get_next_from_querys(link_df,from_querys):\n",
    "    next_step = link_df[link_df['from'].isin(from_querys)]\n",
    "    \n",
    "    return list(next_step['to'])"
   ]
  },
  {
   "cell_type": "code",
   "execution_count": 136,
   "metadata": {
    "collapsed": false
   },
   "outputs": [],
   "source": [
    "node_dict = {}\n",
    "for query in all_nodes:\n",
    "    node_dict[query] = {\n",
    "    \"from_ut\":99,\n",
    "    \"from_ky\":99,\n",
    "    \"from_wa\":99,\n",
    "    \"from_ko\":99,\n",
    "    \"from_me\":99\n",
    "}\n",
    "\n",
    "#初期化\n",
    "node_dict[\"東京大学\"][\"from_ut\"] = 0\n",
    "node_dict[\"京都大学\"][\"from_ky\"] = 0\n",
    "node_dict[\"早稲田大学\"][\"from_wa\"] = 0\n",
    "node_dict[\"慶應義塾大学\"][\"from_ko\"] = 0\n",
    "node_dict[\"明治大学\"][\"from_me\"] = 0"
   ]
  },
  {
   "cell_type": "code",
   "execution_count": 137,
   "metadata": {
    "collapsed": true
   },
   "outputs": [],
   "source": [
    "#1層目\n",
    "from_querys = list(univs.keys())"
   ]
  },
  {
   "cell_type": "code",
   "execution_count": 138,
   "metadata": {
    "collapsed": false
   },
   "outputs": [],
   "source": [
    "for x in range(30):\n",
    "    node_dict = check_layer(from_querys,node_dict,link_dict,univs)\n",
    "    from_querys = get_next_from_querys(link_df,from_querys)"
   ]
  },
  {
   "cell_type": "code",
   "execution_count": 139,
   "metadata": {
    "collapsed": false
   },
   "outputs": [],
   "source": [
    "list_of_list = []\n",
    "for key, value in node_dict.items():\n",
    "    list_of_list.append([key,value['from_ut'],value['from_ky'],value['from_wa'],value['from_ko'],value['from_me']])\n",
    "node_df = pd.DataFrame(list_of_list,columns=['query','from_ut','from_ky','from_wa','from_ko','from_me'])"
   ]
  },
  {
   "cell_type": "code",
   "execution_count": 140,
   "metadata": {
    "collapsed": false
   },
   "outputs": [],
   "source": [
    "node_df['shortest_step'] = np.min(node_df[list(univs.values())],axis=1)"
   ]
  },
  {
   "cell_type": "code",
   "execution_count": 141,
   "metadata": {
    "collapsed": false
   },
   "outputs": [],
   "source": [
    "for column in ['ut','ky','wa','ko','me']:\n",
    "    node_df['label_{}'.format(column)] = node_df['from_{}'.format(column)] == node_df['shortest_step']"
   ]
  },
  {
   "cell_type": "code",
   "execution_count": 142,
   "metadata": {
    "collapsed": false
   },
   "outputs": [],
   "source": [
    "univ_df = pd.DataFrame()\n",
    "univ_df = univ_df.append(node_df[node_df['query'] == '東京大学']).append(node_df[node_df['query'] == '京都大学'].append(node_df[node_df['query'] == '明治大学'])).append(node_df[node_df['query'] == '早稲田大学']).append(node_df[node_df['query'] == '慶應義塾大学'])"
   ]
  },
  {
   "cell_type": "code",
   "execution_count": 143,
   "metadata": {
    "collapsed": false
   },
   "outputs": [
    {
     "data": {
      "text/html": [
       "<div>\n",
       "<table border=\"1\" class=\"dataframe\">\n",
       "  <thead>\n",
       "    <tr style=\"text-align: right;\">\n",
       "      <th></th>\n",
       "      <th>query</th>\n",
       "      <th>from_ut</th>\n",
       "      <th>from_ky</th>\n",
       "      <th>from_wa</th>\n",
       "      <th>from_ko</th>\n",
       "      <th>from_me</th>\n",
       "      <th>shortest_step</th>\n",
       "      <th>label_ut</th>\n",
       "      <th>label_ky</th>\n",
       "      <th>label_wa</th>\n",
       "      <th>label_ko</th>\n",
       "      <th>label_me</th>\n",
       "    </tr>\n",
       "  </thead>\n",
       "  <tbody>\n",
       "    <tr>\n",
       "      <th>99</th>\n",
       "      <td>東京大学</td>\n",
       "      <td>0</td>\n",
       "      <td>2</td>\n",
       "      <td>2</td>\n",
       "      <td>2</td>\n",
       "      <td>4</td>\n",
       "      <td>0</td>\n",
       "      <td>True</td>\n",
       "      <td>False</td>\n",
       "      <td>False</td>\n",
       "      <td>False</td>\n",
       "      <td>False</td>\n",
       "    </tr>\n",
       "    <tr>\n",
       "      <th>34</th>\n",
       "      <td>京都大学</td>\n",
       "      <td>2</td>\n",
       "      <td>0</td>\n",
       "      <td>2</td>\n",
       "      <td>2</td>\n",
       "      <td>3</td>\n",
       "      <td>0</td>\n",
       "      <td>False</td>\n",
       "      <td>True</td>\n",
       "      <td>False</td>\n",
       "      <td>False</td>\n",
       "      <td>False</td>\n",
       "    </tr>\n",
       "    <tr>\n",
       "      <th>67</th>\n",
       "      <td>明治大学</td>\n",
       "      <td>4</td>\n",
       "      <td>3</td>\n",
       "      <td>2</td>\n",
       "      <td>2</td>\n",
       "      <td>0</td>\n",
       "      <td>0</td>\n",
       "      <td>False</td>\n",
       "      <td>False</td>\n",
       "      <td>False</td>\n",
       "      <td>False</td>\n",
       "      <td>True</td>\n",
       "    </tr>\n",
       "    <tr>\n",
       "      <th>149</th>\n",
       "      <td>早稲田大学</td>\n",
       "      <td>2</td>\n",
       "      <td>2</td>\n",
       "      <td>0</td>\n",
       "      <td>2</td>\n",
       "      <td>2</td>\n",
       "      <td>0</td>\n",
       "      <td>False</td>\n",
       "      <td>False</td>\n",
       "      <td>True</td>\n",
       "      <td>False</td>\n",
       "      <td>False</td>\n",
       "    </tr>\n",
       "    <tr>\n",
       "      <th>182</th>\n",
       "      <td>慶應義塾大学</td>\n",
       "      <td>2</td>\n",
       "      <td>2</td>\n",
       "      <td>2</td>\n",
       "      <td>0</td>\n",
       "      <td>2</td>\n",
       "      <td>0</td>\n",
       "      <td>False</td>\n",
       "      <td>False</td>\n",
       "      <td>False</td>\n",
       "      <td>True</td>\n",
       "      <td>False</td>\n",
       "    </tr>\n",
       "  </tbody>\n",
       "</table>\n",
       "</div>"
      ],
      "text/plain": [
       "      query  from_ut  from_ky  from_wa  from_ko  from_me  shortest_step  \\\n",
       "99     東京大学        0        2        2        2        4              0   \n",
       "34     京都大学        2        0        2        2        3              0   \n",
       "67     明治大学        4        3        2        2        0              0   \n",
       "149   早稲田大学        2        2        0        2        2              0   \n",
       "182  慶應義塾大学        2        2        2        0        2              0   \n",
       "\n",
       "    label_ut label_ky label_wa label_ko label_me  \n",
       "99      True    False    False    False    False  \n",
       "34     False     True    False    False    False  \n",
       "67     False    False    False    False     True  \n",
       "149    False    False     True    False    False  \n",
       "182    False    False    False     True    False  "
      ]
     },
     "execution_count": 143,
     "metadata": {},
     "output_type": "execute_result"
    }
   ],
   "source": [
    "univ_df"
   ]
  },
  {
   "cell_type": "code",
   "execution_count": 144,
   "metadata": {
    "collapsed": false
   },
   "outputs": [],
   "source": [
    "node_df = node_df.drop(univ_df.index)"
   ]
  },
  {
   "cell_type": "code",
   "execution_count": 145,
   "metadata": {
    "collapsed": true
   },
   "outputs": [],
   "source": [
    "node_df = univ_df.append(node_df).reset_index(drop=True)"
   ]
  },
  {
   "cell_type": "code",
   "execution_count": 146,
   "metadata": {
    "collapsed": false
   },
   "outputs": [],
   "source": [
    "node_df['index'] = node_df.index"
   ]
  },
  {
   "cell_type": "code",
   "execution_count": 147,
   "metadata": {
    "collapsed": false
   },
   "outputs": [
    {
     "data": {
      "text/html": [
       "<div>\n",
       "<table border=\"1\" class=\"dataframe\">\n",
       "  <thead>\n",
       "    <tr style=\"text-align: right;\">\n",
       "      <th></th>\n",
       "      <th>query</th>\n",
       "      <th>from_ut</th>\n",
       "      <th>from_ky</th>\n",
       "      <th>from_wa</th>\n",
       "      <th>from_ko</th>\n",
       "      <th>from_me</th>\n",
       "      <th>shortest_step</th>\n",
       "      <th>label_ut</th>\n",
       "      <th>label_ky</th>\n",
       "      <th>label_wa</th>\n",
       "      <th>label_ko</th>\n",
       "      <th>label_me</th>\n",
       "      <th>index</th>\n",
       "    </tr>\n",
       "  </thead>\n",
       "  <tbody>\n",
       "    <tr>\n",
       "      <th>0</th>\n",
       "      <td>東京大学</td>\n",
       "      <td>0</td>\n",
       "      <td>2</td>\n",
       "      <td>2</td>\n",
       "      <td>2</td>\n",
       "      <td>4</td>\n",
       "      <td>0</td>\n",
       "      <td>True</td>\n",
       "      <td>False</td>\n",
       "      <td>False</td>\n",
       "      <td>False</td>\n",
       "      <td>False</td>\n",
       "      <td>0</td>\n",
       "    </tr>\n",
       "    <tr>\n",
       "      <th>1</th>\n",
       "      <td>京都大学</td>\n",
       "      <td>2</td>\n",
       "      <td>0</td>\n",
       "      <td>2</td>\n",
       "      <td>2</td>\n",
       "      <td>3</td>\n",
       "      <td>0</td>\n",
       "      <td>False</td>\n",
       "      <td>True</td>\n",
       "      <td>False</td>\n",
       "      <td>False</td>\n",
       "      <td>False</td>\n",
       "      <td>1</td>\n",
       "    </tr>\n",
       "    <tr>\n",
       "      <th>2</th>\n",
       "      <td>明治大学</td>\n",
       "      <td>4</td>\n",
       "      <td>3</td>\n",
       "      <td>2</td>\n",
       "      <td>2</td>\n",
       "      <td>0</td>\n",
       "      <td>0</td>\n",
       "      <td>False</td>\n",
       "      <td>False</td>\n",
       "      <td>False</td>\n",
       "      <td>False</td>\n",
       "      <td>True</td>\n",
       "      <td>2</td>\n",
       "    </tr>\n",
       "    <tr>\n",
       "      <th>3</th>\n",
       "      <td>早稲田大学</td>\n",
       "      <td>2</td>\n",
       "      <td>2</td>\n",
       "      <td>0</td>\n",
       "      <td>2</td>\n",
       "      <td>2</td>\n",
       "      <td>0</td>\n",
       "      <td>False</td>\n",
       "      <td>False</td>\n",
       "      <td>True</td>\n",
       "      <td>False</td>\n",
       "      <td>False</td>\n",
       "      <td>3</td>\n",
       "    </tr>\n",
       "    <tr>\n",
       "      <th>...</th>\n",
       "      <td>...</td>\n",
       "      <td>...</td>\n",
       "      <td>...</td>\n",
       "      <td>...</td>\n",
       "      <td>...</td>\n",
       "      <td>...</td>\n",
       "      <td>...</td>\n",
       "      <td>...</td>\n",
       "      <td>...</td>\n",
       "      <td>...</td>\n",
       "      <td>...</td>\n",
       "      <td>...</td>\n",
       "      <td>...</td>\n",
       "    </tr>\n",
       "    <tr>\n",
       "      <th>210</th>\n",
       "      <td>公衆</td>\n",
       "      <td>4</td>\n",
       "      <td>5</td>\n",
       "      <td>3</td>\n",
       "      <td>4</td>\n",
       "      <td>4</td>\n",
       "      <td>3</td>\n",
       "      <td>False</td>\n",
       "      <td>False</td>\n",
       "      <td>True</td>\n",
       "      <td>False</td>\n",
       "      <td>False</td>\n",
       "      <td>210</td>\n",
       "    </tr>\n",
       "    <tr>\n",
       "      <th>211</th>\n",
       "      <td>三つ</td>\n",
       "      <td>3</td>\n",
       "      <td>1</td>\n",
       "      <td>3</td>\n",
       "      <td>3</td>\n",
       "      <td>4</td>\n",
       "      <td>1</td>\n",
       "      <td>False</td>\n",
       "      <td>True</td>\n",
       "      <td>False</td>\n",
       "      <td>False</td>\n",
       "      <td>False</td>\n",
       "      <td>211</td>\n",
       "    </tr>\n",
       "    <tr>\n",
       "      <th>212</th>\n",
       "      <td>生活</td>\n",
       "      <td>2</td>\n",
       "      <td>4</td>\n",
       "      <td>4</td>\n",
       "      <td>3</td>\n",
       "      <td>4</td>\n",
       "      <td>2</td>\n",
       "      <td>True</td>\n",
       "      <td>False</td>\n",
       "      <td>False</td>\n",
       "      <td>False</td>\n",
       "      <td>False</td>\n",
       "      <td>212</td>\n",
       "    </tr>\n",
       "    <tr>\n",
       "      <th>213</th>\n",
       "      <td>地球</td>\n",
       "      <td>3</td>\n",
       "      <td>3</td>\n",
       "      <td>3</td>\n",
       "      <td>3</td>\n",
       "      <td>5</td>\n",
       "      <td>3</td>\n",
       "      <td>True</td>\n",
       "      <td>True</td>\n",
       "      <td>True</td>\n",
       "      <td>True</td>\n",
       "      <td>False</td>\n",
       "      <td>213</td>\n",
       "    </tr>\n",
       "  </tbody>\n",
       "</table>\n",
       "<p>214 rows × 13 columns</p>\n",
       "</div>"
      ],
      "text/plain": [
       "     query  from_ut  from_ky  from_wa  from_ko  from_me  shortest_step  \\\n",
       "0     東京大学        0        2        2        2        4              0   \n",
       "1     京都大学        2        0        2        2        3              0   \n",
       "2     明治大学        4        3        2        2        0              0   \n",
       "3    早稲田大学        2        2        0        2        2              0   \n",
       "..     ...      ...      ...      ...      ...      ...            ...   \n",
       "210     公衆        4        5        3        4        4              3   \n",
       "211     三つ        3        1        3        3        4              1   \n",
       "212     生活        2        4        4        3        4              2   \n",
       "213     地球        3        3        3        3        5              3   \n",
       "\n",
       "    label_ut label_ky label_wa label_ko label_me  index  \n",
       "0       True    False    False    False    False      0  \n",
       "1      False     True    False    False    False      1  \n",
       "2      False    False    False    False     True      2  \n",
       "3      False    False     True    False    False      3  \n",
       "..       ...      ...      ...      ...      ...    ...  \n",
       "210    False    False     True    False    False    210  \n",
       "211    False     True    False    False    False    211  \n",
       "212     True    False    False    False    False    212  \n",
       "213     True     True     True     True    False    213  \n",
       "\n",
       "[214 rows x 13 columns]"
      ]
     },
     "execution_count": 147,
     "metadata": {},
     "output_type": "execute_result"
    }
   ],
   "source": [
    "node_df"
   ]
  },
  {
   "cell_type": "code",
   "execution_count": 148,
   "metadata": {
    "collapsed": true
   },
   "outputs": [],
   "source": [
    "def get_node_index(x):\n",
    "    number = node_df[node_df['query']==x]['index']\n",
    "    return int(number)"
   ]
  },
  {
   "cell_type": "code",
   "execution_count": 149,
   "metadata": {
    "collapsed": false
   },
   "outputs": [],
   "source": [
    "link_df['from_id'] = link_df['from'].map(get_node_index)\n",
    "link_df['to_id'] = link_df['to'].map(get_node_index)"
   ]
  },
  {
   "cell_type": "code",
   "execution_count": 157,
   "metadata": {
    "collapsed": false
   },
   "outputs": [
    {
     "data": {
      "text/html": [
       "<div>\n",
       "<table border=\"1\" class=\"dataframe\">\n",
       "  <thead>\n",
       "    <tr style=\"text-align: right;\">\n",
       "      <th></th>\n",
       "      <th>from</th>\n",
       "      <th>to</th>\n",
       "      <th>value</th>\n",
       "      <th>from_id</th>\n",
       "      <th>to_id</th>\n",
       "    </tr>\n",
       "  </thead>\n",
       "  <tbody>\n",
       "    <tr>\n",
       "      <th>0</th>\n",
       "      <td>慶應義塾大学</td>\n",
       "      <td>研究</td>\n",
       "      <td>0.025952</td>\n",
       "      <td>4</td>\n",
       "      <td>33</td>\n",
       "    </tr>\n",
       "    <tr>\n",
       "      <th>1</th>\n",
       "      <td>慶應義塾大学</td>\n",
       "      <td>学部</td>\n",
       "      <td>0.022282</td>\n",
       "      <td>4</td>\n",
       "      <td>175</td>\n",
       "    </tr>\n",
       "    <tr>\n",
       "      <th>2</th>\n",
       "      <td>慶應義塾大学</td>\n",
       "      <td>月</td>\n",
       "      <td>0.020959</td>\n",
       "      <td>4</td>\n",
       "      <td>170</td>\n",
       "    </tr>\n",
       "    <tr>\n",
       "      <th>3</th>\n",
       "      <td>慶應義塾大学</td>\n",
       "      <td>学生</td>\n",
       "      <td>0.020782</td>\n",
       "      <td>4</td>\n",
       "      <td>209</td>\n",
       "    </tr>\n",
       "    <tr>\n",
       "      <th>...</th>\n",
       "      <td>...</td>\n",
       "      <td>...</td>\n",
       "      <td>...</td>\n",
       "      <td>...</td>\n",
       "      <td>...</td>\n",
       "    </tr>\n",
       "    <tr>\n",
       "      <th>443</th>\n",
       "      <td>学科</td>\n",
       "      <td>社会</td>\n",
       "      <td>0.041647</td>\n",
       "      <td>53</td>\n",
       "      <td>80</td>\n",
       "    </tr>\n",
       "    <tr>\n",
       "      <th>444</th>\n",
       "      <td>学科</td>\n",
       "      <td>専門</td>\n",
       "      <td>0.032136</td>\n",
       "      <td>53</td>\n",
       "      <td>74</td>\n",
       "    </tr>\n",
       "    <tr>\n",
       "      <th>445</th>\n",
       "      <td>学科</td>\n",
       "      <td>福祉</td>\n",
       "      <td>0.030243</td>\n",
       "      <td>53</td>\n",
       "      <td>28</td>\n",
       "    </tr>\n",
       "    <tr>\n",
       "      <th>446</th>\n",
       "      <td>学科</td>\n",
       "      <td>紹介</td>\n",
       "      <td>0.028814</td>\n",
       "      <td>53</td>\n",
       "      <td>171</td>\n",
       "    </tr>\n",
       "  </tbody>\n",
       "</table>\n",
       "<p>447 rows × 5 columns</p>\n",
       "</div>"
      ],
      "text/plain": [
       "       from  to     value  from_id  to_id\n",
       "0    慶應義塾大学  研究  0.025952        4     33\n",
       "1    慶應義塾大学  学部  0.022282        4    175\n",
       "2    慶應義塾大学   月  0.020959        4    170\n",
       "3    慶應義塾大学  学生  0.020782        4    209\n",
       "..      ...  ..       ...      ...    ...\n",
       "443      学科  社会  0.041647       53     80\n",
       "444      学科  専門  0.032136       53     74\n",
       "445      学科  福祉  0.030243       53     28\n",
       "446      学科  紹介  0.028814       53    171\n",
       "\n",
       "[447 rows x 5 columns]"
      ]
     },
     "execution_count": 157,
     "metadata": {},
     "output_type": "execute_result"
    }
   ],
   "source": [
    "link_df"
   ]
  },
  {
   "cell_type": "code",
   "execution_count": 158,
   "metadata": {
    "collapsed": false
   },
   "outputs": [],
   "source": [
    "node_df.to_csv('nodes.csv')\n",
    "# link_df = link_df.iloc[:int(len(link_df)/2)]\n",
    "link_df.to_csv('links.csv')"
   ]
  },
  {
   "cell_type": "code",
   "execution_count": null,
   "metadata": {
    "collapsed": true
   },
   "outputs": [],
   "source": []
  }
 ],
 "metadata": {
  "kernelspec": {
   "display_name": "Python 3",
   "language": "python",
   "name": "python3"
  },
  "language_info": {
   "codemirror_mode": {
    "name": "ipython",
    "version": 3
   },
   "file_extension": ".py",
   "mimetype": "text/x-python",
   "name": "python",
   "nbconvert_exporter": "python",
   "pygments_lexer": "ipython3",
   "version": "3.6.0"
  }
 },
 "nbformat": 4,
 "nbformat_minor": 2
}
