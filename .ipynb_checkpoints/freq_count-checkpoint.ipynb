{
 "cells": [
  {
   "cell_type": "code",
   "execution_count": 1,
   "metadata": {
    "collapsed": true
   },
   "outputs": [],
   "source": [
    "import json\n",
    "import math\n",
    "from collections import defaultdict\n",
    "from collections import Counter\n",
    "import MeCab"
   ]
  },
  {
   "cell_type": "code",
   "execution_count": 4,
   "metadata": {
    "collapsed": true
   },
   "outputs": [],
   "source": [
    "def calc_idf(word, dic, all_data_number):\n",
    "    freq = 0\n",
    "    for words in dic.values():\n",
    "        if word in words:\n",
    "            freq += 1\n",
    "    idf = math.log(all_data_number/len(freq))"
   ]
  },
  {
   "cell_type": "markdown",
   "metadata": {},
   "source": [
    "IDFの低いものを排除して頻度の高いものを出す"
   ]
  },
  {
   "cell_type": "code",
   "execution_count": 18,
   "metadata": {
    "collapsed": true
   },
   "outputs": [],
   "source": [
    "query = \"東大\""
   ]
  },
  {
   "cell_type": "code",
   "execution_count": 21,
   "metadata": {
    "collapsed": false
   },
   "outputs": [
    {
     "ename": "IndexError",
     "evalue": "list index out of range",
     "output_type": "error",
     "traceback": [
      "\u001b[0;31m---------------------------------------------------------------------------\u001b[0m",
      "\u001b[0;31mIndexError\u001b[0m                                Traceback (most recent call last)",
      "\u001b[0;32m<ipython-input-21-933e4f30c5b7>\u001b[0m in \u001b[0;36m<module>\u001b[0;34m()\u001b[0m\n\u001b[1;32m      4\u001b[0m \u001b[0;32mfor\u001b[0m \u001b[0mline\u001b[0m \u001b[0;32min\u001b[0m \u001b[0midf_data\u001b[0m\u001b[0;34m:\u001b[0m\u001b[0;34m\u001b[0m\u001b[0m\n\u001b[1;32m      5\u001b[0m     \u001b[0mword\u001b[0m \u001b[0;34m=\u001b[0m \u001b[0mline\u001b[0m\u001b[0;34m[\u001b[0m\u001b[0;36m1\u001b[0m\u001b[0;34m:\u001b[0m\u001b[0;34m-\u001b[0m\u001b[0;36m2\u001b[0m\u001b[0;34m]\u001b[0m\u001b[0;34m.\u001b[0m\u001b[0msplit\u001b[0m\u001b[0;34m(\u001b[0m\u001b[0;34m','\u001b[0m\u001b[0;34m)\u001b[0m\u001b[0;34m[\u001b[0m\u001b[0;36m0\u001b[0m\u001b[0;34m]\u001b[0m\u001b[0;34m\u001b[0m\u001b[0m\n\u001b[0;32m----> 6\u001b[0;31m     \u001b[0midf\u001b[0m \u001b[0;34m=\u001b[0m \u001b[0mline\u001b[0m\u001b[0;34m[\u001b[0m\u001b[0;36m1\u001b[0m\u001b[0;34m:\u001b[0m\u001b[0;34m-\u001b[0m\u001b[0;36m2\u001b[0m\u001b[0;34m]\u001b[0m\u001b[0;34m.\u001b[0m\u001b[0msplit\u001b[0m\u001b[0;34m(\u001b[0m\u001b[0;34m','\u001b[0m\u001b[0;34m)\u001b[0m\u001b[0;34m[\u001b[0m\u001b[0;36m1\u001b[0m\u001b[0;34m]\u001b[0m\u001b[0;34m\u001b[0m\u001b[0m\n\u001b[0m\u001b[1;32m      7\u001b[0m     \u001b[0midf_dic\u001b[0m\u001b[0;34m[\u001b[0m\u001b[0mword\u001b[0m\u001b[0;34m]\u001b[0m \u001b[0;34m=\u001b[0m \u001b[0midf\u001b[0m\u001b[0;34m\u001b[0m\u001b[0m\n",
      "\u001b[0;31mIndexError\u001b[0m: list index out of range"
     ]
    }
   ],
   "source": [
    "idf_file = open('mayfes/text_data/words_idf.txt','r')\n",
    "idf_data = idf_file.readlines()\n",
    "idf_dic = {}\n",
    "for line in idf_data:\n",
    "    word = line[1:-2].split(',')[0]\n",
    "    idf = line[1:-2].split(',')[1]\n",
    "    idf_dic[word] = idf"
   ]
  },
  {
   "cell_type": "code",
   "execution_count": 17,
   "metadata": {
    "collapsed": false
   },
   "outputs": [
    {
     "data": {
      "text/plain": [
       "['マテリアルイノベーション ', ' 7.527793987721444']"
      ]
     },
     "execution_count": 17,
     "metadata": {},
     "output_type": "execute_result"
    }
   ],
   "source": [
    "idf_data[1][1:-2].split(',')"
   ]
  },
  {
   "cell_type": "code",
   "execution_count": null,
   "metadata": {
    "collapsed": true
   },
   "outputs": [],
   "source": [
    "idf_file = open('mayfes/text_data/words_idf.txt','r')\n",
    "row_data = open('mayfes/json_data/{0}.json'.format(query), 'r')\n",
    "data = json.load(row_data)\n",
    "idf_data = idf_file.readlines()\n",
    "texts = [] #一ページの文のリストのリスト\n",
    "for dic in data:\n",
    "    texts.append(dic['texts'])\n",
    "\n",
    "noun_dic = defaultdict(int)\n",
    "verb_dic = defaultdict(int)\n",
    "adjective_dic = defaultdict(int)\n",
    "adverb_dic = defaultdict(int)\n",
    "\n",
    "for text_list in texts:\n",
    "    appeared_words = []\n",
    "    for text in text_list:\n",
    "        tagger = MeCab.Tagger(\"-Ochasen\")        \n",
    "        result = tagger.parseToNode(text)\n",
    "        while result:\n",
    "            try:\n",
    "                word = result.surface\n",
    "                if len(word) > 1:\n",
    "                    word_type = result.feature.split(',')[0]\n",
    "                    if word in appeared_words:\n",
    "                        pass\n",
    "                    else:\n",
    "                        if word_type == \"名詞\":\n",
    "                            noun_dic[word] += 1\n",
    "                        elif word_type == \"動詞\":\n",
    "                            verb_dic[word] += 1\n",
    "                        elif word_type == \"形容詞\":\n",
    "                            adjective_dic[word] += 1\n",
    "                        elif word_type == \"副詞\":\n",
    "                            adverb_dic[word] += 1\n",
    "                        else:\n",
    "                            pass\n",
    "            except:\n",
    "                pass\n",
    "\n",
    "            result = result.next\n",
    "            \n",
    "with open('mayfes/text_data/noun_{0}.txt'.format(query),'w') as f:\n",
    "        for k, v in sorted(noun_dic.items(), key=lambda x:x[1], reverse=True):\n",
    "            f.write(\"({0} , {1})\\n\".format(k, v))\n",
    "        \n",
    "with open('mayfes/text_data/verb_{0}.txt'.format(query),'w') as f:\n",
    "    for k, v in sorted(verb_dic.items(), key=lambda x:x[1], reverse=True):\n",
    "        f.write(\"({0} , {1})\\n\".format(k, v))\n",
    "\n",
    "with open('mayfes/text_data/adjec_{0}.txt'.format(query),'w') as f:\n",
    "    for k, v in sorted(adjective_dic.items(), key=lambda x:x[1], reverse=True):\n",
    "        f.write(\"({0} , {1})\\n\".format(k, v))\n",
    "\n",
    "with open('mayfes/text_data/adv_{0}.txt'.format(query),'w') as f:\n",
    "    for k, v in sorted(adverb_dic.items(), key=lambda x:x[1], reverse=True):\n",
    "        f.write(\"({0} , {1})\\n\".format(k, v))"
   ]
  },
  {
   "cell_type": "markdown",
   "metadata": {},
   "source": [
    "単語のみ指定版"
   ]
  },
  {
   "cell_type": "code",
   "execution_count": 5,
   "metadata": {
    "collapsed": true
   },
   "outputs": [],
   "source": [
    "query = \"東大\""
   ]
  },
  {
   "cell_type": "code",
   "execution_count": 6,
   "metadata": {
    "collapsed": true
   },
   "outputs": [],
   "source": [
    "row_data = open('mayfes/json_data/{0}.json'.format(query), 'r')\n",
    "data = json.load(row_data)\n",
    "texts = [] #一ページの文のリストのリスト\n",
    "for dic in data:\n",
    "    texts.append(dic['texts'])\n",
    "\n",
    "noun_dic = defaultdict(int)\n",
    "verb_dic = defaultdict(int)\n",
    "adjective_dic = defaultdict(int)\n",
    "adverb_dic = defaultdict(int)\n",
    "\n",
    "for text_list in texts:\n",
    "    appeared_words = []\n",
    "    for text in text_list:\n",
    "        tagger = MeCab.Tagger(\"-Ochasen\")        \n",
    "        result = tagger.parseToNode(text)\n",
    "        while result:\n",
    "            try:\n",
    "                word = result.surface\n",
    "                if len(word) > 1:\n",
    "                    word_type = result.feature.split(',')[0]\n",
    "                    if word in appeared_words:\n",
    "                        pass\n",
    "                    else:\n",
    "                        if word_type == \"名詞\":\n",
    "                            noun_dic[word] += 1\n",
    "                        elif word_type == \"動詞\":\n",
    "                            verb_dic[word] += 1\n",
    "                        elif word_type == \"形容詞\":\n",
    "                            adjective_dic[word] += 1\n",
    "                        elif word_type == \"副詞\":\n",
    "                            adverb_dic[word] += 1\n",
    "                        else:\n",
    "                            pass\n",
    "            except:\n",
    "                pass\n",
    "\n",
    "            result = result.next\n",
    "            \n",
    "with open('mayfes/text_data/noun_{0}.txt'.format(query),'w') as f:\n",
    "        for k, v in sorted(noun_dic.items(), key=lambda x:x[1], reverse=True):\n",
    "            f.write(\"({0} , {1})\\n\".format(k, v))\n",
    "        \n",
    "with open('mayfes/text_data/verb_{0}.txt'.format(query),'w') as f:\n",
    "    for k, v in sorted(verb_dic.items(), key=lambda x:x[1], reverse=True):\n",
    "        f.write(\"({0} , {1})\\n\".format(k, v))\n",
    "\n",
    "with open('mayfes/text_data/adjec_{0}.txt'.format(query),'w') as f:\n",
    "    for k, v in sorted(adjective_dic.items(), key=lambda x:x[1], reverse=True):\n",
    "        f.write(\"({0} , {1})\\n\".format(k, v))\n",
    "\n",
    "with open('mayfes/text_data/adv_{0}.txt'.format(query),'w') as f:\n",
    "    for k, v in sorted(adverb_dic.items(), key=lambda x:x[1], reverse=True):\n",
    "        f.write(\"({0} , {1})\\n\".format(k, v))"
   ]
  },
  {
   "cell_type": "markdown",
   "metadata": {},
   "source": [
    "共通キーワード指定版"
   ]
  },
  {
   "cell_type": "code",
   "execution_count": 2,
   "metadata": {
    "collapsed": true
   },
   "outputs": [],
   "source": [
    "keywords = [\"研究\",\"教授\", \"サークル\", \"ベンチャー\", \"留学生\", \"病院\", \"部活\", \"大学院\", \"技術\", \"学部\", \"国際\", \"科学\"]\n",
    "univ = \"waseda\""
   ]
  },
  {
   "cell_type": "code",
   "execution_count": 3,
   "metadata": {
    "collapsed": true
   },
   "outputs": [],
   "source": [
    "for keyword in keywords:\n",
    "    row_data = open('mayfes/json_data/{0}/{1}.json'.format(univ,keyword), 'r')\n",
    "    data = json.load(row_data)\n",
    "    titles = []\n",
    "    texts = []\n",
    "    for dic in data:\n",
    "#         titles.extend(dic['title'])\n",
    "        texts.extend(dic['texts'])\n",
    "    txt_dic = {} #キー:テキスト本文 値:単語\n",
    "    counter_list = []  #一テキストの単語のCounterが要素として入る。\n",
    "\n",
    "    for text in texts:\n",
    "        tagger = MeCab.Tagger(\"-Owakati\")        \n",
    "        result = tagger.parse(text)\n",
    "        tokens = result.split()\n",
    "\n",
    "        clean_tokens = [w for w in tokens if len(w)>1]\n",
    "        txt_dic[text]= clean_tokens\n",
    "        counter_list.append(Counter(clean_tokens))\n",
    "    \n",
    "    all_word_counter = Counter()\n",
    "    for counter in counter_list:\n",
    "        all_word_counter += counter\n",
    "        \n",
    "    noun_dic = defaultdict(int)\n",
    "    verb_dic = defaultdict(int)\n",
    "    adjective_dic = defaultdict(int)\n",
    "    adverb_dic = defaultdict(int)\n",
    "\n",
    "    for text in texts:\n",
    "        tagger = MeCab.Tagger(\"-Ochasen\")        \n",
    "        result = tagger.parseToNode(text)\n",
    "        while result:\n",
    "            try:\n",
    "                word = result.surface\n",
    "                if len(word) > 1:\n",
    "                    word_type = result.feature.split(',')[0]\n",
    "                    if word_type == \"名詞\":\n",
    "                        noun_dic[word] += 1\n",
    "                    elif word_type == \"動詞\":\n",
    "                        verb_dic[word] += 1\n",
    "                    elif word_type == \"形容詞\":\n",
    "                        adjective_dic[word] += 1\n",
    "                    elif word_type == \"副詞\":\n",
    "                        adverb_dic[word] += 1\n",
    "                    else:\n",
    "                        pass\n",
    "            except:\n",
    "                pass\n",
    "\n",
    "            result = result.next\n",
    "    \n",
    "    with open('mayfes/text_data/{0}/{1}_noun.txt'.format(univ,keyword),'w') as f:\n",
    "        for k, v in sorted(noun_dic.items(), key=lambda x:x[1], reverse=True):\n",
    "            f.write(\"({0} , {1})\\n\".format(k, v))\n",
    "        \n",
    "    with open('mayfes/text_data/{0}/{1}_verb.txt'.format(univ,keyword),'w') as f:\n",
    "        for k, v in sorted(verb_dic.items(), key=lambda x:x[1], reverse=True):\n",
    "            f.write(\"({0} , {1})\\n\".format(k, v))\n",
    "        \n",
    "    with open('mayfes/text_data/{0}/{1}_adjec.txt'.format(univ,keyword),'w') as f:\n",
    "        for k, v in sorted(adjective_dic.items(), key=lambda x:x[1], reverse=True):\n",
    "            f.write(\"({0} , {1})\\n\".format(k, v))\n",
    "        \n",
    "    with open('mayfes/text_data/{0}/{1}_adv.txt'.format(univ,keyword),'w') as f:\n",
    "        for k, v in sorted(adverb_dic.items(), key=lambda x:x[1], reverse=True):\n",
    "            f.write(\"({0} , {1})\\n\".format(k, v))"
   ]
  },
  {
   "cell_type": "markdown",
   "metadata": {},
   "source": [
    "## これより下は上の詳細"
   ]
  },
  {
   "cell_type": "code",
   "execution_count": 273,
   "metadata": {
    "collapsed": false
   },
   "outputs": [],
   "source": [
    "row_data = open('mayfes/json_data/todai/ファイル.json', 'r')"
   ]
  },
  {
   "cell_type": "code",
   "execution_count": 274,
   "metadata": {
    "collapsed": true
   },
   "outputs": [],
   "source": [
    "data = json.load(row_data)"
   ]
  },
  {
   "cell_type": "code",
   "execution_count": 275,
   "metadata": {
    "collapsed": false
   },
   "outputs": [
    {
     "data": {
      "text/plain": [
       "298"
      ]
     },
     "execution_count": 275,
     "metadata": {},
     "output_type": "execute_result"
    }
   ],
   "source": [
    "len(data)"
   ]
  },
  {
   "cell_type": "code",
   "execution_count": 276,
   "metadata": {
    "collapsed": false
   },
   "outputs": [
    {
     "data": {
      "text/plain": [
       "list"
      ]
     },
     "execution_count": 276,
     "metadata": {},
     "output_type": "execute_result"
    }
   ],
   "source": [
    "type(data)"
   ]
  },
  {
   "cell_type": "code",
   "execution_count": 277,
   "metadata": {
    "collapsed": false
   },
   "outputs": [
    {
     "data": {
      "text/plain": [
       "dict"
      ]
     },
     "execution_count": 277,
     "metadata": {},
     "output_type": "execute_result"
    }
   ],
   "source": [
    "type(data[0])"
   ]
  },
  {
   "cell_type": "code",
   "execution_count": 278,
   "metadata": {
    "collapsed": false
   },
   "outputs": [
    {
     "data": {
      "text/plain": [
       "dict_keys(['title', 'texts'])"
      ]
     },
     "execution_count": 278,
     "metadata": {},
     "output_type": "execute_result"
    }
   ],
   "source": [
    "data[0].keys()"
   ]
  },
  {
   "cell_type": "code",
   "execution_count": 279,
   "metadata": {
    "collapsed": true
   },
   "outputs": [],
   "source": [
    "titles = []\n",
    "texts = []\n",
    "for dic in data:\n",
    "    titles.extend(dic['title'])\n",
    "    texts.extend(dic['texts'])"
   ]
  },
  {
   "cell_type": "code",
   "execution_count": 280,
   "metadata": {
    "collapsed": false
   },
   "outputs": [
    {
     "data": {
      "text/plain": [
       "(469, 1349)"
      ]
     },
     "execution_count": 280,
     "metadata": {},
     "output_type": "execute_result"
    }
   ],
   "source": [
    "len(titles), len(texts)"
   ]
  },
  {
   "cell_type": "code",
   "execution_count": 281,
   "metadata": {
    "collapsed": false
   },
   "outputs": [],
   "source": [
    "import re\n",
    "# from nltk import word_tokenize\n",
    "# from nltk import WordNetLemmatizer\n",
    "# from nltk.util import ngrams\n",
    "from collections import Counter\n",
    "import MeCab\n",
    "\n",
    "ptn = re.compile(\"^[0-9]+$\")\n",
    "# lemmatizer = WordNetLemmatizer()"
   ]
  },
  {
   "cell_type": "code",
   "execution_count": 282,
   "metadata": {
    "collapsed": true
   },
   "outputs": [],
   "source": [
    "def load_stop(): #停止語類\n",
    "    s = []\n",
    "    f = open('stop.txt', 'r', encoding='utf8')\n",
    "    lines = f.readlines()\n",
    "    for l in lines:\n",
    "        tmp = l.replace('\\n', '') # 改行文字がある場合用\n",
    "        s.append(tmp)\n",
    "    f.close()\n",
    "    return s\n",
    "\n",
    "# stopwords = load_stop()"
   ]
  },
  {
   "cell_type": "code",
   "execution_count": 283,
   "metadata": {
    "collapsed": true
   },
   "outputs": [],
   "source": [
    "txt_dic = {} #キー:テキスト本文 値:単語\n",
    "counter_list = []  #一テキストの単語のCounterが要素として入る。\n",
    "\n",
    "for text in texts:\n",
    "    #単語に区切る http://testpy.hatenablog.com/entry/2016/10/04/010000\n",
    "    tagger = MeCab.Tagger(\"-Owakati\")        \n",
    "    result = tagger.parse(text)\n",
    "    tokens = result.split()\n",
    "\n",
    "    clean_tokens = [w for w in tokens if len(w)>1]\n",
    "\n",
    "#     #単語の内、停止語類になく、一文字ではなく、数字のみではないものをclean_tokensに入れる\n",
    "#     clean_tokens = [lemmatizer.lemmatize(w) for w in tokens if w not in stopwords and len(w)>1  and ptn.match(w) is None]\n",
    "\n",
    "    #txt_dicにキーをテキスト本文、値をclean_tokensにして入れる(使用しないが動作確認用)\n",
    "    txt_dic[text]= clean_tokens\n",
    "\n",
    "    #一テキストごとのCounterを要素とするリストcounter_listに追加する。最終的にこの中身を足せばよい。\n",
    "    counter_list.append(Counter(clean_tokens))"
   ]
  },
  {
   "cell_type": "code",
   "execution_count": 284,
   "metadata": {
    "collapsed": true
   },
   "outputs": [],
   "source": [
    "#counterを足しあわせる https://qiita.com/hatchinee/items/a904c1f8d732a4686c9d\n",
    "all_word_counter = Counter()\n",
    "for counter in counter_list:\n",
    "    all_word_counter += counter"
   ]
  },
  {
   "cell_type": "code",
   "execution_count": 285,
   "metadata": {
    "collapsed": true
   },
   "outputs": [],
   "source": [
    "#頻度の高い上100個の単語を抽出\n",
    "frequent_words = []\n",
    "for counter in all_word_counter.most_common(100):\n",
    "    frequent_words.append(counter[0])"
   ]
  },
  {
   "cell_type": "code",
   "execution_count": 286,
   "metadata": {
    "collapsed": false
   },
   "outputs": [
    {
     "data": {
      "text/plain": [
       "[('PDF', 427),\n",
       " ('ます', 256),\n",
       " ('研究', 241),\n",
       " ('KB', 232),\n",
       " ('...', 226),\n",
       " ('平成', 199),\n",
       " ('する', 197),\n",
       " ('情報', 167),\n",
       " ('年度', 130),\n",
       " ('システム', 127)]"
      ]
     },
     "execution_count": 286,
     "metadata": {},
     "output_type": "execute_result"
    }
   ],
   "source": [
    "all_word_counter.most_common()[:10]"
   ]
  },
  {
   "cell_type": "code",
   "execution_count": 287,
   "metadata": {
    "collapsed": true
   },
   "outputs": [],
   "source": [
    "#各辞書は単語をキーに、頻度と種類のタプルを保持\n",
    "noun_dic = defaultdict(int)\n",
    "verb_dic = defaultdict(int)\n",
    "adjective_dic = defaultdict(int)\n",
    "adverb_dic = defaultdict(int)\n",
    "\n",
    "for text in texts:\n",
    "    #単語に区切る http://testpy.hatenablog.com/entry/2016/10/04/010000\n",
    "    tagger = MeCab.Tagger(\"-Ochasen\")        \n",
    "    result = tagger.parseToNode(text)\n",
    "    while result:\n",
    "        try:\n",
    "            word = result.surface\n",
    "            if len(word) > 1:\n",
    "                word_type = result.feature.split(',')[0]\n",
    "                if word_type == \"名詞\":\n",
    "                    noun_dic[word] += 1\n",
    "                elif word_type == \"動詞\":\n",
    "                    verb_dic[word] += 1\n",
    "                elif word_type == \"形容詞\":\n",
    "                    adjective_dic[word] += 1\n",
    "                elif word_type == \"副詞\":\n",
    "                    adverb_dic[word] += 1\n",
    "                else:\n",
    "                    pass\n",
    "        except:\n",
    "            pass\n",
    "\n",
    "        result = result.next\n",
    "\n",
    "#     clean_tokens = [w for w in tokens if len(w)>1]\n",
    "\n",
    "#     #単語の内、停止語類になく、一文字ではなく、数字のみではないものをclean_tokensに入れる\n",
    "#     clean_tokens = [lemmatizer.lemmatize(w) for w in tokens if w not in stopwords and len(w)>1  and ptn.match(w) is None]\n",
    "\n",
    "    #txt_dicにキーをテキスト本文、値をclean_tokensにして入れる(使用しないが動作確認用)\n",
    "#     txt_dic[text]= clean_tokens\n",
    "\n",
    "    #一テキストごとのCounterを要素とするリストcounter_listに追加する。最終的にこの中身を足せばよい。\n",
    "#     counter_list.append(Counter(clean_tokens))"
   ]
  },
  {
   "cell_type": "code",
   "execution_count": 288,
   "metadata": {
    "collapsed": false
   },
   "outputs": [],
   "source": [
    "with open('mayfes/text_data/todai/ファイル_noun.txt','w') as f:\n",
    "    for k, v in sorted(noun_dic.items(), key=lambda x:x[1], reverse=True):\n",
    "#         print(\"({0} , {1})\".format(k, v)) # ==> 5 1, 2 3, 1 4の順番．valueで昇順の並び\n",
    "        f.write(\"({0} , {1})\\n\".format(k, v))"
   ]
  },
  {
   "cell_type": "code",
   "execution_count": 289,
   "metadata": {
    "collapsed": false
   },
   "outputs": [],
   "source": [
    "with open('mayfes/text_data/todai/ファイル_verb.txt','w') as f:\n",
    "    for k, v in sorted(verb_dic.items(), key=lambda x:x[1], reverse=True):\n",
    "#         print(\"({0} , {1})\".format(k, v)) # ==> 5 1, 2 3, 1 4の順番．valueで昇順の並び\n",
    "        f.write(\"({0} , {1})\\n\".format(k, v))"
   ]
  },
  {
   "cell_type": "code",
   "execution_count": 290,
   "metadata": {
    "collapsed": false
   },
   "outputs": [],
   "source": [
    "with open('mayfes/text_data/todai/ファイル_adjec.txt','w') as f:\n",
    "    for k, v in sorted(adjective_dic.items(), key=lambda x:x[1], reverse=True):\n",
    "#         print(\"({0} , {1})\".format(k, v)) # ==> 5 1, 2 3, 1 4の順番．valueで昇順の並び\n",
    "        f.write(\"({0} , {1})\\n\".format(k, v))"
   ]
  },
  {
   "cell_type": "code",
   "execution_count": 291,
   "metadata": {
    "collapsed": false
   },
   "outputs": [],
   "source": [
    "with open('mayfes/text_data/todai/ファイル_adv.txt','w') as f:\n",
    "    for k, v in sorted(adverb_dic.items(), key=lambda x:x[1], reverse=True):\n",
    "#         print(\"({0} , {1})\".format(k, v)) # ==> 5 1, 2 3, 1 4の順番．valueで昇順の並び\n",
    "        f.write(\"({0} , {1})\\n\".format(k, v))"
   ]
  }
 ],
 "metadata": {
  "kernelspec": {
   "display_name": "Python 3",
   "language": "python",
   "name": "python3"
  },
  "language_info": {
   "codemirror_mode": {
    "name": "ipython",
    "version": 3
   },
   "file_extension": ".py",
   "mimetype": "text/x-python",
   "name": "python",
   "nbconvert_exporter": "python",
   "pygments_lexer": "ipython3",
   "version": "3.6.0"
  }
 },
 "nbformat": 4,
 "nbformat_minor": 2
}
