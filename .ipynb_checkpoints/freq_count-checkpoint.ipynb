{
 "cells": [
  {
   "cell_type": "code",
   "execution_count": 30,
   "metadata": {
    "collapsed": true
   },
   "outputs": [],
   "source": [
    "import json\n",
    "import requests\n",
    "from collections import defaultdict"
   ]
  },
  {
   "cell_type": "code",
   "execution_count": 31,
   "metadata": {
    "collapsed": false
   },
   "outputs": [],
   "source": [
    "row_data = open('mayfes/json_data/todai_hoshasen.json', 'r')"
   ]
  },
  {
   "cell_type": "code",
   "execution_count": 32,
   "metadata": {
    "collapsed": true
   },
   "outputs": [],
   "source": [
    "data = json.load(row_data)"
   ]
  },
  {
   "cell_type": "code",
   "execution_count": 33,
   "metadata": {
    "collapsed": false
   },
   "outputs": [
    {
     "data": {
      "text/plain": [
       "300"
      ]
     },
     "execution_count": 33,
     "metadata": {},
     "output_type": "execute_result"
    }
   ],
   "source": [
    "len(data)"
   ]
  },
  {
   "cell_type": "code",
   "execution_count": 34,
   "metadata": {
    "collapsed": false
   },
   "outputs": [
    {
     "data": {
      "text/plain": [
       "list"
      ]
     },
     "execution_count": 34,
     "metadata": {},
     "output_type": "execute_result"
    }
   ],
   "source": [
    "type(data)"
   ]
  },
  {
   "cell_type": "code",
   "execution_count": 35,
   "metadata": {
    "collapsed": false
   },
   "outputs": [
    {
     "data": {
      "text/plain": [
       "dict"
      ]
     },
     "execution_count": 35,
     "metadata": {},
     "output_type": "execute_result"
    }
   ],
   "source": [
    "type(data[0])"
   ]
  },
  {
   "cell_type": "code",
   "execution_count": 36,
   "metadata": {
    "collapsed": false
   },
   "outputs": [
    {
     "data": {
      "text/plain": [
       "dict_keys(['title', 'texts'])"
      ]
     },
     "execution_count": 36,
     "metadata": {},
     "output_type": "execute_result"
    }
   ],
   "source": [
    "data[0].keys()"
   ]
  },
  {
   "cell_type": "code",
   "execution_count": 37,
   "metadata": {
    "collapsed": true
   },
   "outputs": [],
   "source": [
    "titles = []\n",
    "texts = []\n",
    "for dic in data:\n",
    "    titles.extend(dic['title'])\n",
    "    texts.extend(dic['texts'])"
   ]
  },
  {
   "cell_type": "code",
   "execution_count": 38,
   "metadata": {
    "collapsed": false
   },
   "outputs": [
    {
     "data": {
      "text/plain": [
       "(659, 1518)"
      ]
     },
     "execution_count": 38,
     "metadata": {},
     "output_type": "execute_result"
    }
   ],
   "source": [
    "len(titles), len(texts)"
   ]
  },
  {
   "cell_type": "code",
   "execution_count": 39,
   "metadata": {
    "collapsed": false
   },
   "outputs": [],
   "source": [
    "import re\n",
    "# from nltk import word_tokenize\n",
    "# from nltk import WordNetLemmatizer\n",
    "# from nltk.util import ngrams\n",
    "from collections import Counter\n",
    "import MeCab\n",
    "\n",
    "ptn = re.compile(\"^[0-9]+$\")\n",
    "# lemmatizer = WordNetLemmatizer()"
   ]
  },
  {
   "cell_type": "code",
   "execution_count": 40,
   "metadata": {
    "collapsed": true
   },
   "outputs": [],
   "source": [
    "def load_stop(): #停止語類\n",
    "    s = []\n",
    "    f = open('stop.txt', 'r', encoding='utf8')\n",
    "    lines = f.readlines()\n",
    "    for l in lines:\n",
    "        tmp = l.replace('\\n', '') # 改行文字がある場合用\n",
    "        s.append(tmp)\n",
    "    f.close()\n",
    "    return s\n",
    "\n",
    "# stopwords = load_stop()"
   ]
  },
  {
   "cell_type": "code",
   "execution_count": 41,
   "metadata": {
    "collapsed": true
   },
   "outputs": [],
   "source": [
    "txt_dic = {} #キー:テキスト本文 値:単語\n",
    "counter_list = []  #一テキストの単語のCounterが要素として入る。\n",
    "\n",
    "for text in texts:\n",
    "    #単語に区切る http://testpy.hatenablog.com/entry/2016/10/04/010000\n",
    "    tagger = MeCab.Tagger(\"-Owakati\")        \n",
    "    result = tagger.parse(text)\n",
    "    tokens = result.split()\n",
    "\n",
    "    clean_tokens = [w for w in tokens if len(w)>1]\n",
    "\n",
    "#     #単語の内、停止語類になく、一文字ではなく、数字のみではないものをclean_tokensに入れる\n",
    "#     clean_tokens = [lemmatizer.lemmatize(w) for w in tokens if w not in stopwords and len(w)>1  and ptn.match(w) is None]\n",
    "\n",
    "    #txt_dicにキーをテキスト本文、値をclean_tokensにして入れる(使用しないが動作確認用)\n",
    "    txt_dic[text]= clean_tokens\n",
    "\n",
    "    #一テキストごとのCounterを要素とするリストcounter_listに追加する。最終的にこの中身を足せばよい。\n",
    "    counter_list.append(Counter(clean_tokens))"
   ]
  },
  {
   "cell_type": "code",
   "execution_count": 42,
   "metadata": {
    "collapsed": true
   },
   "outputs": [],
   "source": [
    "#counterを足しあわせる https://qiita.com/hatchinee/items/a904c1f8d732a4686c9d\n",
    "all_word_counter = Counter()\n",
    "for counter in counter_list:\n",
    "    all_word_counter += counter"
   ]
  },
  {
   "cell_type": "code",
   "execution_count": 43,
   "metadata": {
    "collapsed": true
   },
   "outputs": [],
   "source": [
    "#頻度の高い上100個の単語を抽出\n",
    "frequent_words = []\n",
    "for counter in all_word_counter.most_common(100):\n",
    "    frequent_words.append(counter[0])"
   ]
  },
  {
   "cell_type": "code",
   "execution_count": 44,
   "metadata": {
    "collapsed": false
   },
   "outputs": [
    {
     "data": {
      "text/plain": [
       "[('研究', 307),\n",
       " ('病院', 230),\n",
       " ('医学部', 215),\n",
       " ('医学', 205),\n",
       " ('ます', 200),\n",
       " ('治療', 192),\n",
       " ('...', 189),\n",
       " ('附属', 157),\n",
       " ('診断', 144),\n",
       " ('日本', 134)]"
      ]
     },
     "execution_count": 44,
     "metadata": {},
     "output_type": "execute_result"
    }
   ],
   "source": [
    "all_word_counter.most_common()[:10]"
   ]
  },
  {
   "cell_type": "code",
   "execution_count": 45,
   "metadata": {
    "collapsed": true
   },
   "outputs": [],
   "source": [
    "#各辞書は単語をキーに、頻度と種類のタプルを保持\n",
    "noun_dic = defaultdict(int)\n",
    "verb_dic = defaultdict(int)\n",
    "adjective_dic = defaultdict(int)\n",
    "adverb_dic = defaultdict(int)\n",
    "\n",
    "for text in texts:\n",
    "    #単語に区切る http://testpy.hatenablog.com/entry/2016/10/04/010000\n",
    "    tagger = MeCab.Tagger(\"-Ochasen\")        \n",
    "    result = tagger.parseToNode(text)\n",
    "    while result:\n",
    "        try:\n",
    "            word = result.surface\n",
    "            if len(word) > 1:\n",
    "                word_type = result.feature.split(',')[0]\n",
    "                if word_type == \"名詞\":\n",
    "                    noun_dic[word] += 1\n",
    "                elif word_type == \"動詞\":\n",
    "                    verb_dic[word] += 1\n",
    "                elif word_type == \"形容詞\":\n",
    "                    adjective_dic[word] += 1\n",
    "                elif word_type == \"副詞\":\n",
    "                    adverb_dic[word] += 1\n",
    "                else:\n",
    "                    pass\n",
    "        except:\n",
    "            pass\n",
    "\n",
    "        result = result.next\n",
    "\n",
    "#     clean_tokens = [w for w in tokens if len(w)>1]\n",
    "\n",
    "#     #単語の内、停止語類になく、一文字ではなく、数字のみではないものをclean_tokensに入れる\n",
    "#     clean_tokens = [lemmatizer.lemmatize(w) for w in tokens if w not in stopwords and len(w)>1  and ptn.match(w) is None]\n",
    "\n",
    "    #txt_dicにキーをテキスト本文、値をclean_tokensにして入れる(使用しないが動作確認用)\n",
    "#     txt_dic[text]= clean_tokens\n",
    "\n",
    "    #一テキストごとのCounterを要素とするリストcounter_listに追加する。最終的にこの中身を足せばよい。\n",
    "#     counter_list.append(Counter(clean_tokens))"
   ]
  },
  {
   "cell_type": "code",
   "execution_count": 46,
   "metadata": {
    "collapsed": false
   },
   "outputs": [],
   "source": [
    "with open('mayfes/text_data/todai_hoshasen_noun.txt','w') as f:\n",
    "    for k, v in sorted(noun_dic.items(), key=lambda x:x[1], reverse=True):\n",
    "#         print(\"({0} , {1})\".format(k, v)) # ==> 5 1, 2 3, 1 4の順番．valueで昇順の並び\n",
    "        f.write(\"({0} , {1})\\n\".format(k, v))"
   ]
  },
  {
   "cell_type": "code",
   "execution_count": 47,
   "metadata": {
    "collapsed": false
   },
   "outputs": [],
   "source": [
    "with open('mayfes/text_data/todai_hoshasen_verb.txt','w') as f:\n",
    "    for k, v in sorted(verb_dic.items(), key=lambda x:x[1], reverse=True):\n",
    "#         print(\"({0} , {1})\".format(k, v)) # ==> 5 1, 2 3, 1 4の順番．valueで昇順の並び\n",
    "        f.write(\"({0} , {1})\\n\".format(k, v))"
   ]
  },
  {
   "cell_type": "code",
   "execution_count": 48,
   "metadata": {
    "collapsed": false
   },
   "outputs": [],
   "source": [
    "with open('mayfes/text_data/todai_hoshasen_adjec.txt','w') as f:\n",
    "    for k, v in sorted(adjective_dic.items(), key=lambda x:x[1], reverse=True):\n",
    "#         print(\"({0} , {1})\".format(k, v)) # ==> 5 1, 2 3, 1 4の順番．valueで昇順の並び\n",
    "        f.write(\"({0} , {1})\\n\".format(k, v))"
   ]
  },
  {
   "cell_type": "code",
   "execution_count": 49,
   "metadata": {
    "collapsed": false
   },
   "outputs": [],
   "source": [
    "with open('mayfes/text_data/todai_hoshasen_adv.txt','w') as f:\n",
    "    for k, v in sorted(adverb_dic.items(), key=lambda x:x[1], reverse=True):\n",
    "#         print(\"({0} , {1})\".format(k, v)) # ==> 5 1, 2 3, 1 4の順番．valueで昇順の並び\n",
    "        f.write(\"({0} , {1})\\n\".format(k, v))"
   ]
  }
 ],
 "metadata": {
  "kernelspec": {
   "display_name": "Python 3",
   "language": "python",
   "name": "python3"
  },
  "language_info": {
   "codemirror_mode": {
    "name": "ipython",
    "version": 3
   },
   "file_extension": ".py",
   "mimetype": "text/x-python",
   "name": "python",
   "nbconvert_exporter": "python",
   "pygments_lexer": "ipython3",
   "version": "3.6.0"
  }
 },
 "nbformat": 4,
 "nbformat_minor": 2
}
