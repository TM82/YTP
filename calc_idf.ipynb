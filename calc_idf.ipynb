{
 "cells": [
  {
   "cell_type": "code",
   "execution_count": 15,
   "metadata": {
    "collapsed": true
   },
   "outputs": [],
   "source": [
    "import json\n",
    "import math\n",
    "from collections import defaultdict\n",
    "from collections import Counter\n",
    "import MeCab"
   ]
  },
  {
   "cell_type": "code",
   "execution_count": 18,
   "metadata": {
    "collapsed": true
   },
   "outputs": [],
   "source": [
    "def calc_idf(dic,page_number):\n",
    "    freq_dic = defaultdict(int)\n",
    "    for key,value in dic.items():\n",
    "        idf = math.log(page_number/value)\n",
    "        freq_dic[key] = idf\n",
    "    return freq_dic"
   ]
  },
  {
   "cell_type": "code",
   "execution_count": 16,
   "metadata": {
    "collapsed": true
   },
   "outputs": [],
   "source": [
    "json_name = [\"東大\",\"京大\",\"早稲田\",\"明治\"]"
   ]
  },
  {
   "cell_type": "code",
   "execution_count": 19,
   "metadata": {
    "collapsed": true
   },
   "outputs": [],
   "source": [
    "all_univ_freq = defaultdict(int)\n",
    "page_number = 0\n",
    "for name in json_name:\n",
    "    row_data = open('mayfes/json_data/{0}.json'.format(name), 'r')\n",
    "    data = json.load(row_data)\n",
    "    texts = [] #一ページの文のリストのリスト\n",
    "    for dic in data:\n",
    "        page_number += 1\n",
    "        texts.append(dic['texts'])\n",
    "\n",
    "    for text_list in texts:\n",
    "        appeared_words = []\n",
    "        for text in text_list:\n",
    "            tagger = MeCab.Tagger(\"-Ochasen\")        \n",
    "            result = tagger.parseToNode(text)\n",
    "            while result:\n",
    "                try:\n",
    "                    word = result.surface\n",
    "                    if len(word) > 1:\n",
    "                        word_type = result.feature.split(',')[0]\n",
    "                        if word in appeared_words:\n",
    "                            pass\n",
    "                        else:\n",
    "                            if word_type == \"名詞\":\n",
    "                                all_univ_freq[word] += 1\n",
    "                            else:\n",
    "                                pass\n",
    "                except:\n",
    "                    pass\n",
    "\n",
    "                result = result.next\n",
    "    \n",
    "with open('mayfes/text_data/words_idf.txt'.format(univ),'w') as f:\n",
    "    for k, v in sorted(calc_idf(all_univ_freq,page_number).items(), key=lambda x:x[1], reverse=True):\n",
    "        f.write(\"({0} , {1})\\n\".format(k, v))"
   ]
  }
 ],
 "metadata": {
  "kernelspec": {
   "display_name": "Python 3",
   "language": "python",
   "name": "python3"
  },
  "language_info": {
   "codemirror_mode": {
    "name": "ipython",
    "version": 3
   },
   "file_extension": ".py",
   "mimetype": "text/x-python",
   "name": "python",
   "nbconvert_exporter": "python",
   "pygments_lexer": "ipython3",
   "version": "3.6.0"
  }
 },
 "nbformat": 4,
 "nbformat_minor": 2
}
