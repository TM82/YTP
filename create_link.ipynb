{
 "cells": [
  {
   "cell_type": "code",
   "execution_count": 1,
   "metadata": {
    "collapsed": false
   },
   "outputs": [
    {
     "data": {
      "text/plain": [
       "20"
      ]
     },
     "execution_count": 1,
     "metadata": {},
     "output_type": "execute_result"
    }
   ],
   "source": [
    "import copy\n",
    "import numpy as np\n",
    "import os\n",
    "import pandas as pd\n",
    "pd.options.display.max_rows = 20\n",
    "pd.get_option(\"display.max_columns\")"
   ]
  },
  {
   "cell_type": "markdown",
   "metadata": {},
   "source": [
    "## 使い方\n",
    "- pathを変更する"
   ]
  },
  {
   "cell_type": "code",
   "execution_count": 2,
   "metadata": {
    "collapsed": true
   },
   "outputs": [],
   "source": [
    "paths = ['tfidf_text/0thLayer','tfidf_text/1stLayer','tfidf_text/2ndLayer']"
   ]
  },
  {
   "cell_type": "code",
   "execution_count": 3,
   "metadata": {
    "collapsed": false
   },
   "outputs": [],
   "source": [
    "all_nodes = set()\n",
    "link_dict = dict()\n",
    "link_df = pd.DataFrame(columns=['from','to','value'])\n",
    "for path in paths:\n",
    "    files = os.listdir(path)\n",
    "    for file in files:\n",
    "        query,_ = os.path.splitext(file)\n",
    "        if not query.startswith('.'):\n",
    "            all_nodes.add(query)\n",
    "            link_dict[query] = []\n",
    "            records = []\n",
    "            file = open('{0}/{1}.txt'.format(path,query),'r')\n",
    "            lines = file.readlines()\n",
    "            for i in range(20):\n",
    "                to_query = lines[i].split(',')[0][2:-1]\n",
    "                value = float(lines[i].split(',')[1][1:-2])\n",
    "                if not query == to_query:  #セルフノード削除\n",
    "                    all_nodes.add(to_query)\n",
    "                    link_dict[query].append(to_query)\n",
    "                    records.append([query, to_query, value])\n",
    "            df_ = pd.DataFrame(records,columns=link_df.columns)\n",
    "            link_df = link_df.append(df_)\n",
    "\n",
    "# link_df.drop(link_df[link_df[\"to\"]==link_df[\"from\"]].index) \n",
    "link_df = link_df.reset_index(drop=True)"
   ]
  },
  {
   "cell_type": "code",
   "execution_count": 4,
   "metadata": {
    "collapsed": false
   },
   "outputs": [],
   "source": [
    "#link_df.to_csv('links.csv',encoding='utf-8',index=False)"
   ]
  },
  {
   "cell_type": "code",
   "execution_count": 5,
   "metadata": {
    "collapsed": false
   },
   "outputs": [],
   "source": [
    "#link_df = pd.read_csv('links.csv')"
   ]
  },
  {
   "cell_type": "markdown",
   "metadata": {},
   "source": [
    "初期化"
   ]
  },
  {
   "cell_type": "code",
   "execution_count": 6,
   "metadata": {
    "collapsed": false
   },
   "outputs": [],
   "source": [
    "# link_df[link_df['from'] == '医療']"
   ]
  },
  {
   "cell_type": "code",
   "execution_count": 7,
   "metadata": {
    "collapsed": false
   },
   "outputs": [
    {
     "data": {
      "text/plain": [
       "570"
      ]
     },
     "execution_count": 7,
     "metadata": {},
     "output_type": "execute_result"
    }
   ],
   "source": [
    "len(link_dict)"
   ]
  },
  {
   "cell_type": "code",
   "execution_count": 8,
   "metadata": {
    "collapsed": false
   },
   "outputs": [
    {
     "data": {
      "text/plain": [
       "2798"
      ]
     },
     "execution_count": 8,
     "metadata": {},
     "output_type": "execute_result"
    }
   ],
   "source": [
    "len(all_nodes)"
   ]
  },
  {
   "cell_type": "code",
   "execution_count": 9,
   "metadata": {
    "collapsed": false
   },
   "outputs": [
    {
     "data": {
      "text/plain": [
       "11392"
      ]
     },
     "execution_count": 9,
     "metadata": {},
     "output_type": "execute_result"
    }
   ],
   "source": [
    "len(link_df)"
   ]
  },
  {
   "cell_type": "code",
   "execution_count": 10,
   "metadata": {
    "collapsed": false
   },
   "outputs": [],
   "source": [
    "tmp = pd.DataFrame()\n",
    "tmp['from'] = link_df['to']\n",
    "tmp['to'] = link_df['from']\n",
    "tmp['value'] = link_df['value']\n",
    "link_df = link_df.append(tmp)\n",
    "link_df.reset_index(drop=True)\n",
    "\n",
    "new_link_dict = copy.deepcopy(link_dict)\n",
    "for key,value in link_dict.items():\n",
    "    for val in value:\n",
    "        if val in link_dict.keys():\n",
    "            new_link_dict[val].append(key)\n",
    "        else:\n",
    "            new_link_dict[val] = [key]\n",
    "link_dict = new_link_dict"
   ]
  },
  {
   "cell_type": "code",
   "execution_count": 11,
   "metadata": {
    "collapsed": true
   },
   "outputs": [],
   "source": [
    "univs = {\n",
    "    \"東京大学\":\"from_ut\",\n",
    "    \"京都大学\":\"from_ky\",\n",
    "    \"早稲田大学\":\"from_wa\",\n",
    "    \"慶應義塾大学\":\"from_ko\",\n",
    "    \"明治大学\":\"from_me\"\n",
    "}"
   ]
  },
  {
   "cell_type": "markdown",
   "metadata": {},
   "source": [
    "df版"
   ]
  },
  {
   "cell_type": "code",
   "execution_count": 12,
   "metadata": {
    "collapsed": true
   },
   "outputs": [],
   "source": [
    "# node_df = pd.DataFrame(\n",
    "#     index=range(len(all_nodes)), \n",
    "#     columns=[\n",
    "#         'query',\n",
    "#         'from_ut',\n",
    "#         'from_ky',\n",
    "#         'from_wa',\n",
    "#         'from_ko',\n",
    "#         'from_me',\n",
    "# #         'label',\n",
    "# #         'shortest_step'\n",
    "#     ])\n",
    "# node_df['query'] = list(all_nodes)\n",
    "# node_df = node_df.fillna(float(99))"
   ]
  },
  {
   "cell_type": "code",
   "execution_count": 13,
   "metadata": {
    "collapsed": false
   },
   "outputs": [],
   "source": [
    "# for key, value in univs.items():\n",
    "#     node_df.loc[node_df['query'] == key, value] = 0"
   ]
  },
  {
   "cell_type": "code",
   "execution_count": 14,
   "metadata": {
    "collapsed": true
   },
   "outputs": [],
   "source": [
    "# from_querys = univs.keys()"
   ]
  },
  {
   "cell_type": "code",
   "execution_count": 15,
   "metadata": {
    "collapsed": true
   },
   "outputs": [],
   "source": [
    "# next_step = link_df[link_df['from'].isin(from_querys)]"
   ]
  },
  {
   "cell_type": "code",
   "execution_count": 16,
   "metadata": {
    "collapsed": false
   },
   "outputs": [],
   "source": [
    "# for from_query in from_querys:\n",
    "#     value = node_df.loc[node_df['query'] == from_query,univs.values()]\n",
    "#     for to_query in link_dict[from_query]:\n",
    "#         for column in univs.values():\n",
    "#             node_df.loc[node_df['query'] == to_query, column] = value"
   ]
  },
  {
   "cell_type": "markdown",
   "metadata": {},
   "source": [
    "dict版"
   ]
  },
  {
   "cell_type": "code",
   "execution_count": 17,
   "metadata": {
    "collapsed": true
   },
   "outputs": [],
   "source": [
    "def check_layer(from_querys,node_dict,link_dict,univs):\n",
    "    for from_query in from_querys:\n",
    "        distance_dict = copy.deepcopy(node_dict[from_query])\n",
    "        for key in distance_dict.keys():\n",
    "            distance_dict[key] += 1\n",
    "        try:\n",
    "            for to_query in link_dict[from_query]:\n",
    "                for key in univs.values():\n",
    "                    node_dict[to_query][key] = min(distance_dict[key],node_dict[to_query][key])\n",
    "        except KeyError:\n",
    "            pass\n",
    "    \n",
    "    return node_dict"
   ]
  },
  {
   "cell_type": "code",
   "execution_count": 18,
   "metadata": {
    "collapsed": true
   },
   "outputs": [],
   "source": [
    "def get_next_from_querys(link_df,from_querys):\n",
    "    next_step = link_df[link_df['from'].isin(from_querys)]\n",
    "    \n",
    "    return list(next_step['to'])"
   ]
  },
  {
   "cell_type": "code",
   "execution_count": 19,
   "metadata": {
    "collapsed": false
   },
   "outputs": [],
   "source": [
    "node_dict = {}\n",
    "for query in all_nodes:\n",
    "    node_dict[query] = {\n",
    "    \"from_ut\":99,\n",
    "    \"from_ky\":99,\n",
    "    \"from_wa\":99,\n",
    "    \"from_ko\":99,\n",
    "    \"from_me\":99\n",
    "}\n",
    "\n",
    "#初期化\n",
    "node_dict[\"東京大学\"][\"from_ut\"] = 0\n",
    "node_dict[\"京都大学\"][\"from_ky\"] = 0\n",
    "node_dict[\"早稲田大学\"][\"from_wa\"] = 0\n",
    "node_dict[\"慶應義塾大学\"][\"from_ko\"] = 0\n",
    "node_dict[\"明治大学\"][\"from_me\"] = 0"
   ]
  },
  {
   "cell_type": "code",
   "execution_count": 20,
   "metadata": {
    "collapsed": true
   },
   "outputs": [],
   "source": [
    "#1層目\n",
    "from_querys = list(univs.keys())"
   ]
  },
  {
   "cell_type": "code",
   "execution_count": 21,
   "metadata": {
    "collapsed": false
   },
   "outputs": [],
   "source": [
    "for x in range(30):\n",
    "    node_dict = check_layer(from_querys,node_dict,link_dict,univs)\n",
    "    from_querys = get_next_from_querys(link_df,from_querys)"
   ]
  },
  {
   "cell_type": "code",
   "execution_count": 22,
   "metadata": {
    "collapsed": false
   },
   "outputs": [],
   "source": [
    "list_of_list = []\n",
    "for key, value in node_dict.items():\n",
    "    list_of_list.append([key,value['from_ut'],value['from_ky'],value['from_wa'],value['from_ko'],value['from_me']])\n",
    "node_df = pd.DataFrame(list_of_list,columns=['query','from_ut','from_ky','from_wa','from_ko','from_me'])"
   ]
  },
  {
   "cell_type": "code",
   "execution_count": 23,
   "metadata": {
    "collapsed": false
   },
   "outputs": [],
   "source": [
    "node_df['shortest_step'] = np.min(node_df[list(univs.values())],axis=1)"
   ]
  },
  {
   "cell_type": "code",
   "execution_count": 24,
   "metadata": {
    "collapsed": false
   },
   "outputs": [],
   "source": [
    "# for column in ['ut','ky','wa','ko','me']:\n",
    "#     node_df['label_{}'.format(column)] = node_df['from_{}'.format(column)] == node_df['shortest_step']"
   ]
  },
  {
   "cell_type": "code",
   "execution_count": 25,
   "metadata": {
    "collapsed": false
   },
   "outputs": [],
   "source": [
    "univ_df = pd.DataFrame()\n",
    "univ_df = univ_df.append(node_df[node_df['query'] == '東京大学']).append(node_df[node_df['query'] == '京都大学'].append(node_df[node_df['query'] == '明治大学'])).append(node_df[node_df['query'] == '早稲田大学']).append(node_df[node_df['query'] == '慶應義塾大学'])"
   ]
  },
  {
   "cell_type": "code",
   "execution_count": 26,
   "metadata": {
    "collapsed": false
   },
   "outputs": [
    {
     "data": {
      "text/html": [
       "<div>\n",
       "<table border=\"1\" class=\"dataframe\">\n",
       "  <thead>\n",
       "    <tr style=\"text-align: right;\">\n",
       "      <th></th>\n",
       "      <th>query</th>\n",
       "      <th>from_ut</th>\n",
       "      <th>from_ky</th>\n",
       "      <th>from_wa</th>\n",
       "      <th>from_ko</th>\n",
       "      <th>from_me</th>\n",
       "      <th>shortest_step</th>\n",
       "      <th>label_ut</th>\n",
       "      <th>label_ky</th>\n",
       "      <th>label_wa</th>\n",
       "      <th>label_ko</th>\n",
       "      <th>label_me</th>\n",
       "    </tr>\n",
       "  </thead>\n",
       "  <tbody>\n",
       "    <tr>\n",
       "      <th>1372</th>\n",
       "      <td>東京大学</td>\n",
       "      <td>0</td>\n",
       "      <td>2</td>\n",
       "      <td>2</td>\n",
       "      <td>2</td>\n",
       "      <td>2</td>\n",
       "      <td>0</td>\n",
       "      <td>True</td>\n",
       "      <td>False</td>\n",
       "      <td>False</td>\n",
       "      <td>False</td>\n",
       "      <td>False</td>\n",
       "    </tr>\n",
       "    <tr>\n",
       "      <th>2436</th>\n",
       "      <td>京都大学</td>\n",
       "      <td>2</td>\n",
       "      <td>0</td>\n",
       "      <td>2</td>\n",
       "      <td>2</td>\n",
       "      <td>2</td>\n",
       "      <td>0</td>\n",
       "      <td>False</td>\n",
       "      <td>True</td>\n",
       "      <td>False</td>\n",
       "      <td>False</td>\n",
       "      <td>False</td>\n",
       "    </tr>\n",
       "    <tr>\n",
       "      <th>820</th>\n",
       "      <td>明治大学</td>\n",
       "      <td>2</td>\n",
       "      <td>2</td>\n",
       "      <td>2</td>\n",
       "      <td>2</td>\n",
       "      <td>0</td>\n",
       "      <td>0</td>\n",
       "      <td>False</td>\n",
       "      <td>False</td>\n",
       "      <td>False</td>\n",
       "      <td>False</td>\n",
       "      <td>True</td>\n",
       "    </tr>\n",
       "    <tr>\n",
       "      <th>2408</th>\n",
       "      <td>早稲田大学</td>\n",
       "      <td>2</td>\n",
       "      <td>2</td>\n",
       "      <td>0</td>\n",
       "      <td>2</td>\n",
       "      <td>2</td>\n",
       "      <td>0</td>\n",
       "      <td>False</td>\n",
       "      <td>False</td>\n",
       "      <td>True</td>\n",
       "      <td>False</td>\n",
       "      <td>False</td>\n",
       "    </tr>\n",
       "    <tr>\n",
       "      <th>2628</th>\n",
       "      <td>慶應義塾大学</td>\n",
       "      <td>2</td>\n",
       "      <td>2</td>\n",
       "      <td>2</td>\n",
       "      <td>0</td>\n",
       "      <td>2</td>\n",
       "      <td>0</td>\n",
       "      <td>False</td>\n",
       "      <td>False</td>\n",
       "      <td>False</td>\n",
       "      <td>True</td>\n",
       "      <td>False</td>\n",
       "    </tr>\n",
       "  </tbody>\n",
       "</table>\n",
       "</div>"
      ],
      "text/plain": [
       "       query  from_ut  from_ky  from_wa  from_ko  from_me  shortest_step  \\\n",
       "1372    東京大学        0        2        2        2        2              0   \n",
       "2436    京都大学        2        0        2        2        2              0   \n",
       "820     明治大学        2        2        2        2        0              0   \n",
       "2408   早稲田大学        2        2        0        2        2              0   \n",
       "2628  慶應義塾大学        2        2        2        0        2              0   \n",
       "\n",
       "     label_ut label_ky label_wa label_ko label_me  \n",
       "1372     True    False    False    False    False  \n",
       "2436    False     True    False    False    False  \n",
       "820     False    False    False    False     True  \n",
       "2408    False    False     True    False    False  \n",
       "2628    False    False    False     True    False  "
      ]
     },
     "execution_count": 26,
     "metadata": {},
     "output_type": "execute_result"
    }
   ],
   "source": [
    "univ_df"
   ]
  },
  {
   "cell_type": "code",
   "execution_count": 27,
   "metadata": {
    "collapsed": false
   },
   "outputs": [],
   "source": [
    "node_df = node_df.drop(univ_df.index)"
   ]
  },
  {
   "cell_type": "code",
   "execution_count": 28,
   "metadata": {
    "collapsed": true
   },
   "outputs": [],
   "source": [
    "node_df = univ_df.append(node_df).reset_index(drop=True)"
   ]
  },
  {
   "cell_type": "code",
   "execution_count": 29,
   "metadata": {
    "collapsed": false
   },
   "outputs": [],
   "source": [
    "node_df['index'] = node_df.index"
   ]
  },
  {
   "cell_type": "code",
   "execution_count": 30,
   "metadata": {
    "collapsed": false
   },
   "outputs": [
    {
     "data": {
      "text/html": [
       "<div>\n",
       "<table border=\"1\" class=\"dataframe\">\n",
       "  <thead>\n",
       "    <tr style=\"text-align: right;\">\n",
       "      <th></th>\n",
       "      <th>query</th>\n",
       "      <th>from_ut</th>\n",
       "      <th>from_ky</th>\n",
       "      <th>from_wa</th>\n",
       "      <th>from_ko</th>\n",
       "      <th>from_me</th>\n",
       "      <th>shortest_step</th>\n",
       "      <th>label_ut</th>\n",
       "      <th>label_ky</th>\n",
       "      <th>label_wa</th>\n",
       "      <th>label_ko</th>\n",
       "      <th>label_me</th>\n",
       "      <th>index</th>\n",
       "    </tr>\n",
       "  </thead>\n",
       "  <tbody>\n",
       "    <tr>\n",
       "      <th>0</th>\n",
       "      <td>東京大学</td>\n",
       "      <td>0</td>\n",
       "      <td>2</td>\n",
       "      <td>2</td>\n",
       "      <td>2</td>\n",
       "      <td>2</td>\n",
       "      <td>0</td>\n",
       "      <td>True</td>\n",
       "      <td>False</td>\n",
       "      <td>False</td>\n",
       "      <td>False</td>\n",
       "      <td>False</td>\n",
       "      <td>0</td>\n",
       "    </tr>\n",
       "    <tr>\n",
       "      <th>1</th>\n",
       "      <td>京都大学</td>\n",
       "      <td>2</td>\n",
       "      <td>0</td>\n",
       "      <td>2</td>\n",
       "      <td>2</td>\n",
       "      <td>2</td>\n",
       "      <td>0</td>\n",
       "      <td>False</td>\n",
       "      <td>True</td>\n",
       "      <td>False</td>\n",
       "      <td>False</td>\n",
       "      <td>False</td>\n",
       "      <td>1</td>\n",
       "    </tr>\n",
       "    <tr>\n",
       "      <th>2</th>\n",
       "      <td>明治大学</td>\n",
       "      <td>2</td>\n",
       "      <td>2</td>\n",
       "      <td>2</td>\n",
       "      <td>2</td>\n",
       "      <td>0</td>\n",
       "      <td>0</td>\n",
       "      <td>False</td>\n",
       "      <td>False</td>\n",
       "      <td>False</td>\n",
       "      <td>False</td>\n",
       "      <td>True</td>\n",
       "      <td>2</td>\n",
       "    </tr>\n",
       "    <tr>\n",
       "      <th>3</th>\n",
       "      <td>早稲田大学</td>\n",
       "      <td>2</td>\n",
       "      <td>2</td>\n",
       "      <td>0</td>\n",
       "      <td>2</td>\n",
       "      <td>2</td>\n",
       "      <td>0</td>\n",
       "      <td>False</td>\n",
       "      <td>False</td>\n",
       "      <td>True</td>\n",
       "      <td>False</td>\n",
       "      <td>False</td>\n",
       "      <td>3</td>\n",
       "    </tr>\n",
       "    <tr>\n",
       "      <th>4</th>\n",
       "      <td>慶應義塾大学</td>\n",
       "      <td>2</td>\n",
       "      <td>2</td>\n",
       "      <td>2</td>\n",
       "      <td>0</td>\n",
       "      <td>2</td>\n",
       "      <td>0</td>\n",
       "      <td>False</td>\n",
       "      <td>False</td>\n",
       "      <td>False</td>\n",
       "      <td>True</td>\n",
       "      <td>False</td>\n",
       "      <td>4</td>\n",
       "    </tr>\n",
       "    <tr>\n",
       "      <th>5</th>\n",
       "      <td>国勢</td>\n",
       "      <td>3</td>\n",
       "      <td>3</td>\n",
       "      <td>3</td>\n",
       "      <td>3</td>\n",
       "      <td>3</td>\n",
       "      <td>3</td>\n",
       "      <td>True</td>\n",
       "      <td>True</td>\n",
       "      <td>True</td>\n",
       "      <td>True</td>\n",
       "      <td>True</td>\n",
       "      <td>5</td>\n",
       "    </tr>\n",
       "    <tr>\n",
       "      <th>6</th>\n",
       "      <td>開催</td>\n",
       "      <td>2</td>\n",
       "      <td>2</td>\n",
       "      <td>2</td>\n",
       "      <td>2</td>\n",
       "      <td>2</td>\n",
       "      <td>2</td>\n",
       "      <td>True</td>\n",
       "      <td>True</td>\n",
       "      <td>True</td>\n",
       "      <td>True</td>\n",
       "      <td>True</td>\n",
       "      <td>6</td>\n",
       "    </tr>\n",
       "    <tr>\n",
       "      <th>7</th>\n",
       "      <td>品質</td>\n",
       "      <td>4</td>\n",
       "      <td>2</td>\n",
       "      <td>3</td>\n",
       "      <td>4</td>\n",
       "      <td>4</td>\n",
       "      <td>2</td>\n",
       "      <td>False</td>\n",
       "      <td>True</td>\n",
       "      <td>False</td>\n",
       "      <td>False</td>\n",
       "      <td>False</td>\n",
       "      <td>7</td>\n",
       "    </tr>\n",
       "    <tr>\n",
       "      <th>8</th>\n",
       "      <td>レポート</td>\n",
       "      <td>4</td>\n",
       "      <td>3</td>\n",
       "      <td>4</td>\n",
       "      <td>4</td>\n",
       "      <td>4</td>\n",
       "      <td>3</td>\n",
       "      <td>False</td>\n",
       "      <td>True</td>\n",
       "      <td>False</td>\n",
       "      <td>False</td>\n",
       "      <td>False</td>\n",
       "      <td>8</td>\n",
       "    </tr>\n",
       "    <tr>\n",
       "      <th>9</th>\n",
       "      <td>インストール</td>\n",
       "      <td>4</td>\n",
       "      <td>4</td>\n",
       "      <td>4</td>\n",
       "      <td>4</td>\n",
       "      <td>3</td>\n",
       "      <td>3</td>\n",
       "      <td>False</td>\n",
       "      <td>False</td>\n",
       "      <td>False</td>\n",
       "      <td>False</td>\n",
       "      <td>True</td>\n",
       "      <td>9</td>\n",
       "    </tr>\n",
       "    <tr>\n",
       "      <th>...</th>\n",
       "      <td>...</td>\n",
       "      <td>...</td>\n",
       "      <td>...</td>\n",
       "      <td>...</td>\n",
       "      <td>...</td>\n",
       "      <td>...</td>\n",
       "      <td>...</td>\n",
       "      <td>...</td>\n",
       "      <td>...</td>\n",
       "      <td>...</td>\n",
       "      <td>...</td>\n",
       "      <td>...</td>\n",
       "      <td>...</td>\n",
       "    </tr>\n",
       "    <tr>\n",
       "      <th>2788</th>\n",
       "      <td>鍋</td>\n",
       "      <td>3</td>\n",
       "      <td>4</td>\n",
       "      <td>3</td>\n",
       "      <td>4</td>\n",
       "      <td>4</td>\n",
       "      <td>3</td>\n",
       "      <td>True</td>\n",
       "      <td>False</td>\n",
       "      <td>True</td>\n",
       "      <td>False</td>\n",
       "      <td>False</td>\n",
       "      <td>2788</td>\n",
       "    </tr>\n",
       "    <tr>\n",
       "      <th>2789</th>\n",
       "      <td>受理</td>\n",
       "      <td>3</td>\n",
       "      <td>3</td>\n",
       "      <td>3</td>\n",
       "      <td>3</td>\n",
       "      <td>3</td>\n",
       "      <td>3</td>\n",
       "      <td>True</td>\n",
       "      <td>True</td>\n",
       "      <td>True</td>\n",
       "      <td>True</td>\n",
       "      <td>True</td>\n",
       "      <td>2789</td>\n",
       "    </tr>\n",
       "    <tr>\n",
       "      <th>2790</th>\n",
       "      <td>最適</td>\n",
       "      <td>3</td>\n",
       "      <td>3</td>\n",
       "      <td>3</td>\n",
       "      <td>3</td>\n",
       "      <td>3</td>\n",
       "      <td>3</td>\n",
       "      <td>True</td>\n",
       "      <td>True</td>\n",
       "      <td>True</td>\n",
       "      <td>True</td>\n",
       "      <td>True</td>\n",
       "      <td>2790</td>\n",
       "    </tr>\n",
       "    <tr>\n",
       "      <th>2791</th>\n",
       "      <td>乗り換え</td>\n",
       "      <td>3</td>\n",
       "      <td>4</td>\n",
       "      <td>3</td>\n",
       "      <td>3</td>\n",
       "      <td>3</td>\n",
       "      <td>3</td>\n",
       "      <td>True</td>\n",
       "      <td>False</td>\n",
       "      <td>True</td>\n",
       "      <td>True</td>\n",
       "      <td>True</td>\n",
       "      <td>2791</td>\n",
       "    </tr>\n",
       "    <tr>\n",
       "      <th>2792</th>\n",
       "      <td>能力</td>\n",
       "      <td>3</td>\n",
       "      <td>3</td>\n",
       "      <td>3</td>\n",
       "      <td>3</td>\n",
       "      <td>3</td>\n",
       "      <td>3</td>\n",
       "      <td>True</td>\n",
       "      <td>True</td>\n",
       "      <td>True</td>\n",
       "      <td>True</td>\n",
       "      <td>True</td>\n",
       "      <td>2792</td>\n",
       "    </tr>\n",
       "    <tr>\n",
       "      <th>2793</th>\n",
       "      <td>今出川</td>\n",
       "      <td>3</td>\n",
       "      <td>3</td>\n",
       "      <td>3</td>\n",
       "      <td>3</td>\n",
       "      <td>3</td>\n",
       "      <td>3</td>\n",
       "      <td>True</td>\n",
       "      <td>True</td>\n",
       "      <td>True</td>\n",
       "      <td>True</td>\n",
       "      <td>True</td>\n",
       "      <td>2793</td>\n",
       "    </tr>\n",
       "    <tr>\n",
       "      <th>2794</th>\n",
       "      <td>試聴</td>\n",
       "      <td>3</td>\n",
       "      <td>3</td>\n",
       "      <td>3</td>\n",
       "      <td>3</td>\n",
       "      <td>3</td>\n",
       "      <td>3</td>\n",
       "      <td>True</td>\n",
       "      <td>True</td>\n",
       "      <td>True</td>\n",
       "      <td>True</td>\n",
       "      <td>True</td>\n",
       "      <td>2794</td>\n",
       "    </tr>\n",
       "    <tr>\n",
       "      <th>2795</th>\n",
       "      <td>検討</td>\n",
       "      <td>2</td>\n",
       "      <td>2</td>\n",
       "      <td>2</td>\n",
       "      <td>2</td>\n",
       "      <td>2</td>\n",
       "      <td>2</td>\n",
       "      <td>True</td>\n",
       "      <td>True</td>\n",
       "      <td>True</td>\n",
       "      <td>True</td>\n",
       "      <td>True</td>\n",
       "      <td>2795</td>\n",
       "    </tr>\n",
       "    <tr>\n",
       "      <th>2796</th>\n",
       "      <td>‡</td>\n",
       "      <td>3</td>\n",
       "      <td>3</td>\n",
       "      <td>3</td>\n",
       "      <td>3</td>\n",
       "      <td>3</td>\n",
       "      <td>3</td>\n",
       "      <td>True</td>\n",
       "      <td>True</td>\n",
       "      <td>True</td>\n",
       "      <td>True</td>\n",
       "      <td>True</td>\n",
       "      <td>2796</td>\n",
       "    </tr>\n",
       "    <tr>\n",
       "      <th>2797</th>\n",
       "      <td>水産</td>\n",
       "      <td>3</td>\n",
       "      <td>3</td>\n",
       "      <td>3</td>\n",
       "      <td>3</td>\n",
       "      <td>3</td>\n",
       "      <td>3</td>\n",
       "      <td>True</td>\n",
       "      <td>True</td>\n",
       "      <td>True</td>\n",
       "      <td>True</td>\n",
       "      <td>True</td>\n",
       "      <td>2797</td>\n",
       "    </tr>\n",
       "  </tbody>\n",
       "</table>\n",
       "<p>2798 rows × 13 columns</p>\n",
       "</div>"
      ],
      "text/plain": [
       "       query  from_ut  from_ky  from_wa  from_ko  from_me  shortest_step  \\\n",
       "0       東京大学        0        2        2        2        2              0   \n",
       "1       京都大学        2        0        2        2        2              0   \n",
       "2       明治大学        2        2        2        2        0              0   \n",
       "3      早稲田大学        2        2        0        2        2              0   \n",
       "4     慶應義塾大学        2        2        2        0        2              0   \n",
       "5         国勢        3        3        3        3        3              3   \n",
       "6         開催        2        2        2        2        2              2   \n",
       "7         品質        4        2        3        4        4              2   \n",
       "8       レポート        4        3        4        4        4              3   \n",
       "9     インストール        4        4        4        4        3              3   \n",
       "...      ...      ...      ...      ...      ...      ...            ...   \n",
       "2788       鍋        3        4        3        4        4              3   \n",
       "2789      受理        3        3        3        3        3              3   \n",
       "2790      最適        3        3        3        3        3              3   \n",
       "2791    乗り換え        3        4        3        3        3              3   \n",
       "2792      能力        3        3        3        3        3              3   \n",
       "2793     今出川        3        3        3        3        3              3   \n",
       "2794      試聴        3        3        3        3        3              3   \n",
       "2795      検討        2        2        2        2        2              2   \n",
       "2796       ‡        3        3        3        3        3              3   \n",
       "2797      水産        3        3        3        3        3              3   \n",
       "\n",
       "     label_ut label_ky label_wa label_ko label_me  index  \n",
       "0        True    False    False    False    False      0  \n",
       "1       False     True    False    False    False      1  \n",
       "2       False    False    False    False     True      2  \n",
       "3       False    False     True    False    False      3  \n",
       "4       False    False    False     True    False      4  \n",
       "5        True     True     True     True     True      5  \n",
       "6        True     True     True     True     True      6  \n",
       "7       False     True    False    False    False      7  \n",
       "8       False     True    False    False    False      8  \n",
       "9       False    False    False    False     True      9  \n",
       "...       ...      ...      ...      ...      ...    ...  \n",
       "2788     True    False     True    False    False   2788  \n",
       "2789     True     True     True     True     True   2789  \n",
       "2790     True     True     True     True     True   2790  \n",
       "2791     True    False     True     True     True   2791  \n",
       "2792     True     True     True     True     True   2792  \n",
       "2793     True     True     True     True     True   2793  \n",
       "2794     True     True     True     True     True   2794  \n",
       "2795     True     True     True     True     True   2795  \n",
       "2796     True     True     True     True     True   2796  \n",
       "2797     True     True     True     True     True   2797  \n",
       "\n",
       "[2798 rows x 13 columns]"
      ]
     },
     "execution_count": 30,
     "metadata": {},
     "output_type": "execute_result"
    }
   ],
   "source": [
    "node_df"
   ]
  },
  {
   "cell_type": "code",
   "execution_count": 31,
   "metadata": {
    "collapsed": true
   },
   "outputs": [],
   "source": [
    "def get_node_index(x):\n",
    "    number = node_df[node_df['query']==x]['index']\n",
    "    return int(number)"
   ]
  },
  {
   "cell_type": "code",
   "execution_count": 32,
   "metadata": {
    "collapsed": false
   },
   "outputs": [],
   "source": [
    "link_df['from_id'] = link_df['from'].map(get_node_index)\n",
    "link_df['to_id'] = link_df['to'].map(get_node_index)"
   ]
  },
  {
   "cell_type": "code",
   "execution_count": 33,
   "metadata": {
    "collapsed": false
   },
   "outputs": [
    {
     "data": {
      "text/html": [
       "<div>\n",
       "<table border=\"1\" class=\"dataframe\">\n",
       "  <thead>\n",
       "    <tr style=\"text-align: right;\">\n",
       "      <th></th>\n",
       "      <th>from</th>\n",
       "      <th>to</th>\n",
       "      <th>value</th>\n",
       "      <th>from_id</th>\n",
       "      <th>to_id</th>\n",
       "    </tr>\n",
       "  </thead>\n",
       "  <tbody>\n",
       "    <tr>\n",
       "      <th>0</th>\n",
       "      <td>慶應義塾大学</td>\n",
       "      <td>研究</td>\n",
       "      <td>0.025952</td>\n",
       "      <td>4</td>\n",
       "      <td>2088</td>\n",
       "    </tr>\n",
       "    <tr>\n",
       "      <th>1</th>\n",
       "      <td>慶應義塾大学</td>\n",
       "      <td>学部</td>\n",
       "      <td>0.022282</td>\n",
       "      <td>4</td>\n",
       "      <td>1533</td>\n",
       "    </tr>\n",
       "    <tr>\n",
       "      <th>2</th>\n",
       "      <td>慶應義塾大学</td>\n",
       "      <td>月</td>\n",
       "      <td>0.020959</td>\n",
       "      <td>4</td>\n",
       "      <td>2657</td>\n",
       "    </tr>\n",
       "    <tr>\n",
       "      <th>3</th>\n",
       "      <td>慶應義塾大学</td>\n",
       "      <td>学生</td>\n",
       "      <td>0.020782</td>\n",
       "      <td>4</td>\n",
       "      <td>1924</td>\n",
       "    </tr>\n",
       "    <tr>\n",
       "      <th>4</th>\n",
       "      <td>慶應義塾大学</td>\n",
       "      <td>情報</td>\n",
       "      <td>0.019950</td>\n",
       "      <td>4</td>\n",
       "      <td>1928</td>\n",
       "    </tr>\n",
       "    <tr>\n",
       "      <th>5</th>\n",
       "      <td>慶應義塾大学</td>\n",
       "      <td>入試</td>\n",
       "      <td>0.018877</td>\n",
       "      <td>4</td>\n",
       "      <td>1725</td>\n",
       "    </tr>\n",
       "    <tr>\n",
       "      <th>6</th>\n",
       "      <td>慶應義塾大学</td>\n",
       "      <td>医学部</td>\n",
       "      <td>0.018081</td>\n",
       "      <td>4</td>\n",
       "      <td>48</td>\n",
       "    </tr>\n",
       "    <tr>\n",
       "      <th>7</th>\n",
       "      <td>慶應義塾大学</td>\n",
       "      <td>紹介</td>\n",
       "      <td>0.016290</td>\n",
       "      <td>4</td>\n",
       "      <td>2040</td>\n",
       "    </tr>\n",
       "    <tr>\n",
       "      <th>8</th>\n",
       "      <td>慶應義塾大学</td>\n",
       "      <td>キャンパス</td>\n",
       "      <td>0.016262</td>\n",
       "      <td>4</td>\n",
       "      <td>2521</td>\n",
       "    </tr>\n",
       "    <tr>\n",
       "      <th>9</th>\n",
       "      <td>慶應義塾大学</td>\n",
       "      <td>マンション</td>\n",
       "      <td>0.015036</td>\n",
       "      <td>4</td>\n",
       "      <td>777</td>\n",
       "    </tr>\n",
       "    <tr>\n",
       "      <th>...</th>\n",
       "      <td>...</td>\n",
       "      <td>...</td>\n",
       "      <td>...</td>\n",
       "      <td>...</td>\n",
       "      <td>...</td>\n",
       "    </tr>\n",
       "    <tr>\n",
       "      <th>11382</th>\n",
       "      <td>抽せん</td>\n",
       "      <td>宝くじ</td>\n",
       "      <td>0.042681</td>\n",
       "      <td>594</td>\n",
       "      <td>2382</td>\n",
       "    </tr>\n",
       "    <tr>\n",
       "      <th>11383</th>\n",
       "      <td>自治</td>\n",
       "      <td>宝くじ</td>\n",
       "      <td>0.038978</td>\n",
       "      <td>322</td>\n",
       "      <td>2382</td>\n",
       "    </tr>\n",
       "    <tr>\n",
       "      <th>11384</th>\n",
       "      <td>ビンゴ</td>\n",
       "      <td>宝くじ</td>\n",
       "      <td>0.038662</td>\n",
       "      <td>724</td>\n",
       "      <td>2382</td>\n",
       "    </tr>\n",
       "    <tr>\n",
       "      <th>11385</th>\n",
       "      <td>サイト</td>\n",
       "      <td>宝くじ</td>\n",
       "      <td>0.037819</td>\n",
       "      <td>262</td>\n",
       "      <td>2382</td>\n",
       "    </tr>\n",
       "    <tr>\n",
       "      <th>11386</th>\n",
       "      <td>売場</td>\n",
       "      <td>宝くじ</td>\n",
       "      <td>0.035170</td>\n",
       "      <td>2355</td>\n",
       "      <td>2382</td>\n",
       "    </tr>\n",
       "    <tr>\n",
       "      <th>11387</th>\n",
       "      <td>収益</td>\n",
       "      <td>宝くじ</td>\n",
       "      <td>0.035017</td>\n",
       "      <td>2496</td>\n",
       "      <td>2382</td>\n",
       "    </tr>\n",
       "    <tr>\n",
       "      <th>11388</th>\n",
       "      <td>ミニロト</td>\n",
       "      <td>宝くじ</td>\n",
       "      <td>0.034209</td>\n",
       "      <td>2178</td>\n",
       "      <td>2382</td>\n",
       "    </tr>\n",
       "    <tr>\n",
       "      <th>11389</th>\n",
       "      <td>抽選</td>\n",
       "      <td>宝くじ</td>\n",
       "      <td>0.033720</td>\n",
       "      <td>2509</td>\n",
       "      <td>2382</td>\n",
       "    </tr>\n",
       "    <tr>\n",
       "      <th>11390</th>\n",
       "      <td>ネット</td>\n",
       "      <td>宝くじ</td>\n",
       "      <td>0.031710</td>\n",
       "      <td>1816</td>\n",
       "      <td>2382</td>\n",
       "    </tr>\n",
       "    <tr>\n",
       "      <th>11391</th>\n",
       "      <td>ブロック</td>\n",
       "      <td>宝くじ</td>\n",
       "      <td>0.030341</td>\n",
       "      <td>1179</td>\n",
       "      <td>2382</td>\n",
       "    </tr>\n",
       "  </tbody>\n",
       "</table>\n",
       "<p>22784 rows × 5 columns</p>\n",
       "</div>"
      ],
      "text/plain": [
       "         from     to     value  from_id  to_id\n",
       "0      慶應義塾大学     研究  0.025952        4   2088\n",
       "1      慶應義塾大学     学部  0.022282        4   1533\n",
       "2      慶應義塾大学      月  0.020959        4   2657\n",
       "3      慶應義塾大学     学生  0.020782        4   1924\n",
       "4      慶應義塾大学     情報  0.019950        4   1928\n",
       "5      慶應義塾大学     入試  0.018877        4   1725\n",
       "6      慶應義塾大学    医学部  0.018081        4     48\n",
       "7      慶應義塾大学     紹介  0.016290        4   2040\n",
       "8      慶應義塾大学  キャンパス  0.016262        4   2521\n",
       "9      慶應義塾大学  マンション  0.015036        4    777\n",
       "...       ...    ...       ...      ...    ...\n",
       "11382     抽せん    宝くじ  0.042681      594   2382\n",
       "11383      自治    宝くじ  0.038978      322   2382\n",
       "11384     ビンゴ    宝くじ  0.038662      724   2382\n",
       "11385     サイト    宝くじ  0.037819      262   2382\n",
       "11386      売場    宝くじ  0.035170     2355   2382\n",
       "11387      収益    宝くじ  0.035017     2496   2382\n",
       "11388    ミニロト    宝くじ  0.034209     2178   2382\n",
       "11389      抽選    宝くじ  0.033720     2509   2382\n",
       "11390     ネット    宝くじ  0.031710     1816   2382\n",
       "11391    ブロック    宝くじ  0.030341     1179   2382\n",
       "\n",
       "[22784 rows x 5 columns]"
      ]
     },
     "execution_count": 33,
     "metadata": {},
     "output_type": "execute_result"
    }
   ],
   "source": [
    "link_df"
   ]
  },
  {
   "cell_type": "code",
   "execution_count": 111,
   "metadata": {
    "collapsed": true
   },
   "outputs": [],
   "source": [
    "# node_df.to_csv('nodes.csv')\n",
    "# link_df.to_csv('links.csv')"
   ]
  },
  {
   "cell_type": "code",
   "execution_count": 148,
   "metadata": {
    "collapsed": false
   },
   "outputs": [],
   "source": [
    "def set_label(x):\n",
    "    label = []\n",
    "    univ = ['ut','ky','me','wa','ko']\n",
    "    for i in range(len(univ)):\n",
    "        if x['label_{}'.format(univ[i])]:\n",
    "            label.append(i)\n",
    "    return label"
   ]
  },
  {
   "cell_type": "code",
   "execution_count": 149,
   "metadata": {
    "collapsed": true
   },
   "outputs": [],
   "source": [
    "node_df['label'] = node_df.apply(set_label,axis=1)"
   ]
  },
  {
   "cell_type": "code",
   "execution_count": 150,
   "metadata": {
    "collapsed": true
   },
   "outputs": [],
   "source": [
    "labeled_df = node_df.loc[:,['index','label']]"
   ]
  },
  {
   "cell_type": "code",
   "execution_count": 151,
   "metadata": {
    "collapsed": false
   },
   "outputs": [
    {
     "data": {
      "text/html": [
       "<div>\n",
       "<table border=\"1\" class=\"dataframe\">\n",
       "  <thead>\n",
       "    <tr style=\"text-align: right;\">\n",
       "      <th></th>\n",
       "      <th>index</th>\n",
       "      <th>label</th>\n",
       "    </tr>\n",
       "  </thead>\n",
       "  <tbody>\n",
       "    <tr>\n",
       "      <th>0</th>\n",
       "      <td>0</td>\n",
       "      <td>[0]</td>\n",
       "    </tr>\n",
       "    <tr>\n",
       "      <th>1</th>\n",
       "      <td>1</td>\n",
       "      <td>[1]</td>\n",
       "    </tr>\n",
       "    <tr>\n",
       "      <th>2</th>\n",
       "      <td>2</td>\n",
       "      <td>[2]</td>\n",
       "    </tr>\n",
       "    <tr>\n",
       "      <th>3</th>\n",
       "      <td>3</td>\n",
       "      <td>[3]</td>\n",
       "    </tr>\n",
       "    <tr>\n",
       "      <th>4</th>\n",
       "      <td>4</td>\n",
       "      <td>[4]</td>\n",
       "    </tr>\n",
       "    <tr>\n",
       "      <th>5</th>\n",
       "      <td>5</td>\n",
       "      <td>[0, 1, 2, 3, 4]</td>\n",
       "    </tr>\n",
       "    <tr>\n",
       "      <th>6</th>\n",
       "      <td>6</td>\n",
       "      <td>[0, 1, 2, 3, 4]</td>\n",
       "    </tr>\n",
       "    <tr>\n",
       "      <th>7</th>\n",
       "      <td>7</td>\n",
       "      <td>[1]</td>\n",
       "    </tr>\n",
       "    <tr>\n",
       "      <th>8</th>\n",
       "      <td>8</td>\n",
       "      <td>[1]</td>\n",
       "    </tr>\n",
       "    <tr>\n",
       "      <th>9</th>\n",
       "      <td>9</td>\n",
       "      <td>[2]</td>\n",
       "    </tr>\n",
       "    <tr>\n",
       "      <th>...</th>\n",
       "      <td>...</td>\n",
       "      <td>...</td>\n",
       "    </tr>\n",
       "    <tr>\n",
       "      <th>2788</th>\n",
       "      <td>2788</td>\n",
       "      <td>[0, 3]</td>\n",
       "    </tr>\n",
       "    <tr>\n",
       "      <th>2789</th>\n",
       "      <td>2789</td>\n",
       "      <td>[0, 1, 2, 3, 4]</td>\n",
       "    </tr>\n",
       "    <tr>\n",
       "      <th>2790</th>\n",
       "      <td>2790</td>\n",
       "      <td>[0, 1, 2, 3, 4]</td>\n",
       "    </tr>\n",
       "    <tr>\n",
       "      <th>2791</th>\n",
       "      <td>2791</td>\n",
       "      <td>[0, 2, 3, 4]</td>\n",
       "    </tr>\n",
       "    <tr>\n",
       "      <th>2792</th>\n",
       "      <td>2792</td>\n",
       "      <td>[0, 1, 2, 3, 4]</td>\n",
       "    </tr>\n",
       "    <tr>\n",
       "      <th>2793</th>\n",
       "      <td>2793</td>\n",
       "      <td>[0, 1, 2, 3, 4]</td>\n",
       "    </tr>\n",
       "    <tr>\n",
       "      <th>2794</th>\n",
       "      <td>2794</td>\n",
       "      <td>[0, 1, 2, 3, 4]</td>\n",
       "    </tr>\n",
       "    <tr>\n",
       "      <th>2795</th>\n",
       "      <td>2795</td>\n",
       "      <td>[0, 1, 2, 3, 4]</td>\n",
       "    </tr>\n",
       "    <tr>\n",
       "      <th>2796</th>\n",
       "      <td>2796</td>\n",
       "      <td>[0, 1, 2, 3, 4]</td>\n",
       "    </tr>\n",
       "    <tr>\n",
       "      <th>2797</th>\n",
       "      <td>2797</td>\n",
       "      <td>[0, 1, 2, 3, 4]</td>\n",
       "    </tr>\n",
       "  </tbody>\n",
       "</table>\n",
       "<p>2798 rows × 2 columns</p>\n",
       "</div>"
      ],
      "text/plain": [
       "      index            label\n",
       "0         0              [0]\n",
       "1         1              [1]\n",
       "2         2              [2]\n",
       "3         3              [3]\n",
       "4         4              [4]\n",
       "5         5  [0, 1, 2, 3, 4]\n",
       "6         6  [0, 1, 2, 3, 4]\n",
       "7         7              [1]\n",
       "8         8              [1]\n",
       "9         9              [2]\n",
       "...     ...              ...\n",
       "2788   2788           [0, 3]\n",
       "2789   2789  [0, 1, 2, 3, 4]\n",
       "2790   2790  [0, 1, 2, 3, 4]\n",
       "2791   2791     [0, 2, 3, 4]\n",
       "2792   2792  [0, 1, 2, 3, 4]\n",
       "2793   2793  [0, 1, 2, 3, 4]\n",
       "2794   2794  [0, 1, 2, 3, 4]\n",
       "2795   2795  [0, 1, 2, 3, 4]\n",
       "2796   2796  [0, 1, 2, 3, 4]\n",
       "2797   2797  [0, 1, 2, 3, 4]\n",
       "\n",
       "[2798 rows x 2 columns]"
      ]
     },
     "execution_count": 151,
     "metadata": {},
     "output_type": "execute_result"
    }
   ],
   "source": [
    "labeled_df"
   ]
  },
  {
   "cell_type": "code",
   "execution_count": 152,
   "metadata": {
    "collapsed": true
   },
   "outputs": [],
   "source": [
    "# labeled_df.to_csv('label.csv')"
   ]
  },
  {
   "cell_type": "code",
   "execution_count": null,
   "metadata": {
    "collapsed": true
   },
   "outputs": [],
   "source": []
  }
 ],
 "metadata": {
  "kernelspec": {
   "display_name": "Python 3",
   "language": "python",
   "name": "python3"
  },
  "language_info": {
   "codemirror_mode": {
    "name": "ipython",
    "version": 3
   },
   "file_extension": ".py",
   "mimetype": "text/x-python",
   "name": "python",
   "nbconvert_exporter": "python",
   "pygments_lexer": "ipython3",
   "version": "3.6.0"
  }
 },
 "nbformat": 4,
 "nbformat_minor": 2
}
