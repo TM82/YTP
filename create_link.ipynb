{
 "cells": [
  {
   "cell_type": "code",
   "execution_count": 128,
   "metadata": {
    "collapsed": true
   },
   "outputs": [],
   "source": [
    "import copy\n",
    "import numpy as np\n",
    "import os\n",
    "import pandas as pd\n",
    "pd.options.display.max_rows = 8"
   ]
  },
  {
   "cell_type": "markdown",
   "metadata": {},
   "source": [
    "## 使い方\n",
    "- pathを変更する"
   ]
  },
  {
   "cell_type": "code",
   "execution_count": 139,
   "metadata": {
    "collapsed": true
   },
   "outputs": [],
   "source": [
    "paths = ['tfidf_text/0thLayer','tfidf_text/1stLayer','tfidf_text/2ndLayer']"
   ]
  },
  {
   "cell_type": "code",
   "execution_count": 140,
   "metadata": {
    "collapsed": false
   },
   "outputs": [],
   "source": [
    "all_nodes = set()\n",
    "link_dict = dict()\n",
    "link_df = pd.DataFrame(columns=['from','to','value'])\n",
    "for path in paths:\n",
    "    files = os.listdir(path)\n",
    "    for file in files:\n",
    "        query,_ = os.path.splitext(file)\n",
    "        if not query.startswith('.'):\n",
    "            all_nodes.add(query)\n",
    "            link_dict[query] = []\n",
    "            records = []\n",
    "            file = open('{0}/{1}.txt'.format(path,query),'r')\n",
    "            lines = file.readlines()\n",
    "            for i in range(20):\n",
    "                to_query = lines[i].split(',')[0][2:-1]\n",
    "                value = float(lines[i].split(',')[1][1:-2])\n",
    "                if not query == to_query:  #セルフノード削除\n",
    "                    all_nodes.add(to_query)\n",
    "                    link_dict[query].append(to_query)\n",
    "                    records.append([query, to_query, value])\n",
    "            df_ = pd.DataFrame(records,columns=link_df.columns)\n",
    "            link_df = link_df.append(df_)\n",
    "\n",
    "# link_df.drop(link_df[link_df[\"to\"]==link_df[\"from\"]].index) \n",
    "link_df = link_df.reset_index(drop=True)"
   ]
  },
  {
   "cell_type": "code",
   "execution_count": 141,
   "metadata": {
    "collapsed": false
   },
   "outputs": [],
   "source": [
    "#link_df.to_csv('links.csv',encoding='utf-8',index=False)"
   ]
  },
  {
   "cell_type": "code",
   "execution_count": 142,
   "metadata": {
    "collapsed": false
   },
   "outputs": [],
   "source": [
    "#link_df = pd.read_csv('links.csv')"
   ]
  },
  {
   "cell_type": "markdown",
   "metadata": {},
   "source": [
    "初期化"
   ]
  },
  {
   "cell_type": "code",
   "execution_count": 149,
   "metadata": {
    "collapsed": false
   },
   "outputs": [
    {
     "data": {
      "text/plain": [
       "2784"
      ]
     },
     "execution_count": 149,
     "metadata": {},
     "output_type": "execute_result"
    }
   ],
   "source": [
    "len(link_dict)"
   ]
  },
  {
   "cell_type": "code",
   "execution_count": 148,
   "metadata": {
    "collapsed": false
   },
   "outputs": [
    {
     "data": {
      "text/plain": [
       "2798"
      ]
     },
     "execution_count": 148,
     "metadata": {},
     "output_type": "execute_result"
    }
   ],
   "source": [
    "len(all_nodes)"
   ]
  },
  {
   "cell_type": "code",
   "execution_count": 147,
   "metadata": {
    "collapsed": false
   },
   "outputs": [
    {
     "data": {
      "text/plain": [
       "22784"
      ]
     },
     "execution_count": 147,
     "metadata": {},
     "output_type": "execute_result"
    }
   ],
   "source": [
    "len(link_df)"
   ]
  },
  {
   "cell_type": "code",
   "execution_count": 146,
   "metadata": {
    "collapsed": false
   },
   "outputs": [],
   "source": [
    "tmp = pd.DataFrame()\n",
    "tmp['from'] = link_df['to']\n",
    "tmp['to'] = link_df['from']\n",
    "tmp['value'] = link_df['value']\n",
    "link_df = link_df.append(tmp)\n",
    "link_df.reset_index(drop=True)\n",
    "\n",
    "new_link_dict = copy.deepcopy(link_dict)\n",
    "for key,value in link_dict.items():\n",
    "    for val in value:\n",
    "        if val in link_dict.keys():\n",
    "            new_link_dict[val].append(key)\n",
    "        else:\n",
    "            new_link_dict[val] = [key]\n",
    "link_dict = new_link_dict"
   ]
  },
  {
   "cell_type": "code",
   "execution_count": 150,
   "metadata": {
    "collapsed": true
   },
   "outputs": [],
   "source": [
    "univs = {\n",
    "    \"東京大学\":\"from_ut\",\n",
    "    \"京都大学\":\"from_ky\",\n",
    "    \"早稲田大学\":\"from_wa\",\n",
    "    \"慶應義塾大学\":\"from_ko\",\n",
    "    \"明治大学\":\"from_me\"\n",
    "}"
   ]
  },
  {
   "cell_type": "markdown",
   "metadata": {},
   "source": [
    "df版"
   ]
  },
  {
   "cell_type": "code",
   "execution_count": 151,
   "metadata": {
    "collapsed": true
   },
   "outputs": [],
   "source": [
    "# node_df = pd.DataFrame(\n",
    "#     index=range(len(all_nodes)), \n",
    "#     columns=[\n",
    "#         'query',\n",
    "#         'from_ut',\n",
    "#         'from_ky',\n",
    "#         'from_wa',\n",
    "#         'from_ko',\n",
    "#         'from_me',\n",
    "# #         'label',\n",
    "# #         'shortest_step'\n",
    "#     ])\n",
    "# node_df['query'] = list(all_nodes)\n",
    "# node_df = node_df.fillna(float(99))"
   ]
  },
  {
   "cell_type": "code",
   "execution_count": 152,
   "metadata": {
    "collapsed": false
   },
   "outputs": [],
   "source": [
    "# for key, value in univs.items():\n",
    "#     node_df.loc[node_df['query'] == key, value] = 0"
   ]
  },
  {
   "cell_type": "code",
   "execution_count": 153,
   "metadata": {
    "collapsed": true
   },
   "outputs": [],
   "source": [
    "# from_querys = univs.keys()"
   ]
  },
  {
   "cell_type": "code",
   "execution_count": 154,
   "metadata": {
    "collapsed": true
   },
   "outputs": [],
   "source": [
    "# next_step = link_df[link_df['from'].isin(from_querys)]"
   ]
  },
  {
   "cell_type": "code",
   "execution_count": 155,
   "metadata": {
    "collapsed": false
   },
   "outputs": [],
   "source": [
    "# for from_query in from_querys:\n",
    "#     value = node_df.loc[node_df['query'] == from_query,univs.values()]\n",
    "#     for to_query in link_dict[from_query]:\n",
    "#         for column in univs.values():\n",
    "#             node_df.loc[node_df['query'] == to_query, column] = value"
   ]
  },
  {
   "cell_type": "markdown",
   "metadata": {},
   "source": [
    "dict版"
   ]
  },
  {
   "cell_type": "code",
   "execution_count": 157,
   "metadata": {
    "collapsed": true
   },
   "outputs": [],
   "source": [
    "def check_layer(from_querys,node_dict,link_dict,univs):\n",
    "    for from_query in from_querys:\n",
    "        distance_dict = copy.deepcopy(node_dict[from_query])\n",
    "        for key in distance_dict.keys():\n",
    "            distance_dict[key] += 1\n",
    "        try:\n",
    "            for to_query in link_dict[from_query]:\n",
    "                for key in univs.values():\n",
    "                    node_dict[to_query][key] = min(distance_dict[key],node_dict[to_query][key])\n",
    "        except KeyError:\n",
    "            pass\n",
    "    \n",
    "    return node_dict"
   ]
  },
  {
   "cell_type": "code",
   "execution_count": 158,
   "metadata": {
    "collapsed": true
   },
   "outputs": [],
   "source": [
    "def get_next_from_querys(link_df,from_querys):\n",
    "    next_step = link_df[link_df['from'].isin(from_querys)]\n",
    "    \n",
    "    return list(next_step['to'])"
   ]
  },
  {
   "cell_type": "code",
   "execution_count": 161,
   "metadata": {
    "collapsed": false
   },
   "outputs": [],
   "source": [
    "node_dict = {}\n",
    "for query in all_nodes:\n",
    "    node_dict[query] = {\n",
    "    \"from_ut\":99,\n",
    "    \"from_ky\":99,\n",
    "    \"from_wa\":99,\n",
    "    \"from_ko\":99,\n",
    "    \"from_me\":99\n",
    "}\n",
    "\n",
    "#初期化\n",
    "node_dict[\"東京大学\"][\"from_ut\"] = 0\n",
    "node_dict[\"京都大学\"][\"from_ky\"] = 0\n",
    "node_dict[\"早稲田大学\"][\"from_wa\"] = 0\n",
    "node_dict[\"慶應義塾大学\"][\"from_ko\"] = 0\n",
    "node_dict[\"明治大学\"][\"from_me\"] = 0"
   ]
  },
  {
   "cell_type": "code",
   "execution_count": 162,
   "metadata": {
    "collapsed": true
   },
   "outputs": [],
   "source": [
    "#1層目\n",
    "from_querys = list(univs.keys())"
   ]
  },
  {
   "cell_type": "code",
   "execution_count": 163,
   "metadata": {
    "collapsed": false
   },
   "outputs": [],
   "source": [
    "for x in range(10):\n",
    "    node_dict = check_layer(from_querys,node_dict,link_dict,univs)\n",
    "    from_querys = get_next_from_querys(link_df,from_querys)"
   ]
  },
  {
   "cell_type": "code",
   "execution_count": 164,
   "metadata": {
    "collapsed": false
   },
   "outputs": [],
   "source": [
    "list_of_list = []\n",
    "for key, value in node_dict.items():\n",
    "    list_of_list.append([key,value['from_ut'],value['from_ky'],value['from_wa'],value['from_ko'],value['from_me']])\n",
    "node_df = pd.DataFrame(list_of_list,columns=['query','from_ut','from_ky','from_wa','from_ko','from_me'])"
   ]
  },
  {
   "cell_type": "code",
   "execution_count": 165,
   "metadata": {
    "collapsed": false
   },
   "outputs": [],
   "source": [
    "node_df['shortest_step'] = np.min(node_df[list(univs.values())],axis=1)"
   ]
  },
  {
   "cell_type": "code",
   "execution_count": 166,
   "metadata": {
    "collapsed": false
   },
   "outputs": [],
   "source": [
    "for column in ['ut','ky','wa','ko','me']:\n",
    "    node_df['label_{}'.format(column)] = node_df['from_{}'.format(column)] == node_df['shortest_step']"
   ]
  },
  {
   "cell_type": "code",
   "execution_count": 167,
   "metadata": {
    "collapsed": false
   },
   "outputs": [
    {
     "data": {
      "text/html": [
       "<div>\n",
       "<table border=\"1\" class=\"dataframe\">\n",
       "  <thead>\n",
       "    <tr style=\"text-align: right;\">\n",
       "      <th></th>\n",
       "      <th>query</th>\n",
       "      <th>from_ut</th>\n",
       "      <th>from_ky</th>\n",
       "      <th>from_wa</th>\n",
       "      <th>from_ko</th>\n",
       "      <th>from_me</th>\n",
       "      <th>shortest_step</th>\n",
       "      <th>label_ut</th>\n",
       "      <th>label_ky</th>\n",
       "      <th>label_wa</th>\n",
       "      <th>label_ko</th>\n",
       "      <th>label_me</th>\n",
       "    </tr>\n",
       "  </thead>\n",
       "  <tbody>\n",
       "    <tr>\n",
       "      <th>0</th>\n",
       "      <td>画数</td>\n",
       "      <td>4</td>\n",
       "      <td>4</td>\n",
       "      <td>4</td>\n",
       "      <td>4</td>\n",
       "      <td>3</td>\n",
       "      <td>3</td>\n",
       "      <td>False</td>\n",
       "      <td>False</td>\n",
       "      <td>False</td>\n",
       "      <td>False</td>\n",
       "      <td>True</td>\n",
       "    </tr>\n",
       "    <tr>\n",
       "      <th>1</th>\n",
       "      <td>素材</td>\n",
       "      <td>3</td>\n",
       "      <td>3</td>\n",
       "      <td>3</td>\n",
       "      <td>3</td>\n",
       "      <td>3</td>\n",
       "      <td>3</td>\n",
       "      <td>True</td>\n",
       "      <td>True</td>\n",
       "      <td>True</td>\n",
       "      <td>True</td>\n",
       "      <td>True</td>\n",
       "    </tr>\n",
       "    <tr>\n",
       "      <th>2</th>\n",
       "      <td>サイバー</td>\n",
       "      <td>3</td>\n",
       "      <td>3</td>\n",
       "      <td>3</td>\n",
       "      <td>3</td>\n",
       "      <td>3</td>\n",
       "      <td>3</td>\n",
       "      <td>True</td>\n",
       "      <td>True</td>\n",
       "      <td>True</td>\n",
       "      <td>True</td>\n",
       "      <td>True</td>\n",
       "    </tr>\n",
       "    <tr>\n",
       "      <th>3</th>\n",
       "      <td>月行事</td>\n",
       "      <td>2</td>\n",
       "      <td>2</td>\n",
       "      <td>2</td>\n",
       "      <td>2</td>\n",
       "      <td>2</td>\n",
       "      <td>2</td>\n",
       "      <td>True</td>\n",
       "      <td>True</td>\n",
       "      <td>True</td>\n",
       "      <td>True</td>\n",
       "      <td>True</td>\n",
       "    </tr>\n",
       "    <tr>\n",
       "      <th>...</th>\n",
       "      <td>...</td>\n",
       "      <td>...</td>\n",
       "      <td>...</td>\n",
       "      <td>...</td>\n",
       "      <td>...</td>\n",
       "      <td>...</td>\n",
       "      <td>...</td>\n",
       "      <td>...</td>\n",
       "      <td>...</td>\n",
       "      <td>...</td>\n",
       "      <td>...</td>\n",
       "      <td>...</td>\n",
       "    </tr>\n",
       "    <tr>\n",
       "      <th>2794</th>\n",
       "      <td>ウォーカー</td>\n",
       "      <td>3</td>\n",
       "      <td>3</td>\n",
       "      <td>3</td>\n",
       "      <td>3</td>\n",
       "      <td>3</td>\n",
       "      <td>3</td>\n",
       "      <td>True</td>\n",
       "      <td>True</td>\n",
       "      <td>True</td>\n",
       "      <td>True</td>\n",
       "      <td>True</td>\n",
       "    </tr>\n",
       "    <tr>\n",
       "      <th>2795</th>\n",
       "      <td>本体</td>\n",
       "      <td>3</td>\n",
       "      <td>3</td>\n",
       "      <td>3</td>\n",
       "      <td>3</td>\n",
       "      <td>3</td>\n",
       "      <td>3</td>\n",
       "      <td>True</td>\n",
       "      <td>True</td>\n",
       "      <td>True</td>\n",
       "      <td>True</td>\n",
       "      <td>True</td>\n",
       "    </tr>\n",
       "    <tr>\n",
       "      <th>2796</th>\n",
       "      <td>電線</td>\n",
       "      <td>3</td>\n",
       "      <td>3</td>\n",
       "      <td>3</td>\n",
       "      <td>3</td>\n",
       "      <td>3</td>\n",
       "      <td>3</td>\n",
       "      <td>True</td>\n",
       "      <td>True</td>\n",
       "      <td>True</td>\n",
       "      <td>True</td>\n",
       "      <td>True</td>\n",
       "    </tr>\n",
       "    <tr>\n",
       "      <th>2797</th>\n",
       "      <td>生活</td>\n",
       "      <td>2</td>\n",
       "      <td>2</td>\n",
       "      <td>2</td>\n",
       "      <td>2</td>\n",
       "      <td>2</td>\n",
       "      <td>2</td>\n",
       "      <td>True</td>\n",
       "      <td>True</td>\n",
       "      <td>True</td>\n",
       "      <td>True</td>\n",
       "      <td>True</td>\n",
       "    </tr>\n",
       "  </tbody>\n",
       "</table>\n",
       "<p>2798 rows × 12 columns</p>\n",
       "</div>"
      ],
      "text/plain": [
       "      query  from_ut  from_ky  from_wa  from_ko  from_me  shortest_step  \\\n",
       "0        画数        4        4        4        4        3              3   \n",
       "1        素材        3        3        3        3        3              3   \n",
       "2      サイバー        3        3        3        3        3              3   \n",
       "3       月行事        2        2        2        2        2              2   \n",
       "...     ...      ...      ...      ...      ...      ...            ...   \n",
       "2794  ウォーカー        3        3        3        3        3              3   \n",
       "2795     本体        3        3        3        3        3              3   \n",
       "2796     電線        3        3        3        3        3              3   \n",
       "2797     生活        2        2        2        2        2              2   \n",
       "\n",
       "     label_ut label_ky label_wa label_ko label_me  \n",
       "0       False    False    False    False     True  \n",
       "1        True     True     True     True     True  \n",
       "2        True     True     True     True     True  \n",
       "3        True     True     True     True     True  \n",
       "...       ...      ...      ...      ...      ...  \n",
       "2794     True     True     True     True     True  \n",
       "2795     True     True     True     True     True  \n",
       "2796     True     True     True     True     True  \n",
       "2797     True     True     True     True     True  \n",
       "\n",
       "[2798 rows x 12 columns]"
      ]
     },
     "execution_count": 167,
     "metadata": {},
     "output_type": "execute_result"
    }
   ],
   "source": [
    "node_df"
   ]
  },
  {
   "cell_type": "code",
   "execution_count": 170,
   "metadata": {
    "collapsed": true
   },
   "outputs": [],
   "source": [
    "node_df.to_csv('nodes.csv')"
   ]
  },
  {
   "cell_type": "code",
   "execution_count": 169,
   "metadata": {
    "collapsed": false
   },
   "outputs": [
    {
     "data": {
      "text/plain": [
       "query       START\n",
       "from_ut         3\n",
       "from_ky         3\n",
       "from_wa         3\n",
       "            ...  \n",
       "label_ky     True\n",
       "label_wa     True\n",
       "label_ko     True\n",
       "label_me     True\n",
       "Name: 360, dtype: object"
      ]
     },
     "execution_count": 169,
     "metadata": {},
     "output_type": "execute_result"
    }
   ],
   "source": [
    "node_df.loc[360,:]"
   ]
  },
  {
   "cell_type": "code",
   "execution_count": null,
   "metadata": {
    "collapsed": true
   },
   "outputs": [],
   "source": []
  }
 ],
 "metadata": {
  "kernelspec": {
   "display_name": "Python 3",
   "language": "python",
   "name": "python3"
  },
  "language_info": {
   "codemirror_mode": {
    "name": "ipython",
    "version": 3
   },
   "file_extension": ".py",
   "mimetype": "text/x-python",
   "name": "python",
   "nbconvert_exporter": "python",
   "pygments_lexer": "ipython3",
   "version": "3.6.0"
  }
 },
 "nbformat": 4,
 "nbformat_minor": 2
}
