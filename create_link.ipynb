{
 "cells": [
  {
   "cell_type": "code",
   "execution_count": 83,
   "metadata": {
    "collapsed": true
   },
   "outputs": [],
   "source": [
    "import copy\n",
    "import numpy as np\n",
    "import os\n",
    "import pandas as pd\n",
    "pd.options.display.max_rows = 8"
   ]
  },
  {
   "cell_type": "markdown",
   "metadata": {},
   "source": [
    "## 使い方\n",
    "- pathを変更する"
   ]
  },
  {
   "cell_type": "code",
   "execution_count": 84,
   "metadata": {
    "collapsed": true
   },
   "outputs": [],
   "source": [
    "paths = ['tfidf_text/0thLayer','tfidf_text/1stLayer','tfidf_text/2ndLayer']"
   ]
  },
  {
   "cell_type": "code",
   "execution_count": 85,
   "metadata": {
    "collapsed": false
   },
   "outputs": [],
   "source": [
    "all_nodes = set()\n",
    "link_dict = dict()\n",
    "link_df = pd.DataFrame(columns=['from','to','value'])\n",
    "\n",
    "querys = [os.path.splitext(x)[0] for x in os.listdir('tfidf_text/0thLayer')]\n",
    "for path in paths:\n",
    "    next_querys = []\n",
    "    for query in querys:\n",
    "        if not query.startswith('.'):\n",
    "            all_nodes.add(query)\n",
    "            link_dict[query] = []\n",
    "            records = []\n",
    "            try:\n",
    "                file = open('{0}/{1}.txt'.format(path,query),'r')\n",
    "            except FileNotFoundError:\n",
    "                continue\n",
    "            lines = file.readlines()\n",
    "            for i in range(20): #TF値上位5個\n",
    "                to_query = lines[i].split(',')[0][2:-1]\n",
    "                value = float(lines[i].split(',')[1][1:-2])\n",
    "                if not query == to_query:  #セルフノード削除(例外処理)\n",
    "                    all_nodes.add(to_query)\n",
    "                    link_dict[query].append(to_query)\n",
    "                    records.append([query, to_query, value])\n",
    "                    next_querys.append(to_query)\n",
    "            df_ = pd.DataFrame(records,columns=link_df.columns)\n",
    "            link_df = link_df.append(df_)\n",
    "            \n",
    "    querys = next_querys\n",
    "\n",
    "link_df = link_df.drop_duplicates(['from','to']).reset_index(drop=True)"
   ]
  },
  {
   "cell_type": "code",
   "execution_count": 86,
   "metadata": {
    "collapsed": false
   },
   "outputs": [
    {
     "data": {
      "text/html": [
       "<div>\n",
       "<table border=\"1\" class=\"dataframe\">\n",
       "  <thead>\n",
       "    <tr style=\"text-align: right;\">\n",
       "      <th></th>\n",
       "      <th>from</th>\n",
       "      <th>to</th>\n",
       "      <th>value</th>\n",
       "    </tr>\n",
       "  </thead>\n",
       "  <tbody>\n",
       "    <tr>\n",
       "      <th>0</th>\n",
       "      <td>慶應義塾大学</td>\n",
       "      <td>研究</td>\n",
       "      <td>0.025952</td>\n",
       "    </tr>\n",
       "    <tr>\n",
       "      <th>1</th>\n",
       "      <td>慶應義塾大学</td>\n",
       "      <td>学部</td>\n",
       "      <td>0.022282</td>\n",
       "    </tr>\n",
       "    <tr>\n",
       "      <th>2</th>\n",
       "      <td>慶應義塾大学</td>\n",
       "      <td>月</td>\n",
       "      <td>0.020959</td>\n",
       "    </tr>\n",
       "    <tr>\n",
       "      <th>3</th>\n",
       "      <td>慶應義塾大学</td>\n",
       "      <td>学生</td>\n",
       "      <td>0.020782</td>\n",
       "    </tr>\n",
       "    <tr>\n",
       "      <th>...</th>\n",
       "      <td>...</td>\n",
       "      <td>...</td>\n",
       "      <td>...</td>\n",
       "    </tr>\n",
       "    <tr>\n",
       "      <th>11288</th>\n",
       "      <td>高齢</td>\n",
       "      <td>サービス</td>\n",
       "      <td>0.022773</td>\n",
       "    </tr>\n",
       "    <tr>\n",
       "      <th>11289</th>\n",
       "      <td>高齢</td>\n",
       "      <td>老人</td>\n",
       "      <td>0.022235</td>\n",
       "    </tr>\n",
       "    <tr>\n",
       "      <th>11290</th>\n",
       "      <td>高齢</td>\n",
       "      <td>申請</td>\n",
       "      <td>0.021182</td>\n",
       "    </tr>\n",
       "    <tr>\n",
       "      <th>11291</th>\n",
       "      <td>高齢</td>\n",
       "      <td>連合</td>\n",
       "      <td>0.021083</td>\n",
       "    </tr>\n",
       "  </tbody>\n",
       "</table>\n",
       "<p>11292 rows × 3 columns</p>\n",
       "</div>"
      ],
      "text/plain": [
       "         from    to     value\n",
       "0      慶應義塾大学    研究  0.025952\n",
       "1      慶應義塾大学    学部  0.022282\n",
       "2      慶應義塾大学     月  0.020959\n",
       "3      慶應義塾大学    学生  0.020782\n",
       "...       ...   ...       ...\n",
       "11288      高齢  サービス  0.022773\n",
       "11289      高齢    老人  0.022235\n",
       "11290      高齢    申請  0.021182\n",
       "11291      高齢    連合  0.021083\n",
       "\n",
       "[11292 rows x 3 columns]"
      ]
     },
     "execution_count": 86,
     "metadata": {},
     "output_type": "execute_result"
    }
   ],
   "source": [
    "link_df"
   ]
  },
  {
   "cell_type": "markdown",
   "metadata": {},
   "source": [
    "初期化"
   ]
  },
  {
   "cell_type": "code",
   "execution_count": 87,
   "metadata": {
    "collapsed": false
   },
   "outputs": [
    {
     "data": {
      "text/plain": [
       "682"
      ]
     },
     "execution_count": 87,
     "metadata": {},
     "output_type": "execute_result"
    }
   ],
   "source": [
    "len(link_dict)"
   ]
  },
  {
   "cell_type": "code",
   "execution_count": 88,
   "metadata": {
    "collapsed": false
   },
   "outputs": [
    {
     "data": {
      "text/plain": [
       "2777"
      ]
     },
     "execution_count": 88,
     "metadata": {},
     "output_type": "execute_result"
    }
   ],
   "source": [
    "len(all_nodes)"
   ]
  },
  {
   "cell_type": "code",
   "execution_count": 89,
   "metadata": {
    "collapsed": false
   },
   "outputs": [
    {
     "data": {
      "text/plain": [
       "11292"
      ]
     },
     "execution_count": 89,
     "metadata": {},
     "output_type": "execute_result"
    }
   ],
   "source": [
    "len(link_df)"
   ]
  },
  {
   "cell_type": "code",
   "execution_count": 90,
   "metadata": {
    "collapsed": false
   },
   "outputs": [],
   "source": [
    "tmp = pd.DataFrame()\n",
    "tmp['from'] = link_df['to']\n",
    "tmp['to'] = link_df['from']\n",
    "tmp['value'] = link_df['value']\n",
    "link_df = link_df.append(tmp)\n",
    "link_df.reset_index(drop=True)\n",
    "\n",
    "new_link_dict = copy.deepcopy(link_dict)\n",
    "for key,value in link_dict.items():\n",
    "    for val in value:\n",
    "        if val in link_dict.keys():\n",
    "            new_link_dict[val].append(key)\n",
    "        else:\n",
    "            new_link_dict[val] = [key]\n",
    "link_dict = new_link_dict"
   ]
  },
  {
   "cell_type": "code",
   "execution_count": 91,
   "metadata": {
    "collapsed": true
   },
   "outputs": [],
   "source": [
    "univs = {\n",
    "    \"東京大学\":\"from_ut\",\n",
    "    \"京都大学\":\"from_ky\",\n",
    "    \"早稲田大学\":\"from_wa\",\n",
    "    \"慶應義塾大学\":\"from_ko\",\n",
    "    \"明治大学\":\"from_me\"\n",
    "}"
   ]
  },
  {
   "cell_type": "markdown",
   "metadata": {},
   "source": [
    "df版"
   ]
  },
  {
   "cell_type": "code",
   "execution_count": 92,
   "metadata": {
    "collapsed": true
   },
   "outputs": [],
   "source": [
    "# node_df = pd.DataFrame(\n",
    "#     index=range(len(all_nodes)), \n",
    "#     columns=[\n",
    "#         'query',\n",
    "#         'from_ut',\n",
    "#         'from_ky',\n",
    "#         'from_wa',\n",
    "#         'from_ko',\n",
    "#         'from_me',\n",
    "# #         'label',\n",
    "# #         'shortest_step'\n",
    "#     ])\n",
    "# node_df['query'] = list(all_nodes)\n",
    "# node_df = node_df.fillna(float(99))"
   ]
  },
  {
   "cell_type": "code",
   "execution_count": 93,
   "metadata": {
    "collapsed": false
   },
   "outputs": [],
   "source": [
    "# for key, value in univs.items():\n",
    "#     node_df.loc[node_df['query'] == key, value] = 0"
   ]
  },
  {
   "cell_type": "code",
   "execution_count": 94,
   "metadata": {
    "collapsed": true
   },
   "outputs": [],
   "source": [
    "# from_querys = univs.keys()"
   ]
  },
  {
   "cell_type": "code",
   "execution_count": 95,
   "metadata": {
    "collapsed": true
   },
   "outputs": [],
   "source": [
    "# next_step = link_df[link_df['from'].isin(from_querys)]"
   ]
  },
  {
   "cell_type": "code",
   "execution_count": 96,
   "metadata": {
    "collapsed": false
   },
   "outputs": [],
   "source": [
    "# for from_query in from_querys:\n",
    "#     value = node_df.loc[node_df['query'] == from_query,univs.values()]\n",
    "#     for to_query in link_dict[from_query]:\n",
    "#         for column in univs.values():\n",
    "#             node_df.loc[node_df['query'] == to_query, column] = value"
   ]
  },
  {
   "cell_type": "markdown",
   "metadata": {},
   "source": [
    "dict版"
   ]
  },
  {
   "cell_type": "code",
   "execution_count": 97,
   "metadata": {
    "collapsed": true
   },
   "outputs": [],
   "source": [
    "def check_layer(from_querys,node_dict,link_dict,univs):\n",
    "    for from_query in from_querys:\n",
    "        distance_dict = copy.deepcopy(node_dict[from_query])\n",
    "        for key in distance_dict.keys():\n",
    "            distance_dict[key] += 1\n",
    "        try:\n",
    "            for to_query in link_dict[from_query]:\n",
    "                for key in univs.values():\n",
    "                    node_dict[to_query][key] = min(distance_dict[key],node_dict[to_query][key])\n",
    "        except KeyError:\n",
    "            pass\n",
    "    \n",
    "    return node_dict"
   ]
  },
  {
   "cell_type": "code",
   "execution_count": 98,
   "metadata": {
    "collapsed": true
   },
   "outputs": [],
   "source": [
    "def get_next_from_querys(link_df,from_querys):\n",
    "    next_step = link_df[link_df['from'].isin(from_querys)]\n",
    "    \n",
    "    return list(next_step['to'])"
   ]
  },
  {
   "cell_type": "code",
   "execution_count": 99,
   "metadata": {
    "collapsed": false
   },
   "outputs": [],
   "source": [
    "node_dict = {}\n",
    "for query in all_nodes:\n",
    "    node_dict[query] = {\n",
    "    \"from_ut\":99,\n",
    "    \"from_ky\":99,\n",
    "    \"from_wa\":99,\n",
    "    \"from_ko\":99,\n",
    "    \"from_me\":99\n",
    "}\n",
    "\n",
    "#初期化\n",
    "node_dict[\"東京大学\"][\"from_ut\"] = 0\n",
    "node_dict[\"京都大学\"][\"from_ky\"] = 0\n",
    "node_dict[\"早稲田大学\"][\"from_wa\"] = 0\n",
    "node_dict[\"慶應義塾大学\"][\"from_ko\"] = 0\n",
    "node_dict[\"明治大学\"][\"from_me\"] = 0"
   ]
  },
  {
   "cell_type": "code",
   "execution_count": 100,
   "metadata": {
    "collapsed": true
   },
   "outputs": [],
   "source": [
    "#1層目\n",
    "from_querys = list(univs.keys())"
   ]
  },
  {
   "cell_type": "code",
   "execution_count": 101,
   "metadata": {
    "collapsed": false
   },
   "outputs": [],
   "source": [
    "for x in range(30):\n",
    "    node_dict = check_layer(from_querys,node_dict,link_dict,univs)\n",
    "    from_querys = get_next_from_querys(link_df,from_querys)"
   ]
  },
  {
   "cell_type": "code",
   "execution_count": 102,
   "metadata": {
    "collapsed": false
   },
   "outputs": [],
   "source": [
    "list_of_list = []\n",
    "for key, value in node_dict.items():\n",
    "    list_of_list.append([key,value['from_ut'],value['from_ky'],value['from_wa'],value['from_ko'],value['from_me']])\n",
    "node_df = pd.DataFrame(list_of_list,columns=['query','from_ut','from_ky','from_wa','from_ko','from_me'])"
   ]
  },
  {
   "cell_type": "code",
   "execution_count": 103,
   "metadata": {
    "collapsed": false
   },
   "outputs": [],
   "source": [
    "node_df['shortest_step'] = np.min(node_df[list(univs.values())],axis=1)"
   ]
  },
  {
   "cell_type": "code",
   "execution_count": 104,
   "metadata": {
    "collapsed": false
   },
   "outputs": [],
   "source": [
    "for column in ['ut','ky','wa','ko','me']:\n",
    "    node_df['label_{}'.format(column)] = node_df['from_{}'.format(column)] == node_df['shortest_step']"
   ]
  },
  {
   "cell_type": "code",
   "execution_count": 105,
   "metadata": {
    "collapsed": false
   },
   "outputs": [],
   "source": [
    "univ_df = pd.DataFrame()\n",
    "univ_df = univ_df.append(node_df[node_df['query'] == '東京大学']).append(node_df[node_df['query'] == '京都大学'].append(node_df[node_df['query'] == '明治大学'])).append(node_df[node_df['query'] == '早稲田大学']).append(node_df[node_df['query'] == '慶應義塾大学'])"
   ]
  },
  {
   "cell_type": "code",
   "execution_count": 106,
   "metadata": {
    "collapsed": false
   },
   "outputs": [
    {
     "data": {
      "text/html": [
       "<div>\n",
       "<table border=\"1\" class=\"dataframe\">\n",
       "  <thead>\n",
       "    <tr style=\"text-align: right;\">\n",
       "      <th></th>\n",
       "      <th>query</th>\n",
       "      <th>from_ut</th>\n",
       "      <th>from_ky</th>\n",
       "      <th>from_wa</th>\n",
       "      <th>from_ko</th>\n",
       "      <th>from_me</th>\n",
       "      <th>shortest_step</th>\n",
       "      <th>label_ut</th>\n",
       "      <th>label_ky</th>\n",
       "      <th>label_wa</th>\n",
       "      <th>label_ko</th>\n",
       "      <th>label_me</th>\n",
       "    </tr>\n",
       "  </thead>\n",
       "  <tbody>\n",
       "    <tr>\n",
       "      <th>2708</th>\n",
       "      <td>東京大学</td>\n",
       "      <td>0</td>\n",
       "      <td>2</td>\n",
       "      <td>3</td>\n",
       "      <td>2</td>\n",
       "      <td>3</td>\n",
       "      <td>0</td>\n",
       "      <td>True</td>\n",
       "      <td>False</td>\n",
       "      <td>False</td>\n",
       "      <td>False</td>\n",
       "      <td>False</td>\n",
       "    </tr>\n",
       "    <tr>\n",
       "      <th>1906</th>\n",
       "      <td>京都大学</td>\n",
       "      <td>2</td>\n",
       "      <td>0</td>\n",
       "      <td>3</td>\n",
       "      <td>2</td>\n",
       "      <td>4</td>\n",
       "      <td>0</td>\n",
       "      <td>False</td>\n",
       "      <td>True</td>\n",
       "      <td>False</td>\n",
       "      <td>False</td>\n",
       "      <td>False</td>\n",
       "    </tr>\n",
       "    <tr>\n",
       "      <th>786</th>\n",
       "      <td>明治大学</td>\n",
       "      <td>3</td>\n",
       "      <td>4</td>\n",
       "      <td>5</td>\n",
       "      <td>3</td>\n",
       "      <td>0</td>\n",
       "      <td>0</td>\n",
       "      <td>False</td>\n",
       "      <td>False</td>\n",
       "      <td>False</td>\n",
       "      <td>False</td>\n",
       "      <td>True</td>\n",
       "    </tr>\n",
       "    <tr>\n",
       "      <th>1948</th>\n",
       "      <td>早稲田大学</td>\n",
       "      <td>3</td>\n",
       "      <td>3</td>\n",
       "      <td>0</td>\n",
       "      <td>3</td>\n",
       "      <td>5</td>\n",
       "      <td>0</td>\n",
       "      <td>False</td>\n",
       "      <td>False</td>\n",
       "      <td>True</td>\n",
       "      <td>False</td>\n",
       "      <td>False</td>\n",
       "    </tr>\n",
       "    <tr>\n",
       "      <th>1402</th>\n",
       "      <td>慶應義塾大学</td>\n",
       "      <td>2</td>\n",
       "      <td>2</td>\n",
       "      <td>3</td>\n",
       "      <td>0</td>\n",
       "      <td>3</td>\n",
       "      <td>0</td>\n",
       "      <td>False</td>\n",
       "      <td>False</td>\n",
       "      <td>False</td>\n",
       "      <td>True</td>\n",
       "      <td>False</td>\n",
       "    </tr>\n",
       "  </tbody>\n",
       "</table>\n",
       "</div>"
      ],
      "text/plain": [
       "       query  from_ut  from_ky  from_wa  from_ko  from_me  shortest_step  \\\n",
       "2708    東京大学        0        2        3        2        3              0   \n",
       "1906    京都大学        2        0        3        2        4              0   \n",
       "786     明治大学        3        4        5        3        0              0   \n",
       "1948   早稲田大学        3        3        0        3        5              0   \n",
       "1402  慶應義塾大学        2        2        3        0        3              0   \n",
       "\n",
       "     label_ut label_ky label_wa label_ko label_me  \n",
       "2708     True    False    False    False    False  \n",
       "1906    False     True    False    False    False  \n",
       "786     False    False    False    False     True  \n",
       "1948    False    False     True    False    False  \n",
       "1402    False    False    False     True    False  "
      ]
     },
     "execution_count": 106,
     "metadata": {},
     "output_type": "execute_result"
    }
   ],
   "source": [
    "univ_df"
   ]
  },
  {
   "cell_type": "code",
   "execution_count": 107,
   "metadata": {
    "collapsed": false
   },
   "outputs": [],
   "source": [
    "node_df = node_df.drop(univ_df.index)"
   ]
  },
  {
   "cell_type": "code",
   "execution_count": 108,
   "metadata": {
    "collapsed": true
   },
   "outputs": [],
   "source": [
    "node_df = univ_df.append(node_df).reset_index(drop=True)"
   ]
  },
  {
   "cell_type": "code",
   "execution_count": 109,
   "metadata": {
    "collapsed": false
   },
   "outputs": [],
   "source": [
    "node_df['index'] = node_df.index"
   ]
  },
  {
   "cell_type": "code",
   "execution_count": 110,
   "metadata": {
    "collapsed": false
   },
   "outputs": [
    {
     "data": {
      "text/html": [
       "<div>\n",
       "<table border=\"1\" class=\"dataframe\">\n",
       "  <thead>\n",
       "    <tr style=\"text-align: right;\">\n",
       "      <th></th>\n",
       "      <th>query</th>\n",
       "      <th>from_ut</th>\n",
       "      <th>from_ky</th>\n",
       "      <th>from_wa</th>\n",
       "      <th>from_ko</th>\n",
       "      <th>from_me</th>\n",
       "      <th>shortest_step</th>\n",
       "      <th>label_ut</th>\n",
       "      <th>label_ky</th>\n",
       "      <th>label_wa</th>\n",
       "      <th>label_ko</th>\n",
       "      <th>label_me</th>\n",
       "      <th>index</th>\n",
       "    </tr>\n",
       "  </thead>\n",
       "  <tbody>\n",
       "    <tr>\n",
       "      <th>0</th>\n",
       "      <td>東京大学</td>\n",
       "      <td>0</td>\n",
       "      <td>2</td>\n",
       "      <td>3</td>\n",
       "      <td>2</td>\n",
       "      <td>3</td>\n",
       "      <td>0</td>\n",
       "      <td>True</td>\n",
       "      <td>False</td>\n",
       "      <td>False</td>\n",
       "      <td>False</td>\n",
       "      <td>False</td>\n",
       "      <td>0</td>\n",
       "    </tr>\n",
       "    <tr>\n",
       "      <th>1</th>\n",
       "      <td>京都大学</td>\n",
       "      <td>2</td>\n",
       "      <td>0</td>\n",
       "      <td>3</td>\n",
       "      <td>2</td>\n",
       "      <td>4</td>\n",
       "      <td>0</td>\n",
       "      <td>False</td>\n",
       "      <td>True</td>\n",
       "      <td>False</td>\n",
       "      <td>False</td>\n",
       "      <td>False</td>\n",
       "      <td>1</td>\n",
       "    </tr>\n",
       "    <tr>\n",
       "      <th>2</th>\n",
       "      <td>明治大学</td>\n",
       "      <td>3</td>\n",
       "      <td>4</td>\n",
       "      <td>5</td>\n",
       "      <td>3</td>\n",
       "      <td>0</td>\n",
       "      <td>0</td>\n",
       "      <td>False</td>\n",
       "      <td>False</td>\n",
       "      <td>False</td>\n",
       "      <td>False</td>\n",
       "      <td>True</td>\n",
       "      <td>2</td>\n",
       "    </tr>\n",
       "    <tr>\n",
       "      <th>3</th>\n",
       "      <td>早稲田大学</td>\n",
       "      <td>3</td>\n",
       "      <td>3</td>\n",
       "      <td>0</td>\n",
       "      <td>3</td>\n",
       "      <td>5</td>\n",
       "      <td>0</td>\n",
       "      <td>False</td>\n",
       "      <td>False</td>\n",
       "      <td>True</td>\n",
       "      <td>False</td>\n",
       "      <td>False</td>\n",
       "      <td>3</td>\n",
       "    </tr>\n",
       "    <tr>\n",
       "      <th>...</th>\n",
       "      <td>...</td>\n",
       "      <td>...</td>\n",
       "      <td>...</td>\n",
       "      <td>...</td>\n",
       "      <td>...</td>\n",
       "      <td>...</td>\n",
       "      <td>...</td>\n",
       "      <td>...</td>\n",
       "      <td>...</td>\n",
       "      <td>...</td>\n",
       "      <td>...</td>\n",
       "      <td>...</td>\n",
       "      <td>...</td>\n",
       "    </tr>\n",
       "    <tr>\n",
       "      <th>2773</th>\n",
       "      <td>tenki</td>\n",
       "      <td>3</td>\n",
       "      <td>3</td>\n",
       "      <td>4</td>\n",
       "      <td>3</td>\n",
       "      <td>4</td>\n",
       "      <td>3</td>\n",
       "      <td>True</td>\n",
       "      <td>True</td>\n",
       "      <td>False</td>\n",
       "      <td>True</td>\n",
       "      <td>False</td>\n",
       "      <td>2773</td>\n",
       "    </tr>\n",
       "    <tr>\n",
       "      <th>2774</th>\n",
       "      <td>くらし</td>\n",
       "      <td>3</td>\n",
       "      <td>3</td>\n",
       "      <td>3</td>\n",
       "      <td>3</td>\n",
       "      <td>4</td>\n",
       "      <td>3</td>\n",
       "      <td>True</td>\n",
       "      <td>True</td>\n",
       "      <td>True</td>\n",
       "      <td>True</td>\n",
       "      <td>False</td>\n",
       "      <td>2774</td>\n",
       "    </tr>\n",
       "    <tr>\n",
       "      <th>2775</th>\n",
       "      <td>カウントダウン</td>\n",
       "      <td>2</td>\n",
       "      <td>2</td>\n",
       "      <td>3</td>\n",
       "      <td>2</td>\n",
       "      <td>4</td>\n",
       "      <td>2</td>\n",
       "      <td>True</td>\n",
       "      <td>True</td>\n",
       "      <td>False</td>\n",
       "      <td>True</td>\n",
       "      <td>False</td>\n",
       "      <td>2775</td>\n",
       "    </tr>\n",
       "    <tr>\n",
       "      <th>2776</th>\n",
       "      <td>入会</td>\n",
       "      <td>3</td>\n",
       "      <td>3</td>\n",
       "      <td>3</td>\n",
       "      <td>3</td>\n",
       "      <td>4</td>\n",
       "      <td>3</td>\n",
       "      <td>True</td>\n",
       "      <td>True</td>\n",
       "      <td>True</td>\n",
       "      <td>True</td>\n",
       "      <td>False</td>\n",
       "      <td>2776</td>\n",
       "    </tr>\n",
       "  </tbody>\n",
       "</table>\n",
       "<p>2777 rows × 13 columns</p>\n",
       "</div>"
      ],
      "text/plain": [
       "        query  from_ut  from_ky  from_wa  from_ko  from_me  shortest_step  \\\n",
       "0        東京大学        0        2        3        2        3              0   \n",
       "1        京都大学        2        0        3        2        4              0   \n",
       "2        明治大学        3        4        5        3        0              0   \n",
       "3       早稲田大学        3        3        0        3        5              0   \n",
       "...       ...      ...      ...      ...      ...      ...            ...   \n",
       "2773    tenki        3        3        4        3        4              3   \n",
       "2774      くらし        3        3        3        3        4              3   \n",
       "2775  カウントダウン        2        2        3        2        4              2   \n",
       "2776       入会        3        3        3        3        4              3   \n",
       "\n",
       "     label_ut label_ky label_wa label_ko label_me  index  \n",
       "0        True    False    False    False    False      0  \n",
       "1       False     True    False    False    False      1  \n",
       "2       False    False    False    False     True      2  \n",
       "3       False    False     True    False    False      3  \n",
       "...       ...      ...      ...      ...      ...    ...  \n",
       "2773     True     True    False     True    False   2773  \n",
       "2774     True     True     True     True    False   2774  \n",
       "2775     True     True    False     True    False   2775  \n",
       "2776     True     True     True     True    False   2776  \n",
       "\n",
       "[2777 rows x 13 columns]"
      ]
     },
     "execution_count": 110,
     "metadata": {},
     "output_type": "execute_result"
    }
   ],
   "source": [
    "node_df"
   ]
  },
  {
   "cell_type": "code",
   "execution_count": 111,
   "metadata": {
    "collapsed": true
   },
   "outputs": [],
   "source": [
    "def get_node_index(x):\n",
    "    number = node_df[node_df['query']==x]['index']\n",
    "    return int(number)"
   ]
  },
  {
   "cell_type": "code",
   "execution_count": 112,
   "metadata": {
    "collapsed": false
   },
   "outputs": [],
   "source": [
    "link_df['from_id'] = link_df['from'].map(get_node_index)\n",
    "link_df['to_id'] = link_df['to'].map(get_node_index)"
   ]
  },
  {
   "cell_type": "code",
   "execution_count": 113,
   "metadata": {
    "collapsed": false
   },
   "outputs": [
    {
     "data": {
      "text/html": [
       "<div>\n",
       "<table border=\"1\" class=\"dataframe\">\n",
       "  <thead>\n",
       "    <tr style=\"text-align: right;\">\n",
       "      <th></th>\n",
       "      <th>from</th>\n",
       "      <th>to</th>\n",
       "      <th>value</th>\n",
       "      <th>from_id</th>\n",
       "      <th>to_id</th>\n",
       "    </tr>\n",
       "  </thead>\n",
       "  <tbody>\n",
       "    <tr>\n",
       "      <th>0</th>\n",
       "      <td>慶應義塾大学</td>\n",
       "      <td>研究</td>\n",
       "      <td>0.025952</td>\n",
       "      <td>4</td>\n",
       "      <td>1672</td>\n",
       "    </tr>\n",
       "    <tr>\n",
       "      <th>1</th>\n",
       "      <td>慶應義塾大学</td>\n",
       "      <td>学部</td>\n",
       "      <td>0.022282</td>\n",
       "      <td>4</td>\n",
       "      <td>607</td>\n",
       "    </tr>\n",
       "    <tr>\n",
       "      <th>2</th>\n",
       "      <td>慶應義塾大学</td>\n",
       "      <td>月</td>\n",
       "      <td>0.020959</td>\n",
       "      <td>4</td>\n",
       "      <td>1554</td>\n",
       "    </tr>\n",
       "    <tr>\n",
       "      <th>3</th>\n",
       "      <td>慶應義塾大学</td>\n",
       "      <td>学生</td>\n",
       "      <td>0.020782</td>\n",
       "      <td>4</td>\n",
       "      <td>1752</td>\n",
       "    </tr>\n",
       "    <tr>\n",
       "      <th>...</th>\n",
       "      <td>...</td>\n",
       "      <td>...</td>\n",
       "      <td>...</td>\n",
       "      <td>...</td>\n",
       "      <td>...</td>\n",
       "    </tr>\n",
       "    <tr>\n",
       "      <th>11288</th>\n",
       "      <td>サービス</td>\n",
       "      <td>高齢</td>\n",
       "      <td>0.022773</td>\n",
       "      <td>1095</td>\n",
       "      <td>1412</td>\n",
       "    </tr>\n",
       "    <tr>\n",
       "      <th>11289</th>\n",
       "      <td>老人</td>\n",
       "      <td>高齢</td>\n",
       "      <td>0.022235</td>\n",
       "      <td>2105</td>\n",
       "      <td>1412</td>\n",
       "    </tr>\n",
       "    <tr>\n",
       "      <th>11290</th>\n",
       "      <td>申請</td>\n",
       "      <td>高齢</td>\n",
       "      <td>0.021182</td>\n",
       "      <td>2679</td>\n",
       "      <td>1412</td>\n",
       "    </tr>\n",
       "    <tr>\n",
       "      <th>11291</th>\n",
       "      <td>連合</td>\n",
       "      <td>高齢</td>\n",
       "      <td>0.021083</td>\n",
       "      <td>974</td>\n",
       "      <td>1412</td>\n",
       "    </tr>\n",
       "  </tbody>\n",
       "</table>\n",
       "<p>22584 rows × 5 columns</p>\n",
       "</div>"
      ],
      "text/plain": [
       "         from  to     value  from_id  to_id\n",
       "0      慶應義塾大学  研究  0.025952        4   1672\n",
       "1      慶應義塾大学  学部  0.022282        4    607\n",
       "2      慶應義塾大学   月  0.020959        4   1554\n",
       "3      慶應義塾大学  学生  0.020782        4   1752\n",
       "...       ...  ..       ...      ...    ...\n",
       "11288    サービス  高齢  0.022773     1095   1412\n",
       "11289      老人  高齢  0.022235     2105   1412\n",
       "11290      申請  高齢  0.021182     2679   1412\n",
       "11291      連合  高齢  0.021083      974   1412\n",
       "\n",
       "[22584 rows x 5 columns]"
      ]
     },
     "execution_count": 113,
     "metadata": {},
     "output_type": "execute_result"
    }
   ],
   "source": [
    "link_df"
   ]
  },
  {
   "cell_type": "code",
   "execution_count": 114,
   "metadata": {
    "collapsed": false
   },
   "outputs": [],
   "source": [
    "# node_df.to_csv('nodes.csv')\n",
    "# # link_df = link_df.iloc[:int(len(link_df)/2)]\n",
    "# link_df.to_csv('links.csv')"
   ]
  },
  {
   "cell_type": "code",
   "execution_count": 115,
   "metadata": {
    "collapsed": true
   },
   "outputs": [],
   "source": [
    "import random\n",
    "\n",
    "def set_label(x):\n",
    "    label = []\n",
    "    univ = ['ut','ky','me','wa','ko']\n",
    "    for i in range(len(univ)):\n",
    "        if x['label_{}'.format(univ[i])]:\n",
    "            label.append(i)\n",
    "    return random.choice(label)"
   ]
  },
  {
   "cell_type": "code",
   "execution_count": 116,
   "metadata": {
    "collapsed": false
   },
   "outputs": [],
   "source": [
    "node_df['label'] = node_df.apply(set_label,axis=1)"
   ]
  },
  {
   "cell_type": "code",
   "execution_count": 117,
   "metadata": {
    "collapsed": true
   },
   "outputs": [],
   "source": [
    "labeled_df = node_df.loc[:,['index','label']]"
   ]
  },
  {
   "cell_type": "code",
   "execution_count": 118,
   "metadata": {
    "collapsed": false
   },
   "outputs": [
    {
     "data": {
      "text/html": [
       "<div>\n",
       "<table border=\"1\" class=\"dataframe\">\n",
       "  <thead>\n",
       "    <tr style=\"text-align: right;\">\n",
       "      <th></th>\n",
       "      <th>index</th>\n",
       "      <th>label</th>\n",
       "    </tr>\n",
       "  </thead>\n",
       "  <tbody>\n",
       "    <tr>\n",
       "      <th>0</th>\n",
       "      <td>0</td>\n",
       "      <td>0</td>\n",
       "    </tr>\n",
       "    <tr>\n",
       "      <th>1</th>\n",
       "      <td>1</td>\n",
       "      <td>1</td>\n",
       "    </tr>\n",
       "    <tr>\n",
       "      <th>2</th>\n",
       "      <td>2</td>\n",
       "      <td>2</td>\n",
       "    </tr>\n",
       "    <tr>\n",
       "      <th>3</th>\n",
       "      <td>3</td>\n",
       "      <td>3</td>\n",
       "    </tr>\n",
       "    <tr>\n",
       "      <th>...</th>\n",
       "      <td>...</td>\n",
       "      <td>...</td>\n",
       "    </tr>\n",
       "    <tr>\n",
       "      <th>2773</th>\n",
       "      <td>2773</td>\n",
       "      <td>0</td>\n",
       "    </tr>\n",
       "    <tr>\n",
       "      <th>2774</th>\n",
       "      <td>2774</td>\n",
       "      <td>0</td>\n",
       "    </tr>\n",
       "    <tr>\n",
       "      <th>2775</th>\n",
       "      <td>2775</td>\n",
       "      <td>1</td>\n",
       "    </tr>\n",
       "    <tr>\n",
       "      <th>2776</th>\n",
       "      <td>2776</td>\n",
       "      <td>0</td>\n",
       "    </tr>\n",
       "  </tbody>\n",
       "</table>\n",
       "<p>2777 rows × 2 columns</p>\n",
       "</div>"
      ],
      "text/plain": [
       "      index  label\n",
       "0         0      0\n",
       "1         1      1\n",
       "2         2      2\n",
       "3         3      3\n",
       "...     ...    ...\n",
       "2773   2773      0\n",
       "2774   2774      0\n",
       "2775   2775      1\n",
       "2776   2776      0\n",
       "\n",
       "[2777 rows x 2 columns]"
      ]
     },
     "execution_count": 118,
     "metadata": {},
     "output_type": "execute_result"
    }
   ],
   "source": [
    "labeled_df"
   ]
  },
  {
   "cell_type": "code",
   "execution_count": 119,
   "metadata": {
    "collapsed": true
   },
   "outputs": [],
   "source": [
    "# node_df.to_csv('nodes20.csv')\n",
    "# link_df.to_csv('links20.csv')\n",
    "# labeled_df.to_csv('labels20.csv')"
   ]
  }
 ],
 "metadata": {
  "kernelspec": {
   "display_name": "Python 3",
   "language": "python",
   "name": "python3"
  },
  "language_info": {
   "codemirror_mode": {
    "name": "ipython",
    "version": 3
   },
   "file_extension": ".py",
   "mimetype": "text/x-python",
   "name": "python",
   "nbconvert_exporter": "python",
   "pygments_lexer": "ipython3",
   "version": "3.6.0"
  }
 },
 "nbformat": 4,
 "nbformat_minor": 2
}
