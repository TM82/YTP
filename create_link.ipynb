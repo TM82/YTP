{
 "cells": [
  {
   "cell_type": "code",
   "execution_count": 331,
   "metadata": {
    "collapsed": true
   },
   "outputs": [],
   "source": [
    "import copy\n",
    "import numpy as np\n",
    "import os\n",
    "import pandas as pd\n",
    "pd.options.display.max_rows = 8"
   ]
  },
  {
   "cell_type": "markdown",
   "metadata": {},
   "source": [
    "## 使い方\n",
    "- pathを変更する"
   ]
  },
  {
   "cell_type": "code",
   "execution_count": 247,
   "metadata": {
    "collapsed": true
   },
   "outputs": [],
   "source": [
    "paths = ['tfidf_text/0thLayer','tfidf_text/1stLayer','tfidf_text/2ndLayer']"
   ]
  },
  {
   "cell_type": "code",
   "execution_count": 248,
   "metadata": {
    "collapsed": false
   },
   "outputs": [],
   "source": [
    "all_nodes = set()\n",
    "link_dict = dict()\n",
    "link_df = pd.DataFrame(columns=['from','to','value'])\n",
    "for path in paths:\n",
    "    files = os.listdir(path)\n",
    "    for file in files:\n",
    "        query,_ = os.path.splitext(file)\n",
    "        if not query.startswith('.'):\n",
    "            all_nodes.add(query)\n",
    "            link_dict[query] = []\n",
    "            records = []\n",
    "            file = open('{0}/{1}.txt'.format(path,query),'r')\n",
    "            lines = file.readlines()\n",
    "            for i in range(20):\n",
    "                to_query = lines[i].split(',')[0][2:-1]\n",
    "                value = float(lines[i].split(',')[1][1:-2])\n",
    "                if not query == to_query:  #セルフノード削除\n",
    "                    all_nodes.add(to_query)\n",
    "                    link_dict[query].append(to_query)\n",
    "                    records.append([query, to_query, value])\n",
    "            df_ = pd.DataFrame(records,columns=link_df.columns)\n",
    "            link_df = link_df.append(df_)\n",
    "\n",
    "# link_df.drop(link_df[link_df[\"to\"]==link_df[\"from\"]].index) \n",
    "link_df = link_df.reset_index(drop=True)"
   ]
  },
  {
   "cell_type": "code",
   "execution_count": 249,
   "metadata": {
    "collapsed": false
   },
   "outputs": [],
   "source": [
    "#link_df.to_csv('links.csv',encoding='utf-8',index=False)"
   ]
  },
  {
   "cell_type": "code",
   "execution_count": 250,
   "metadata": {
    "collapsed": false
   },
   "outputs": [],
   "source": [
    "#link_df = pd.read_csv('links.csv')"
   ]
  },
  {
   "cell_type": "markdown",
   "metadata": {},
   "source": [
    "初期化"
   ]
  },
  {
   "cell_type": "code",
   "execution_count": 251,
   "metadata": {
    "collapsed": false
   },
   "outputs": [
    {
     "data": {
      "text/plain": [
       "2798"
      ]
     },
     "execution_count": 251,
     "metadata": {},
     "output_type": "execute_result"
    }
   ],
   "source": [
    "len(all_nodes)"
   ]
  },
  {
   "cell_type": "code",
   "execution_count": 252,
   "metadata": {
    "collapsed": false
   },
   "outputs": [
    {
     "data": {
      "text/plain": [
       "11392"
      ]
     },
     "execution_count": 252,
     "metadata": {},
     "output_type": "execute_result"
    }
   ],
   "source": [
    "len(link_df)"
   ]
  },
  {
   "cell_type": "code",
   "execution_count": 253,
   "metadata": {
    "collapsed": true
   },
   "outputs": [],
   "source": [
    "univs = {\n",
    "    \"東京大学\":\"from_ut\",\n",
    "    \"京都大学\":\"from_ky\",\n",
    "    \"早稲田大学\":\"from_wa\",\n",
    "    \"慶應義塾大学\":\"from_ko\",\n",
    "    \"明治大学\":\"from_me\"\n",
    "}"
   ]
  },
  {
   "cell_type": "code",
   "execution_count": 255,
   "metadata": {
    "collapsed": true
   },
   "outputs": [],
   "source": [
    "node_df = pd.DataFrame(\n",
    "    index=range(len(all_nodes)), \n",
    "    columns=[\n",
    "        'query',\n",
    "        'from_ut',\n",
    "        'from_ky',\n",
    "        'from_wa',\n",
    "        'from_ko',\n",
    "        'from_me',\n",
    "#         'label',\n",
    "#         'shortest_step'\n",
    "    ])\n",
    "node_df['query'] = list(all_nodes)\n",
    "node_df = node_df.fillna(float(99))"
   ]
  },
  {
   "cell_type": "code",
   "execution_count": 256,
   "metadata": {
    "collapsed": false
   },
   "outputs": [],
   "source": [
    "for key, value in univs.items():\n",
    "    node_df.loc[node_df['query'] == key, value] = 0"
   ]
  },
  {
   "cell_type": "markdown",
   "metadata": {},
   "source": [
    "1層目"
   ]
  },
  {
   "cell_type": "code",
   "execution_count": 257,
   "metadata": {
    "collapsed": true
   },
   "outputs": [],
   "source": [
    "from_querys = univs.keys()"
   ]
  },
  {
   "cell_type": "code",
   "execution_count": 258,
   "metadata": {
    "collapsed": true
   },
   "outputs": [],
   "source": [
    "next_step = link_df[link_df['from'].isin(from_querys)]"
   ]
  },
  {
   "cell_type": "code",
   "execution_count": 259,
   "metadata": {
    "collapsed": false
   },
   "outputs": [],
   "source": [
    "for from_query in from_querys:\n",
    "    value = node_df.loc[node_df['query'] == from_query,column]\n",
    "    for to_query in link_dict[from_query]:\n",
    "        for column in columns:\n",
    "            node_df.loc[node_df['query'] == to_query, column] = value"
   ]
  },
  {
   "cell_type": "markdown",
   "metadata": {},
   "source": [
    "dict版"
   ]
  },
  {
   "cell_type": "code",
   "execution_count": 286,
   "metadata": {
    "collapsed": false
   },
   "outputs": [],
   "source": [
    "node_dict = {}\n",
    "for query in all_nodes:\n",
    "    node_dict[query] = {\n",
    "    \"from_ut\":99,\n",
    "    \"from_ky\":99,\n",
    "    \"from_wa\":99,\n",
    "    \"from_ko\":99,\n",
    "    \"from_me\":99\n",
    "}\n",
    "\n",
    "#初期化\n",
    "node_dict[\"東京大学\"][\"from_ut\"] = 0\n",
    "node_dict[\"京都大学\"][\"from_ky\"] = 0\n",
    "node_dict[\"早稲田大学\"][\"from_wa\"] = 0\n",
    "node_dict[\"慶應義塾大学\"][\"from_ko\"] = 0\n",
    "node_dict[\"明治大学\"][\"from_me\"] = 0"
   ]
  },
  {
   "cell_type": "code",
   "execution_count": 319,
   "metadata": {
    "collapsed": true
   },
   "outputs": [],
   "source": [
    "#1層目\n",
    "from_querys = list(univs.keys())"
   ]
  },
  {
   "cell_type": "code",
   "execution_count": 320,
   "metadata": {
    "collapsed": false
   },
   "outputs": [],
   "source": [
    "for from_query in from_querys:\n",
    "    distance_dict = copy.deepcopy(node_dict[from_query])\n",
    "    for key in distance_dict.keys():\n",
    "        distance_dict[key] += 1\n",
    "    try:\n",
    "        for to_query in link_dict[from_query]:\n",
    "            for key in univs.values():\n",
    "                node_dict[to_query][key] = min(distance_dict[key],node_dict[to_query][key])\n",
    "    except KeyError:\n",
    "        print(from_query)"
   ]
  },
  {
   "cell_type": "code",
   "execution_count": 321,
   "metadata": {
    "collapsed": true
   },
   "outputs": [],
   "source": [
    "#2層目\n",
    "next_step = link_df[link_df['from'].isin(from_querys)]\n",
    "\n",
    "from_querys = list(next_step[\"to\"])"
   ]
  },
  {
   "cell_type": "code",
   "execution_count": 322,
   "metadata": {
    "collapsed": false
   },
   "outputs": [
    {
     "name": "stdout",
     "output_type": "stream",
     "text": [
      "三つ\n",
      "構成\n",
      "～\n",
      "ライフ\n",
      "UTokyo\n"
     ]
    }
   ],
   "source": [
    "for from_query in from_querys:\n",
    "    distance_dict = copy.deepcopy(node_dict[from_query])\n",
    "    for key in distance_dict.keys():\n",
    "        distance_dict[key] += 1\n",
    "    try:\n",
    "        for to_query in link_dict[from_query]:\n",
    "            for key in univs.values():\n",
    "                node_dict[to_query][key] = min(distance_dict[key],node_dict[to_query][key])\n",
    "    except KeyError:\n",
    "        print(from_query)"
   ]
  },
  {
   "cell_type": "code",
   "execution_count": 323,
   "metadata": {
    "collapsed": true
   },
   "outputs": [],
   "source": [
    "#3層目\n",
    "next_step = link_df[link_df['from'].isin(from_querys)]\n",
    "\n",
    "from_querys = list(next_step[\"to\"])"
   ]
  },
  {
   "cell_type": "code",
   "execution_count": 324,
   "metadata": {
    "collapsed": false
   },
   "outputs": [
    {
     "name": "stdout",
     "output_type": "stream",
     "text": [
      "組合\n",
      "事業\n",
      "会社\n",
      "共済\n",
      "設立\n",
      "概要\n",
      "企業\n",
      "安心\n",
      "技術\n",
      "株式会社\n",
      "生活\n",
      "教員\n",
      "宮城大学\n",
      "アクティビティ\n",
      "技術\n",
      "コメダ\n",
      "御井\n",
      "大正大学\n",
      "建\n",
      "山口大学\n",
      "札幌\n",
      "運行\n",
      "路線\n",
      "神戸\n",
      "店舗\n",
      "時刻\n",
      "運賃\n",
      "関西学院大学\n",
      "平野\n",
      "バス\n",
      "母親\n",
      "物理\n",
      "Km\n",
      "km\n",
      "西日本\n",
      "スパイ\n",
      "組合\n",
      "T\n",
      "].\n",
      "[\n",
      "JAN\n",
      "C\n",
      "生活\n",
      "事業\n",
      "技術\n",
      "店舗\n",
      "時刻\n",
      "バス\n",
      "企業\n",
      "株式会社\n",
      "≫\n",
      "事業\n",
      "企業\n",
      "教員\n",
      "the\n",
      "of\n",
      "and\n",
      "to\n",
      "in\n",
      "a\n",
      "is\n",
      "'\n",
      "ミッション\n",
      "s\n",
      "The\n",
      "an\n",
      "with\n",
      "by\n",
      "WITH\n",
      "for\n",
      "that\n",
      "A\n",
      "スタジオ\n",
      "開催\n",
      "TOHO\n",
      "～\n",
      "事業\n",
      "教員\n",
      "生活\n",
      "ICT\n",
      "VISION\n",
      "SOUND\n",
      "開発\n",
      "MUSEUM\n",
      "事業\n",
      "企業\n",
      "株式会社\n",
      "!\n",
      "&\n",
      "://\n",
      "·-\n",
      "the\n",
      "店舗\n",
      "生活\n",
      "～\n",
      "店舗\n",
      "組合\n",
      "共済\n",
      "事業\n",
      "事業\n",
      "生活\n",
      "札幌\n",
      "運賃\n",
      "時刻\n",
      "バス\n",
      "企業\n",
      "技術\n",
      "事業\n",
      "開発\n",
      "ƒ\n",
      "?\n",
      "‚\n",
      "€\n",
      "??\n",
      "Œ\n",
      "絖\n",
      "鐚\n",
      "š\n",
      "Ÿ\n",
      "—\n",
      "筝\n",
      "'\n",
      "???\n",
      "ぇ\n",
      "•\n",
      "紅\n",
      "是\n",
      "红\n",
      "彩\n",
      "了\n",
      "我\n",
      "有\n",
      "刷\n",
      "部首\n",
      "NARS\n",
      "膚\n",
      "容\n",
      "妝\n",
      "修\n",
      "亮\n",
      "讓\n",
      "女\n",
      "花\n",
      "事業\n",
      "～\n",
      "バス\n",
      "時刻\n",
      "運賃\n",
      "路線\n",
      "-.\n",
      "開催\n",
      "バス\n",
      "事業\n",
      "概要\n",
      "）.\n",
      "概要\n",
      "品質\n",
      "技術\n",
      "開発\n",
      "成果\n",
      "開催\n",
      "共同\n",
      "産業\n",
      "報告\n",
      "山口大学\n",
      "）.\n",
      "学術\n",
      "核\n",
      "大会\n",
      "専門医\n",
      "開催\n",
      "認定\n",
      "集会\n",
      "幼稚園\n",
      "電子\n"
     ]
    }
   ],
   "source": [
    "for from_query in from_querys:\n",
    "    distance_dict = copy.deepcopy(node_dict[from_query])\n",
    "    for key in distance_dict.keys():\n",
    "        distance_dict[key] += 1\n",
    "    try:\n",
    "        for to_query in link_dict[from_query]:\n",
    "            for key in univs.values():\n",
    "                node_dict[to_query][key] = min(distance_dict[key],node_dict[to_query][key])\n",
    "    except KeyError:\n",
    "        print(from_query)"
   ]
  },
  {
   "cell_type": "code",
   "execution_count": 329,
   "metadata": {
    "collapsed": false
   },
   "outputs": [],
   "source": [
    "list_of_list = []\n",
    "for key, value in node_dict.items():\n",
    "    list_of_list.append([key,value['from_ut'],value['from_ky'],value['from_wa'],value['from_ko'],value['from_me']])\n",
    "node_df = pd.DataFrame(list_of_list,columns=['query','from_ut','from_ky','from_wa','from_ko','from_me'])"
   ]
  },
  {
   "cell_type": "code",
   "execution_count": 334,
   "metadata": {
    "collapsed": false
   },
   "outputs": [],
   "source": [
    "node_df['shortest_step'] = np.min(node_df[list(univs.values())],axis=1)"
   ]
  },
  {
   "cell_type": "code",
   "execution_count": 335,
   "metadata": {
    "collapsed": false
   },
   "outputs": [
    {
     "data": {
      "text/html": [
       "<div>\n",
       "<table border=\"1\" class=\"dataframe\">\n",
       "  <thead>\n",
       "    <tr style=\"text-align: right;\">\n",
       "      <th></th>\n",
       "      <th>query</th>\n",
       "      <th>from_ut</th>\n",
       "      <th>from_ky</th>\n",
       "      <th>from_wa</th>\n",
       "      <th>from_ko</th>\n",
       "      <th>from_me</th>\n",
       "      <th>shortest_step</th>\n",
       "    </tr>\n",
       "  </thead>\n",
       "  <tbody>\n",
       "    <tr>\n",
       "      <th>0</th>\n",
       "      <td>付き添い</td>\n",
       "      <td>4</td>\n",
       "      <td>4</td>\n",
       "      <td>4</td>\n",
       "      <td>3</td>\n",
       "      <td>4</td>\n",
       "      <td>3</td>\n",
       "    </tr>\n",
       "    <tr>\n",
       "      <th>1</th>\n",
       "      <td>物</td>\n",
       "      <td>4</td>\n",
       "      <td>3</td>\n",
       "      <td>4</td>\n",
       "      <td>4</td>\n",
       "      <td>3</td>\n",
       "      <td>3</td>\n",
       "    </tr>\n",
       "    <tr>\n",
       "      <th>2</th>\n",
       "      <td>暴風</td>\n",
       "      <td>3</td>\n",
       "      <td>4</td>\n",
       "      <td>4</td>\n",
       "      <td>4</td>\n",
       "      <td>4</td>\n",
       "      <td>3</td>\n",
       "    </tr>\n",
       "    <tr>\n",
       "      <th>3</th>\n",
       "      <td>各駅</td>\n",
       "      <td>3</td>\n",
       "      <td>3</td>\n",
       "      <td>4</td>\n",
       "      <td>3</td>\n",
       "      <td>3</td>\n",
       "      <td>3</td>\n",
       "    </tr>\n",
       "    <tr>\n",
       "      <th>...</th>\n",
       "      <td>...</td>\n",
       "      <td>...</td>\n",
       "      <td>...</td>\n",
       "      <td>...</td>\n",
       "      <td>...</td>\n",
       "      <td>...</td>\n",
       "      <td>...</td>\n",
       "    </tr>\n",
       "    <tr>\n",
       "      <th>2794</th>\n",
       "      <td>転職</td>\n",
       "      <td>3</td>\n",
       "      <td>4</td>\n",
       "      <td>3</td>\n",
       "      <td>3</td>\n",
       "      <td>3</td>\n",
       "      <td>3</td>\n",
       "    </tr>\n",
       "    <tr>\n",
       "      <th>2795</th>\n",
       "      <td>医薬品</td>\n",
       "      <td>3</td>\n",
       "      <td>3</td>\n",
       "      <td>4</td>\n",
       "      <td>3</td>\n",
       "      <td>4</td>\n",
       "      <td>3</td>\n",
       "    </tr>\n",
       "    <tr>\n",
       "      <th>2796</th>\n",
       "      <td>急ぎ</td>\n",
       "      <td>3</td>\n",
       "      <td>3</td>\n",
       "      <td>3</td>\n",
       "      <td>3</td>\n",
       "      <td>3</td>\n",
       "      <td>3</td>\n",
       "    </tr>\n",
       "    <tr>\n",
       "      <th>2797</th>\n",
       "      <td>動き</td>\n",
       "      <td>3</td>\n",
       "      <td>4</td>\n",
       "      <td>3</td>\n",
       "      <td>3</td>\n",
       "      <td>3</td>\n",
       "      <td>3</td>\n",
       "    </tr>\n",
       "  </tbody>\n",
       "</table>\n",
       "<p>2798 rows × 7 columns</p>\n",
       "</div>"
      ],
      "text/plain": [
       "     query  from_ut  from_ky  from_wa  from_ko  from_me  shortest_step\n",
       "0     付き添い        4        4        4        3        4              3\n",
       "1        物        4        3        4        4        3              3\n",
       "2       暴風        3        4        4        4        4              3\n",
       "3       各駅        3        3        4        3        3              3\n",
       "...    ...      ...      ...      ...      ...      ...            ...\n",
       "2794    転職        3        4        3        3        3              3\n",
       "2795   医薬品        3        3        4        3        4              3\n",
       "2796    急ぎ        3        3        3        3        3              3\n",
       "2797    動き        3        4        3        3        3              3\n",
       "\n",
       "[2798 rows x 7 columns]"
      ]
     },
     "execution_count": 335,
     "metadata": {},
     "output_type": "execute_result"
    }
   ],
   "source": [
    "node_df"
   ]
  },
  {
   "cell_type": "code",
   "execution_count": null,
   "metadata": {
    "collapsed": true
   },
   "outputs": [],
   "source": [
    "node_df = pd.DataFrame(\n",
    "    index=range(len(all_nodes)), \n",
    "    columns=[\n",
    "        'query',\n",
    "        'from_ut',\n",
    "        'from_ky',\n",
    "        'from_wa',\n",
    "        'from_ko',\n",
    "        'from_me',\n",
    "#         'label',\n",
    "#         'shortest_step'\n",
    "    ])\n",
    "node_df['query'] = list(all_nodes)\n",
    "node_df = node_df.fillna(float(99))"
   ]
  }
 ],
 "metadata": {
  "kernelspec": {
   "display_name": "Python 3",
   "language": "python",
   "name": "python3"
  },
  "language_info": {
   "codemirror_mode": {
    "name": "ipython",
    "version": 3
   },
   "file_extension": ".py",
   "mimetype": "text/x-python",
   "name": "python",
   "nbconvert_exporter": "python",
   "pygments_lexer": "ipython3",
   "version": "3.6.0"
  }
 },
 "nbformat": 4,
 "nbformat_minor": 2
}
