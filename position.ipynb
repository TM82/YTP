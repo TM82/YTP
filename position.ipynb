{
 "cells": [
  {
   "cell_type": "code",
   "execution_count": 7,
   "metadata": {},
   "outputs": [],
   "source": [
    "import pandas as pd\n",
    "import numpy as np"
   ]
  },
  {
   "cell_type": "code",
   "execution_count": 8,
   "metadata": {},
   "outputs": [
    {
     "data": {
      "text/html": [
       "<div>\n",
       "<style scoped>\n",
       "    .dataframe tbody tr th:only-of-type {\n",
       "        vertical-align: middle;\n",
       "    }\n",
       "\n",
       "    .dataframe tbody tr th {\n",
       "        vertical-align: top;\n",
       "    }\n",
       "\n",
       "    .dataframe thead th {\n",
       "        text-align: right;\n",
       "    }\n",
       "</style>\n",
       "<table border=\"1\" class=\"dataframe\">\n",
       "  <thead>\n",
       "    <tr style=\"text-align: right;\">\n",
       "      <th></th>\n",
       "      <th>from</th>\n",
       "      <th>to</th>\n",
       "      <th>value</th>\n",
       "      <th>from_id</th>\n",
       "      <th>to_id</th>\n",
       "    </tr>\n",
       "  </thead>\n",
       "  <tbody>\n",
       "    <tr>\n",
       "      <th>0</th>\n",
       "      <td>慶應義塾大学</td>\n",
       "      <td>研究</td>\n",
       "      <td>0.025952</td>\n",
       "      <td>4</td>\n",
       "      <td>1405</td>\n",
       "    </tr>\n",
       "    <tr>\n",
       "      <th>1</th>\n",
       "      <td>慶應義塾大学</td>\n",
       "      <td>学部</td>\n",
       "      <td>0.022282</td>\n",
       "      <td>4</td>\n",
       "      <td>439</td>\n",
       "    </tr>\n",
       "    <tr>\n",
       "      <th>2</th>\n",
       "      <td>慶應義塾大学</td>\n",
       "      <td>月</td>\n",
       "      <td>0.020959</td>\n",
       "      <td>4</td>\n",
       "      <td>2603</td>\n",
       "    </tr>\n",
       "    <tr>\n",
       "      <th>3</th>\n",
       "      <td>慶應義塾大学</td>\n",
       "      <td>学生</td>\n",
       "      <td>0.020782</td>\n",
       "      <td>4</td>\n",
       "      <td>1603</td>\n",
       "    </tr>\n",
       "    <tr>\n",
       "      <th>4</th>\n",
       "      <td>慶應義塾大学</td>\n",
       "      <td>情報</td>\n",
       "      <td>0.019950</td>\n",
       "      <td>4</td>\n",
       "      <td>2291</td>\n",
       "    </tr>\n",
       "  </tbody>\n",
       "</table>\n",
       "</div>"
      ],
      "text/plain": [
       "     from  to     value  from_id  to_id\n",
       "0  慶應義塾大学  研究  0.025952        4   1405\n",
       "1  慶應義塾大学  学部  0.022282        4    439\n",
       "2  慶應義塾大学   月  0.020959        4   2603\n",
       "3  慶應義塾大学  学生  0.020782        4   1603\n",
       "4  慶應義塾大学  情報  0.019950        4   2291"
      ]
     },
     "execution_count": 8,
     "metadata": {},
     "output_type": "execute_result"
    }
   ],
   "source": [
    "link_df = pd.read_csv(\"links.csv\", index_col=0)\n",
    "link_df.head()"
   ]
  },
  {
   "cell_type": "code",
   "execution_count": 9,
   "metadata": {
    "scrolled": true
   },
   "outputs": [
    {
     "data": {
      "text/html": [
       "<div>\n",
       "<style scoped>\n",
       "    .dataframe tbody tr th:only-of-type {\n",
       "        vertical-align: middle;\n",
       "    }\n",
       "\n",
       "    .dataframe tbody tr th {\n",
       "        vertical-align: top;\n",
       "    }\n",
       "\n",
       "    .dataframe thead th {\n",
       "        text-align: right;\n",
       "    }\n",
       "</style>\n",
       "<table border=\"1\" class=\"dataframe\">\n",
       "  <thead>\n",
       "    <tr style=\"text-align: right;\">\n",
       "      <th></th>\n",
       "      <th>query</th>\n",
       "      <th>from_ut</th>\n",
       "      <th>from_ky</th>\n",
       "      <th>from_wa</th>\n",
       "      <th>from_ko</th>\n",
       "      <th>from_me</th>\n",
       "      <th>shortest_step</th>\n",
       "      <th>label_ut</th>\n",
       "      <th>label_ky</th>\n",
       "      <th>label_wa</th>\n",
       "      <th>label_ko</th>\n",
       "      <th>label_me</th>\n",
       "      <th>index</th>\n",
       "    </tr>\n",
       "  </thead>\n",
       "  <tbody>\n",
       "    <tr>\n",
       "      <th>0</th>\n",
       "      <td>東京大学</td>\n",
       "      <td>0</td>\n",
       "      <td>2</td>\n",
       "      <td>2</td>\n",
       "      <td>2</td>\n",
       "      <td>2</td>\n",
       "      <td>0</td>\n",
       "      <td>True</td>\n",
       "      <td>False</td>\n",
       "      <td>False</td>\n",
       "      <td>False</td>\n",
       "      <td>False</td>\n",
       "      <td>0</td>\n",
       "    </tr>\n",
       "    <tr>\n",
       "      <th>1</th>\n",
       "      <td>京都大学</td>\n",
       "      <td>2</td>\n",
       "      <td>0</td>\n",
       "      <td>2</td>\n",
       "      <td>2</td>\n",
       "      <td>2</td>\n",
       "      <td>0</td>\n",
       "      <td>False</td>\n",
       "      <td>True</td>\n",
       "      <td>False</td>\n",
       "      <td>False</td>\n",
       "      <td>False</td>\n",
       "      <td>1</td>\n",
       "    </tr>\n",
       "    <tr>\n",
       "      <th>2</th>\n",
       "      <td>明治大学</td>\n",
       "      <td>2</td>\n",
       "      <td>2</td>\n",
       "      <td>2</td>\n",
       "      <td>2</td>\n",
       "      <td>0</td>\n",
       "      <td>0</td>\n",
       "      <td>False</td>\n",
       "      <td>False</td>\n",
       "      <td>False</td>\n",
       "      <td>False</td>\n",
       "      <td>True</td>\n",
       "      <td>2</td>\n",
       "    </tr>\n",
       "    <tr>\n",
       "      <th>3</th>\n",
       "      <td>早稲田大学</td>\n",
       "      <td>2</td>\n",
       "      <td>2</td>\n",
       "      <td>0</td>\n",
       "      <td>2</td>\n",
       "      <td>2</td>\n",
       "      <td>0</td>\n",
       "      <td>False</td>\n",
       "      <td>False</td>\n",
       "      <td>True</td>\n",
       "      <td>False</td>\n",
       "      <td>False</td>\n",
       "      <td>3</td>\n",
       "    </tr>\n",
       "    <tr>\n",
       "      <th>4</th>\n",
       "      <td>慶應義塾大学</td>\n",
       "      <td>2</td>\n",
       "      <td>2</td>\n",
       "      <td>2</td>\n",
       "      <td>0</td>\n",
       "      <td>2</td>\n",
       "      <td>0</td>\n",
       "      <td>False</td>\n",
       "      <td>False</td>\n",
       "      <td>False</td>\n",
       "      <td>True</td>\n",
       "      <td>False</td>\n",
       "      <td>4</td>\n",
       "    </tr>\n",
       "    <tr>\n",
       "      <th>5</th>\n",
       "      <td>PDF</td>\n",
       "      <td>2</td>\n",
       "      <td>2</td>\n",
       "      <td>3</td>\n",
       "      <td>3</td>\n",
       "      <td>2</td>\n",
       "      <td>2</td>\n",
       "      <td>True</td>\n",
       "      <td>True</td>\n",
       "      <td>False</td>\n",
       "      <td>False</td>\n",
       "      <td>True</td>\n",
       "      <td>5</td>\n",
       "    </tr>\n",
       "  </tbody>\n",
       "</table>\n",
       "</div>"
      ],
      "text/plain": [
       "    query  from_ut  from_ky  from_wa  from_ko  from_me  shortest_step  \\\n",
       "0    東京大学        0        2        2        2        2              0   \n",
       "1    京都大学        2        0        2        2        2              0   \n",
       "2    明治大学        2        2        2        2        0              0   \n",
       "3   早稲田大学        2        2        0        2        2              0   \n",
       "4  慶應義塾大学        2        2        2        0        2              0   \n",
       "5     PDF        2        2        3        3        2              2   \n",
       "\n",
       "   label_ut  label_ky  label_wa  label_ko  label_me  index  \n",
       "0      True     False     False     False     False      0  \n",
       "1     False      True     False     False     False      1  \n",
       "2     False     False     False     False      True      2  \n",
       "3     False     False      True     False     False      3  \n",
       "4     False     False     False      True     False      4  \n",
       "5      True      True     False     False      True      5  "
      ]
     },
     "execution_count": 9,
     "metadata": {},
     "output_type": "execute_result"
    }
   ],
   "source": [
    "node_df = pd.read_csv(\"nodes.csv\", index_col=0)\n",
    "node_df.head(6)"
   ]
  },
  {
   "cell_type": "code",
   "execution_count": 10,
   "metadata": {},
   "outputs": [
    {
     "data": {
      "text/html": [
       "<div>\n",
       "<style scoped>\n",
       "    .dataframe tbody tr th:only-of-type {\n",
       "        vertical-align: middle;\n",
       "    }\n",
       "\n",
       "    .dataframe tbody tr th {\n",
       "        vertical-align: top;\n",
       "    }\n",
       "\n",
       "    .dataframe thead th {\n",
       "        text-align: right;\n",
       "    }\n",
       "</style>\n",
       "<table border=\"1\" class=\"dataframe\">\n",
       "  <thead>\n",
       "    <tr style=\"text-align: right;\">\n",
       "      <th></th>\n",
       "      <th>query</th>\n",
       "      <th>from_ut</th>\n",
       "      <th>from_ky</th>\n",
       "      <th>from_wa</th>\n",
       "      <th>from_ko</th>\n",
       "      <th>from_me</th>\n",
       "      <th>shortest_step</th>\n",
       "      <th>label_ut</th>\n",
       "      <th>label_ky</th>\n",
       "      <th>label_wa</th>\n",
       "      <th>label_ko</th>\n",
       "      <th>label_me</th>\n",
       "      <th>index</th>\n",
       "    </tr>\n",
       "  </thead>\n",
       "  <tbody>\n",
       "    <tr>\n",
       "      <th>0</th>\n",
       "      <td>東京大学</td>\n",
       "      <td>0</td>\n",
       "      <td>2</td>\n",
       "      <td>2</td>\n",
       "      <td>2</td>\n",
       "      <td>2</td>\n",
       "      <td>0</td>\n",
       "      <td>True</td>\n",
       "      <td>False</td>\n",
       "      <td>False</td>\n",
       "      <td>False</td>\n",
       "      <td>False</td>\n",
       "      <td>0</td>\n",
       "    </tr>\n",
       "    <tr>\n",
       "      <th>1</th>\n",
       "      <td>京都大学</td>\n",
       "      <td>2</td>\n",
       "      <td>0</td>\n",
       "      <td>2</td>\n",
       "      <td>2</td>\n",
       "      <td>2</td>\n",
       "      <td>0</td>\n",
       "      <td>False</td>\n",
       "      <td>True</td>\n",
       "      <td>False</td>\n",
       "      <td>False</td>\n",
       "      <td>False</td>\n",
       "      <td>1</td>\n",
       "    </tr>\n",
       "    <tr>\n",
       "      <th>2</th>\n",
       "      <td>明治大学</td>\n",
       "      <td>2</td>\n",
       "      <td>2</td>\n",
       "      <td>2</td>\n",
       "      <td>2</td>\n",
       "      <td>0</td>\n",
       "      <td>0</td>\n",
       "      <td>False</td>\n",
       "      <td>False</td>\n",
       "      <td>False</td>\n",
       "      <td>False</td>\n",
       "      <td>True</td>\n",
       "      <td>2</td>\n",
       "    </tr>\n",
       "    <tr>\n",
       "      <th>3</th>\n",
       "      <td>早稲田大学</td>\n",
       "      <td>2</td>\n",
       "      <td>2</td>\n",
       "      <td>0</td>\n",
       "      <td>2</td>\n",
       "      <td>2</td>\n",
       "      <td>0</td>\n",
       "      <td>False</td>\n",
       "      <td>False</td>\n",
       "      <td>True</td>\n",
       "      <td>False</td>\n",
       "      <td>False</td>\n",
       "      <td>3</td>\n",
       "    </tr>\n",
       "    <tr>\n",
       "      <th>4</th>\n",
       "      <td>慶應義塾大学</td>\n",
       "      <td>2</td>\n",
       "      <td>2</td>\n",
       "      <td>2</td>\n",
       "      <td>0</td>\n",
       "      <td>2</td>\n",
       "      <td>0</td>\n",
       "      <td>False</td>\n",
       "      <td>False</td>\n",
       "      <td>False</td>\n",
       "      <td>True</td>\n",
       "      <td>False</td>\n",
       "      <td>4</td>\n",
       "    </tr>\n",
       "  </tbody>\n",
       "</table>\n",
       "</div>"
      ],
      "text/plain": [
       "    query  from_ut  from_ky  from_wa  from_ko  from_me  shortest_step  \\\n",
       "0    東京大学        0        2        2        2        2              0   \n",
       "1    京都大学        2        0        2        2        2              0   \n",
       "2    明治大学        2        2        2        2        0              0   \n",
       "3   早稲田大学        2        2        0        2        2              0   \n",
       "4  慶應義塾大学        2        2        2        0        2              0   \n",
       "\n",
       "   label_ut  label_ky  label_wa  label_ko  label_me  index  \n",
       "0      True     False     False     False     False      0  \n",
       "1     False      True     False     False     False      1  \n",
       "2     False     False     False     False      True      2  \n",
       "3     False     False      True     False     False      3  \n",
       "4     False     False     False      True     False      4  "
      ]
     },
     "execution_count": 10,
     "metadata": {},
     "output_type": "execute_result"
    }
   ],
   "source": [
    "node_df[node_df.shortest_step == 0]"
   ]
  },
  {
   "cell_type": "code",
   "execution_count": 14,
   "metadata": {},
   "outputs": [
    {
     "data": {
      "text/plain": [
       "Index(['query', 'from_ut', 'from_ky', 'from_wa', 'from_ko', 'from_me',\n",
       "       'shortest_step', 'label_ut', 'label_ky', 'label_wa', 'label_ko',\n",
       "       'label_me', 'index'],\n",
       "      dtype='object')"
      ]
     },
     "execution_count": 14,
     "metadata": {},
     "output_type": "execute_result"
    }
   ],
   "source": [
    "node_df.columns"
   ]
  },
  {
   "cell_type": "code",
   "execution_count": 11,
   "metadata": {},
   "outputs": [],
   "source": [
    "node_ids = node_df['index'].values"
   ]
  },
  {
   "cell_type": "code",
   "execution_count": 29,
   "metadata": {},
   "outputs": [],
   "source": [
    "nodes_data = node_df[['from_ut', 'from_ky', 'from_wa', 'from_ko', 'from_me']].values"
   ]
  },
  {
   "cell_type": "code",
   "execution_count": 51,
   "metadata": {},
   "outputs": [],
   "source": [
    "nearest_univ_nodes = [node_data.argmin() for node_data in nodes_data[5:]]"
   ]
  },
  {
   "cell_type": "code",
   "execution_count": 53,
   "metadata": {},
   "outputs": [],
   "source": [
    "from numpy.random import *\n",
    "positions = []\n",
    "for nearest_univ_node in nearest_univ_nodes:\n",
    "    if nearest_univ_node == 0:\n",
    "        p = np.array([uniform(-3, -2, 1)[0], uniform(2, 3, 1)[0], uniform(2, 3, 1)[0]])\n",
    "    elif nearest_univ_node == 1:\n",
    "        p = uniform(-3, -2, 3)\n",
    "    elif nearest_univ_node == 2:\n",
    "        p = np.array([uniform(2, 3, 1)[0], uniform(-3, -2, 1)[0], uniform(2, 3, 1)[0]])\n",
    "    elif nearest_univ_node == 3:\n",
    "        p = np.array([uniform(-3, -2, 1)[0], uniform(2, 3, 1)[0], uniform(-3, -2, 1)[0]])\n",
    "    elif nearest_univ_node == 4:\n",
    "        p = np.array([uniform(2, 3, 1)[0], uniform(2, 3, 1)[0], uniform(-3, -2, 1)[0]])\n",
    "    positions.append(p)\n",
    "not_univ_nodes_p = np.array(positions)"
   ]
  },
  {
   "cell_type": "code",
   "execution_count": 60,
   "metadata": {},
   "outputs": [],
   "source": [
    "univs_positions = np.zeros((5, 3))\n",
    "univs_positions[0] = np.array([-1,1,1])\n",
    "univs_positions[1] = np.array([-1,-1,-1])\n",
    "univs_positions[2] = np.array([1,1,-1])\n",
    "univs_positions[3] = np.array([1,-1,1])\n",
    "univs_positions[4] = np.array([-1,1,-1])"
   ]
  },
  {
   "cell_type": "code",
   "execution_count": 61,
   "metadata": {},
   "outputs": [],
   "source": [
    "start_positions = np.vstack((univs_positions, not_univ_nodes_p))"
   ]
  },
  {
   "cell_type": "code",
   "execution_count": 6,
   "metadata": {},
   "outputs": [],
   "source": [
    "# from_ids =  np.array(link_df.from_id)\n",
    "# to_ids = np.array(link_df.to_id)\n",
    "# distances = np.array(node_df.shortest_step)\n",
    "# from numpy.random import *\n",
    "# start_positions = uniform(-2,2, (len(node_ids), 3))\n",
    "# start_positions[0] = np.array([-1,1,1])\n",
    "# start_positions[1] = np.array([-1,-1,-1])\n",
    "# start_positions[2] = np.array([1,1,-1])\n",
    "# start_positions[3] = np.array([1,-1,1])\n",
    "# start_positions[4] = np.array([-1,1,-1])\n",
    "# import copy\n",
    "# positions = copy.deepcopy(start_positions)"
   ]
  },
  {
   "cell_type": "code",
   "execution_count": 69,
   "metadata": {},
   "outputs": [
    {
     "name": "stdout",
     "output_type": "stream",
     "text": [
      "1140.7899356938567\n",
      "158.91895627483052\n"
     ]
    },
    {
     "ename": "KeyboardInterrupt",
     "evalue": "",
     "output_type": "error",
     "traceback": [
      "\u001b[0;31m---------------------------------------------------------------------------\u001b[0m",
      "\u001b[0;31mKeyboardInterrupt\u001b[0m                         Traceback (most recent call last)",
      "\u001b[0;32m<ipython-input-69-8db3f768cad8>\u001b[0m in \u001b[0;36m<module>\u001b[0;34m()\u001b[0m\n\u001b[1;32m      8\u001b[0m             \u001b[0mP\u001b[0m \u001b[0;34m=\u001b[0m \u001b[0mpositions\u001b[0m\u001b[0;34m[\u001b[0m\u001b[0mnode_id\u001b[0m\u001b[0;34m]\u001b[0m\u001b[0;34m\u001b[0m\u001b[0m\n\u001b[1;32m      9\u001b[0m             \u001b[0mF\u001b[0m \u001b[0;34m=\u001b[0m \u001b[0mnp\u001b[0m\u001b[0;34m.\u001b[0m\u001b[0marray\u001b[0m\u001b[0;34m(\u001b[0m\u001b[0;34m[\u001b[0m\u001b[0;36m0\u001b[0m\u001b[0;34m,\u001b[0m \u001b[0;36m0\u001b[0m\u001b[0;34m,\u001b[0m \u001b[0;36m0\u001b[0m\u001b[0;34m]\u001b[0m\u001b[0;34m)\u001b[0m\u001b[0;34m\u001b[0m\u001b[0m\n\u001b[0;32m---> 10\u001b[0;31m             \u001b[0mlinked_node_ids\u001b[0m \u001b[0;34m=\u001b[0m \u001b[0mto_ids\u001b[0m\u001b[0;34m[\u001b[0m\u001b[0mnp\u001b[0m\u001b[0;34m.\u001b[0m\u001b[0mwhere\u001b[0m\u001b[0;34m(\u001b[0m\u001b[0mfrom_ids\u001b[0m \u001b[0;34m==\u001b[0m \u001b[0mnode_id\u001b[0m\u001b[0;34m)\u001b[0m\u001b[0;34m]\u001b[0m\u001b[0;34m\u001b[0m\u001b[0m\n\u001b[0m\u001b[1;32m     11\u001b[0m             \u001b[0;32mfor\u001b[0m \u001b[0mnode_i_id\u001b[0m \u001b[0;32min\u001b[0m \u001b[0mlinked_node_ids\u001b[0m\u001b[0;34m:\u001b[0m\u001b[0;34m\u001b[0m\u001b[0m\n\u001b[1;32m     12\u001b[0m                 \u001b[0mD_i\u001b[0m \u001b[0;34m=\u001b[0m \u001b[0mfloat\u001b[0m\u001b[0;34m(\u001b[0m\u001b[0mdistances\u001b[0m\u001b[0;34m[\u001b[0m\u001b[0mnode_i_id\u001b[0m\u001b[0;34m]\u001b[0m \u001b[0;34m+\u001b[0m \u001b[0;36m1\u001b[0m\u001b[0;34m)\u001b[0m\u001b[0;34m\u001b[0m\u001b[0m\n",
      "\u001b[0;31mKeyboardInterrupt\u001b[0m: "
     ]
    }
   ],
   "source": [
    "# 重心法\n",
    "import copy\n",
    "positions = copy.deepcopy(start_positions)\n",
    "for i in range(500): \n",
    "    Fs = [0]* len(node_ids)\n",
    "    for node_id in node_ids:\n",
    "        if node_id not in [0, 1, 2, 3, 4]:\n",
    "            P = positions[node_id]\n",
    "            F = np.array([0, 0, 0])\n",
    "            linked_node_ids = to_ids[np.where(from_ids == node_id)]\n",
    "            for node_i_id in linked_node_ids:\n",
    "                D_i = float(distances[node_i_id] + 1)\n",
    "                P_i = positions[node_i_id]\n",
    "                x_i = (P_i - P) - ((P_i - P) / np.linalg.norm(P_i - P)) # バネの伸びベクトル(バネのもとの長さは1)\n",
    "                F_i = x_i * (1/D_i)  # Nに働く力ベクトルを算出(バネ定数はD_iの逆数)\n",
    "                F = F + F_i\n",
    "            Fs[node_id] =F / len(linked_node_ids)\n",
    "    for node_id in node_ids:\n",
    "        positions[node_id] = positions[node_id] + Fs[node_id]\n",
    "    if i % 10 == 0:\n",
    "        print(np.sum(np.absolute(np.array(Fs[5:]))))"
   ]
  },
  {
   "cell_type": "code",
   "execution_count": 67,
   "metadata": {
    "scrolled": true
   },
   "outputs": [
    {
     "name": "stdout",
     "output_type": "stream",
     "text": [
      "48.485859719452286\n",
      "32.49836392939171\n",
      "23.7932050257033\n",
      "18.39887680284659\n",
      "14.814797752635707\n",
      "12.331077621041269\n",
      "10.560151035954886\n",
      "9.242227427327007\n",
      "8.239636341735821\n",
      "7.461290909544442\n",
      "6.84799022427804\n",
      "6.354325528555847\n",
      "5.949979208672138\n",
      "5.613248075642769\n",
      "5.329277734971424\n",
      "5.088125056760351\n",
      "4.881611735984054\n",
      "4.700002098362922\n",
      "4.537864585049606\n",
      "4.393138055597275\n",
      "4.263312844229639\n",
      "4.146176710295102\n",
      "4.039973560777379\n",
      "3.9431444270343206\n",
      "3.8532974756037337\n",
      "3.77017014608897\n",
      "3.693007650732934\n",
      "3.6209997004027272\n",
      "3.5538528339490423\n",
      "3.491097427095971\n",
      "3.4326642104905916\n",
      "3.3775452317415997\n",
      "3.3255027119023644\n",
      "3.275873305265272\n",
      "3.2283116825706366\n",
      "3.18258989661263\n",
      "3.139253159586682\n",
      "3.0976532174903637\n",
      "3.0575804731798852\n",
      "3.019103189852526\n",
      "2.9819101407054367\n",
      "2.945944258372688\n",
      "2.91105696303956\n",
      "2.8771358209805773\n",
      "2.844215984403352\n",
      "2.8122211644418917\n",
      "2.7812640878053996\n",
      "2.751372805887579\n",
      "2.722232776167408\n",
      "2.6939580751540637\n"
     ]
    }
   ],
   "source": [
    "# takeuchi\n",
    "import copy\n",
    "positions = copy.deepcopy(start_positions)\n",
    "for i in range(500): \n",
    "    Fs = [0]* len(node_ids)\n",
    "    for node_id in node_ids:\n",
    "        if node_id not in [0, 1, 2, 3, 4]:\n",
    "            P = positions[node_id]\n",
    "            F = np.array([0, 0, 0])\n",
    "            linked_node_ids = to_ids[np.where(from_ids == node_id)]\n",
    "            for node_i_id in linked_node_ids:\n",
    "                D_i = float(distances[node_i_id] + 1)\n",
    "                P_i = positions[node_i_id]\n",
    "                x_i = (P_i - P) - ((P_i - P) / np.linalg.norm(P_i - P)) # バネの伸びベクトル(バネのもとの長さは1)\n",
    "                F_i = x_i * (1/D_i)  # Nに働く力ベクトルを算出(バネ定数はD_iの逆数)\n",
    "                F = F + F_i\n",
    "            Fs[node_id] = F * D_i * 0.001\n",
    "    for node_id in node_ids:\n",
    "        positions[node_id] = positions[node_id] + Fs[node_id]\n",
    "    if i % 10 == 0:\n",
    "        print(np.sum(np.absolute(np.array(Fs[5:]))))"
   ]
  },
  {
   "cell_type": "code",
   "execution_count": 68,
   "metadata": {},
   "outputs": [],
   "source": [
    "# pd.DataFrame(positions, columns=['x','y','z']).to_csv('normal2.csv')\n",
    "pd.DataFrame(positions, columns=['x','y','z']).to_csv('takeuchi2.csv')"
   ]
  },
  {
   "cell_type": "code",
   "execution_count": 179,
   "metadata": {},
   "outputs": [
    {
     "data": {
      "text/plain": [
       "array([[-1.        ,  1.        ,  1.        ],\n",
       "       [-1.        , -1.        , -1.        ],\n",
       "       [ 1.        ,  1.        , -1.        ],\n",
       "       ...,\n",
       "       [ 0.6928154 ,  1.68818213, -0.9419346 ],\n",
       "       [ 0.66579461, -0.43664928, -1.49406485],\n",
       "       [ 1.44154426,  1.92945304, -0.58298092]])"
      ]
     },
     "execution_count": 179,
     "metadata": {},
     "output_type": "execute_result"
    }
   ],
   "source": [
    "start_positions"
   ]
  },
  {
   "cell_type": "code",
   "execution_count": 180,
   "metadata": {},
   "outputs": [
    {
     "data": {
      "text/plain": [
       "array([[-1.        ,  1.        ,  1.        ],\n",
       "       [-1.        , -1.        , -1.        ],\n",
       "       [ 1.        ,  1.        , -1.        ],\n",
       "       ...,\n",
       "       [ 0.36739009,  1.24925322, -0.72338481],\n",
       "       [ 0.45182163, -0.13944754, -0.7450748 ],\n",
       "       [ 0.05837693,  0.54831132, -0.02332937]])"
      ]
     },
     "execution_count": 180,
     "metadata": {},
     "output_type": "execute_result"
    }
   ],
   "source": [
    "positions"
   ]
  },
  {
   "cell_type": "code",
   "execution_count": null,
   "metadata": {},
   "outputs": [],
   "source": []
  },
  {
   "cell_type": "code",
   "execution_count": null,
   "metadata": {},
   "outputs": [],
   "source": []
  }
 ],
 "metadata": {
  "kernelspec": {
   "display_name": "Python 3",
   "language": "python",
   "name": "python3"
  },
  "language_info": {
   "codemirror_mode": {
    "name": "ipython",
    "version": 3
   },
   "file_extension": ".py",
   "mimetype": "text/x-python",
   "name": "python",
   "nbconvert_exporter": "python",
   "pygments_lexer": "ipython3",
   "version": "3.6.4"
  }
 },
 "nbformat": 4,
 "nbformat_minor": 2
}
